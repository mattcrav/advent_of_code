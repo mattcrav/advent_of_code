{
 "cells": [
  {
   "cell_type": "code",
   "execution_count": 30,
   "metadata": {},
   "outputs": [],
   "source": [
    "import pandas as pd\n",
    "import numpy as np"
   ]
  },
  {
   "cell_type": "code",
   "execution_count": 31,
   "metadata": {},
   "outputs": [
    {
     "data": {
      "text/html": [
       "<div>\n",
       "<style scoped>\n",
       "    .dataframe tbody tr th:only-of-type {\n",
       "        vertical-align: middle;\n",
       "    }\n",
       "\n",
       "    .dataframe tbody tr th {\n",
       "        vertical-align: top;\n",
       "    }\n",
       "\n",
       "    .dataframe thead th {\n",
       "        text-align: right;\n",
       "    }\n",
       "</style>\n",
       "<table border=\"1\" class=\"dataframe\">\n",
       "  <thead>\n",
       "    <tr style=\"text-align: right;\">\n",
       "      <th></th>\n",
       "      <th>raw</th>\n",
       "      <th>l</th>\n",
       "    </tr>\n",
       "  </thead>\n",
       "  <tbody>\n",
       "    <tr>\n",
       "      <th>0</th>\n",
       "      <td>{&lt;&lt;[{(&lt;&lt;&lt;([[&lt;&lt;{}()&gt;&lt;&lt;&gt;{}&gt;]{[(){}]{{}()}}]]&lt;[{(...</td>\n",
       "      <td>[{, &lt;, &lt;, [, {, (, &lt;, &lt;, &lt;, (, [, [, &lt;, &lt;, {, ...</td>\n",
       "    </tr>\n",
       "    <tr>\n",
       "      <th>1</th>\n",
       "      <td>(({[(&lt;{[[{{[{[&lt;&gt;[]][{}{}]}([{}()][&lt;&gt;()])][[{()...</td>\n",
       "      <td>[(, (, {, [, (, &lt;, {, [, [, {, {, [, {, [, &lt;, ...</td>\n",
       "    </tr>\n",
       "    <tr>\n",
       "      <th>2</th>\n",
       "      <td>&lt;{({[(&lt;{[[((({()()}&lt;&lt;&gt;()&gt;)){&lt;{[]()}&lt;[]()&gt;&gt;&lt;[()...</td>\n",
       "      <td>[&lt;, {, (, {, [, (, &lt;, {, [, [, (, (, (, {, (, ...</td>\n",
       "    </tr>\n",
       "    <tr>\n",
       "      <th>3</th>\n",
       "      <td>&lt;{&lt;[{[(&lt;&lt;(&lt;(&lt;[(){}]{()()}&gt;)[{({}())[&lt;&gt;{}]}]&gt;((...</td>\n",
       "      <td>[&lt;, {, &lt;, [, {, [, (, &lt;, &lt;, (, &lt;, (, &lt;, [, (, ...</td>\n",
       "    </tr>\n",
       "    <tr>\n",
       "      <th>4</th>\n",
       "      <td>&lt;[&lt;{(&lt;{{{{[{[{[]{}}&lt;()[]&gt;](&lt;[]{}&gt;&lt;[][]&gt;)}&lt;&lt;&lt;&lt;&gt;...</td>\n",
       "      <td>[&lt;, [, &lt;, {, (, &lt;, {, {, {, {, [, {, [, {, [, ...</td>\n",
       "    </tr>\n",
       "  </tbody>\n",
       "</table>\n",
       "</div>"
      ],
      "text/plain": [
       "                                                 raw  \\\n",
       "0  {<<[{(<<<([[<<{}()><<>{}>]{[(){}]{{}()}}]]<[{(...   \n",
       "1  (({[(<{[[{{[{[<>[]][{}{}]}([{}()][<>()])][[{()...   \n",
       "2  <{({[(<{[[((({()()}<<>()>)){<{[]()}<[]()>><[()...   \n",
       "3  <{<[{[(<<(<(<[(){}]{()()}>)[{({}())[<>{}]}]>((...   \n",
       "4  <[<{(<{{{{[{[{[]{}}<()[]>](<[]{}><[][]>)}<<<<>...   \n",
       "\n",
       "                                                   l  \n",
       "0  [{, <, <, [, {, (, <, <, <, (, [, [, <, <, {, ...  \n",
       "1  [(, (, {, [, (, <, {, [, [, {, {, [, {, [, <, ...  \n",
       "2  [<, {, (, {, [, (, <, {, [, [, (, (, (, {, (, ...  \n",
       "3  [<, {, <, [, {, [, (, <, <, (, <, (, <, [, (, ...  \n",
       "4  [<, [, <, {, (, <, {, {, {, {, [, {, [, {, [, ...  "
      ]
     },
     "execution_count": 31,
     "metadata": {},
     "output_type": "execute_result"
    }
   ],
   "source": [
    "df = pd.read_csv('2021_day10.csv', header=None, names=['raw'])\n",
    "df['l'] = df['raw'].apply(lambda x: list(x))\n",
    "df.head()"
   ]
  },
  {
   "cell_type": "code",
   "execution_count": 32,
   "metadata": {},
   "outputs": [],
   "source": [
    "pairs = {\n",
    "    '(':')',\n",
    "    '[':']',\n",
    "    '{':'}',\n",
    "    '<':'>'\n",
    "}\n",
    "\n",
    "points = {\n",
    "    ')': 3,\n",
    "    ']': 57,\n",
    "    '}': 1197,\n",
    "    '>': 25137\n",
    "}\n",
    "def get_points(x):\n",
    "    chunks = []\n",
    "    for i in x:\n",
    "        if i in pairs.keys():\n",
    "            chunks.append(i)\n",
    "        if i in pairs.values():\n",
    "            if pairs[chunks[-1]] == i:\n",
    "                chunks.pop()\n",
    "            else:\n",
    "                return points[i]\n",
    "    return 0"
   ]
  },
  {
   "cell_type": "code",
   "execution_count": 33,
   "metadata": {},
   "outputs": [],
   "source": [
    "df['points'] = df['l'].apply(get_points)"
   ]
  },
  {
   "cell_type": "code",
   "execution_count": 34,
   "metadata": {},
   "outputs": [],
   "source": [
    "inc = df.loc[df['points'] == 0]"
   ]
  },
  {
   "cell_type": "code",
   "execution_count": 35,
   "metadata": {},
   "outputs": [],
   "source": [
    "pairs = {\n",
    "    '(':')',\n",
    "    '[':']',\n",
    "    '{':'}',\n",
    "    '<':'>'\n",
    "}\n",
    "\n",
    "points = {\n",
    "    ')': 1,\n",
    "    ']': 2,\n",
    "    '}': 3,\n",
    "    '>': 4\n",
    "}\n",
    "\n",
    "def get_score(x):\n",
    "    chunks = []\n",
    "    for i in x:\n",
    "        if i in pairs.keys():\n",
    "            chunks.append(i)\n",
    "        if i in pairs.values():\n",
    "            if pairs[chunks[-1]] == i:\n",
    "                chunks.pop()\n",
    "    comp = [pairs[x] for x in chunks[::-1]]\n",
    "    score = 0\n",
    "    for c in comp:\n",
    "        score *= 5\n",
    "        score += points[c]\n",
    "    return score"
   ]
  },
  {
   "cell_type": "code",
   "execution_count": 36,
   "metadata": {},
   "outputs": [
    {
     "name": "stderr",
     "output_type": "stream",
     "text": [
      "<ipython-input-36-57c0e322d26e>:1: SettingWithCopyWarning: \n",
      "A value is trying to be set on a copy of a slice from a DataFrame.\n",
      "Try using .loc[row_indexer,col_indexer] = value instead\n",
      "\n",
      "See the caveats in the documentation: https://pandas.pydata.org/pandas-docs/stable/user_guide/indexing.html#returning-a-view-versus-a-copy\n",
      "  inc['score'] = inc['l'].apply(get_score)\n"
     ]
    },
    {
     "data": {
      "text/html": [
       "<div>\n",
       "<style scoped>\n",
       "    .dataframe tbody tr th:only-of-type {\n",
       "        vertical-align: middle;\n",
       "    }\n",
       "\n",
       "    .dataframe tbody tr th {\n",
       "        vertical-align: top;\n",
       "    }\n",
       "\n",
       "    .dataframe thead th {\n",
       "        text-align: right;\n",
       "    }\n",
       "</style>\n",
       "<table border=\"1\" class=\"dataframe\">\n",
       "  <thead>\n",
       "    <tr style=\"text-align: right;\">\n",
       "      <th></th>\n",
       "      <th>raw</th>\n",
       "      <th>l</th>\n",
       "      <th>points</th>\n",
       "      <th>score</th>\n",
       "    </tr>\n",
       "  </thead>\n",
       "  <tbody>\n",
       "    <tr>\n",
       "      <th>1</th>\n",
       "      <td>(({[(&lt;{[[{{[{[&lt;&gt;[]][{}{}]}([{}()][&lt;&gt;()])][[{()...</td>\n",
       "      <td>[(, (, {, [, (, &lt;, {, [, [, {, {, [, {, [, &lt;, ...</td>\n",
       "      <td>0</td>\n",
       "      <td>1901388456</td>\n",
       "    </tr>\n",
       "    <tr>\n",
       "      <th>2</th>\n",
       "      <td>&lt;{({[(&lt;{[[((({()()}&lt;&lt;&gt;()&gt;)){&lt;{[]()}&lt;[]()&gt;&gt;&lt;[()...</td>\n",
       "      <td>[&lt;, {, (, {, [, (, &lt;, {, [, [, (, (, (, {, (, ...</td>\n",
       "      <td>0</td>\n",
       "      <td>1215926669</td>\n",
       "    </tr>\n",
       "    <tr>\n",
       "      <th>3</th>\n",
       "      <td>&lt;{&lt;[{[(&lt;&lt;(&lt;(&lt;[(){}]{()()}&gt;)[{({}())[&lt;&gt;{}]}]&gt;((...</td>\n",
       "      <td>[&lt;, {, &lt;, [, {, [, (, &lt;, &lt;, (, &lt;, (, &lt;, [, (, ...</td>\n",
       "      <td>0</td>\n",
       "      <td>5687445994</td>\n",
       "    </tr>\n",
       "    <tr>\n",
       "      <th>4</th>\n",
       "      <td>&lt;[&lt;{(&lt;{{{{[{[{[]{}}&lt;()[]&gt;](&lt;[]{}&gt;&lt;[][]&gt;)}&lt;&lt;&lt;&lt;&gt;...</td>\n",
       "      <td>[&lt;, [, &lt;, {, (, &lt;, {, {, {, {, [, {, [, {, [, ...</td>\n",
       "      <td>0</td>\n",
       "      <td>168654239</td>\n",
       "    </tr>\n",
       "    <tr>\n",
       "      <th>7</th>\n",
       "      <td>&lt;{&lt;({(&lt;(&lt;{{&lt;[((){})[()&lt;&gt;]]{{&lt;&gt;{}}([][])}&gt;}[&lt;{[...</td>\n",
       "      <td>[&lt;, {, &lt;, (, {, (, &lt;, (, &lt;, {, {, &lt;, [, (, (, ...</td>\n",
       "      <td>0</td>\n",
       "      <td>1708369</td>\n",
       "    </tr>\n",
       "  </tbody>\n",
       "</table>\n",
       "</div>"
      ],
      "text/plain": [
       "                                                 raw  \\\n",
       "1  (({[(<{[[{{[{[<>[]][{}{}]}([{}()][<>()])][[{()...   \n",
       "2  <{({[(<{[[((({()()}<<>()>)){<{[]()}<[]()>><[()...   \n",
       "3  <{<[{[(<<(<(<[(){}]{()()}>)[{({}())[<>{}]}]>((...   \n",
       "4  <[<{(<{{{{[{[{[]{}}<()[]>](<[]{}><[][]>)}<<<<>...   \n",
       "7  <{<({(<(<{{<[((){})[()<>]]{{<>{}}([][])}>}[<{[...   \n",
       "\n",
       "                                                   l  points       score  \n",
       "1  [(, (, {, [, (, <, {, [, [, {, {, [, {, [, <, ...       0  1901388456  \n",
       "2  [<, {, (, {, [, (, <, {, [, [, (, (, (, {, (, ...       0  1215926669  \n",
       "3  [<, {, <, [, {, [, (, <, <, (, <, (, <, [, (, ...       0  5687445994  \n",
       "4  [<, [, <, {, (, <, {, {, {, {, [, {, [, {, [, ...       0   168654239  \n",
       "7  [<, {, <, (, {, (, <, (, <, {, {, <, [, (, (, ...       0     1708369  "
      ]
     },
     "execution_count": 36,
     "metadata": {},
     "output_type": "execute_result"
    }
   ],
   "source": [
    "inc['score'] = inc['l'].apply(get_score)\n",
    "inc.head()"
   ]
  },
  {
   "cell_type": "code",
   "execution_count": 37,
   "metadata": {},
   "outputs": [
    {
     "data": {
      "text/html": [
       "<div>\n",
       "<style scoped>\n",
       "    .dataframe tbody tr th:only-of-type {\n",
       "        vertical-align: middle;\n",
       "    }\n",
       "\n",
       "    .dataframe tbody tr th {\n",
       "        vertical-align: top;\n",
       "    }\n",
       "\n",
       "    .dataframe thead th {\n",
       "        text-align: right;\n",
       "    }\n",
       "</style>\n",
       "<table border=\"1\" class=\"dataframe\">\n",
       "  <thead>\n",
       "    <tr style=\"text-align: right;\">\n",
       "      <th></th>\n",
       "      <th>raw</th>\n",
       "      <th>l</th>\n",
       "      <th>points</th>\n",
       "      <th>score</th>\n",
       "    </tr>\n",
       "  </thead>\n",
       "  <tbody>\n",
       "    <tr>\n",
       "      <th>95</th>\n",
       "      <td>(&lt;(((({(&lt;{[{(&lt;&lt;&gt;()&gt;([]()))[&lt;[]()&gt;[&lt;&gt;]]}]&lt;&lt;[[()...</td>\n",
       "      <td>[(, &lt;, (, (, (, (, {, (, &lt;, {, [, {, (, &lt;, &lt;, ...</td>\n",
       "      <td>0</td>\n",
       "      <td>50796</td>\n",
       "    </tr>\n",
       "    <tr>\n",
       "      <th>43</th>\n",
       "      <td>[&lt;{{[([{[[&lt;((([]){(){}})&lt;{&lt;&gt;[]}{[]{}}&gt;){[[[]{}...</td>\n",
       "      <td>[[, &lt;, {, {, [, (, [, {, [, [, &lt;, (, (, (, [, ...</td>\n",
       "      <td>0</td>\n",
       "      <td>270472</td>\n",
       "    </tr>\n",
       "    <tr>\n",
       "      <th>7</th>\n",
       "      <td>&lt;{&lt;({(&lt;(&lt;{{&lt;[((){})[()&lt;&gt;]]{{&lt;&gt;{}}([][])}&gt;}[&lt;{[...</td>\n",
       "      <td>[&lt;, {, &lt;, (, {, (, &lt;, (, &lt;, {, {, &lt;, [, (, (, ...</td>\n",
       "      <td>0</td>\n",
       "      <td>1708369</td>\n",
       "    </tr>\n",
       "    <tr>\n",
       "      <th>56</th>\n",
       "      <td>&lt;{((([[{{{{[[{[]()}[&lt;&gt;&lt;&gt;]]&lt;[&lt;&gt;&lt;&gt;][{}{}]&gt;](&lt;{{}...</td>\n",
       "      <td>[&lt;, {, (, (, (, [, [, {, {, {, {, [, [, {, [, ...</td>\n",
       "      <td>0</td>\n",
       "      <td>7303919</td>\n",
       "    </tr>\n",
       "    <tr>\n",
       "      <th>72</th>\n",
       "      <td>{[(&lt;{({(&lt;&lt;({(({}()){[]{}})&lt;(()[])&gt;}[((&lt;&gt;{})([]...</td>\n",
       "      <td>[{, [, (, &lt;, {, (, {, (, &lt;, &lt;, (, {, (, (, {, ...</td>\n",
       "      <td>0</td>\n",
       "      <td>7552413</td>\n",
       "    </tr>\n",
       "  </tbody>\n",
       "</table>\n",
       "</div>"
      ],
      "text/plain": [
       "                                                  raw  \\\n",
       "95  (<(((({(<{[{(<<>()>([]()))[<[]()>[<>]]}]<<[[()...   \n",
       "43  [<{{[([{[[<((([]){(){}})<{<>[]}{[]{}}>){[[[]{}...   \n",
       "7   <{<({(<(<{{<[((){})[()<>]]{{<>{}}([][])}>}[<{[...   \n",
       "56  <{((([[{{{{[[{[]()}[<><>]]<[<><>][{}{}]>](<{{}...   \n",
       "72  {[(<{({(<<({(({}()){[]{}})<(()[])>}[((<>{})([]...   \n",
       "\n",
       "                                                    l  points    score  \n",
       "95  [(, <, (, (, (, (, {, (, <, {, [, {, (, <, <, ...       0    50796  \n",
       "43  [[, <, {, {, [, (, [, {, [, [, <, (, (, (, [, ...       0   270472  \n",
       "7   [<, {, <, (, {, (, <, (, <, {, {, <, [, (, (, ...       0  1708369  \n",
       "56  [<, {, (, (, (, [, [, {, {, {, {, [, [, {, [, ...       0  7303919  \n",
       "72  [{, [, (, <, {, (, {, (, <, <, (, {, (, (, {, ...       0  7552413  "
      ]
     },
     "execution_count": 37,
     "metadata": {},
     "output_type": "execute_result"
    }
   ],
   "source": [
    "inc = inc.sort_values('score')\n",
    "inc.head()"
   ]
  },
  {
   "cell_type": "code",
   "execution_count": 38,
   "metadata": {},
   "outputs": [
    {
     "data": {
      "text/plain": [
       "2421222841"
      ]
     },
     "execution_count": 38,
     "metadata": {},
     "output_type": "execute_result"
    }
   ],
   "source": [
    "m = inc.iloc[int(len(inc) / 2.0)]['score']\n",
    "m"
   ]
  }
 ],
 "metadata": {
  "interpreter": {
   "hash": "cdaf2d1fb91b6efc72cdae7ea42388cc549ee76757dbf18f9f42bedf4e5cf391"
  },
  "kernelspec": {
   "display_name": "Python 3.8.5 64-bit",
   "language": "python",
   "name": "python3"
  },
  "language_info": {
   "codemirror_mode": {
    "name": "ipython",
    "version": 3
   },
   "file_extension": ".py",
   "mimetype": "text/x-python",
   "name": "python",
   "nbconvert_exporter": "python",
   "pygments_lexer": "ipython3",
   "version": "3.8.5"
  },
  "orig_nbformat": 4
 },
 "nbformat": 4,
 "nbformat_minor": 2
}
