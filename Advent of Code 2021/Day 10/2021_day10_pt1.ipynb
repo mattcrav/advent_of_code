{
 "cells": [
  {
   "cell_type": "code",
   "execution_count": 20,
   "metadata": {},
   "outputs": [],
   "source": [
    "import pandas as pd\n",
    "import numpy as np"
   ]
  },
  {
   "cell_type": "code",
   "execution_count": 21,
   "metadata": {},
   "outputs": [
    {
     "data": {
      "text/html": [
       "<div>\n",
       "<style scoped>\n",
       "    .dataframe tbody tr th:only-of-type {\n",
       "        vertical-align: middle;\n",
       "    }\n",
       "\n",
       "    .dataframe tbody tr th {\n",
       "        vertical-align: top;\n",
       "    }\n",
       "\n",
       "    .dataframe thead th {\n",
       "        text-align: right;\n",
       "    }\n",
       "</style>\n",
       "<table border=\"1\" class=\"dataframe\">\n",
       "  <thead>\n",
       "    <tr style=\"text-align: right;\">\n",
       "      <th></th>\n",
       "      <th>raw</th>\n",
       "      <th>l</th>\n",
       "    </tr>\n",
       "  </thead>\n",
       "  <tbody>\n",
       "    <tr>\n",
       "      <th>0</th>\n",
       "      <td>{&lt;&lt;[{(&lt;&lt;&lt;([[&lt;&lt;{}()&gt;&lt;&lt;&gt;{}&gt;]{[(){}]{{}()}}]]&lt;[{(...</td>\n",
       "      <td>[{, &lt;, &lt;, [, {, (, &lt;, &lt;, &lt;, (, [, [, &lt;, &lt;, {, ...</td>\n",
       "    </tr>\n",
       "    <tr>\n",
       "      <th>1</th>\n",
       "      <td>(({[(&lt;{[[{{[{[&lt;&gt;[]][{}{}]}([{}()][&lt;&gt;()])][[{()...</td>\n",
       "      <td>[(, (, {, [, (, &lt;, {, [, [, {, {, [, {, [, &lt;, ...</td>\n",
       "    </tr>\n",
       "    <tr>\n",
       "      <th>2</th>\n",
       "      <td>&lt;{({[(&lt;{[[((({()()}&lt;&lt;&gt;()&gt;)){&lt;{[]()}&lt;[]()&gt;&gt;&lt;[()...</td>\n",
       "      <td>[&lt;, {, (, {, [, (, &lt;, {, [, [, (, (, (, {, (, ...</td>\n",
       "    </tr>\n",
       "    <tr>\n",
       "      <th>3</th>\n",
       "      <td>&lt;{&lt;[{[(&lt;&lt;(&lt;(&lt;[(){}]{()()}&gt;)[{({}())[&lt;&gt;{}]}]&gt;((...</td>\n",
       "      <td>[&lt;, {, &lt;, [, {, [, (, &lt;, &lt;, (, &lt;, (, &lt;, [, (, ...</td>\n",
       "    </tr>\n",
       "    <tr>\n",
       "      <th>4</th>\n",
       "      <td>&lt;[&lt;{(&lt;{{{{[{[{[]{}}&lt;()[]&gt;](&lt;[]{}&gt;&lt;[][]&gt;)}&lt;&lt;&lt;&lt;&gt;...</td>\n",
       "      <td>[&lt;, [, &lt;, {, (, &lt;, {, {, {, {, [, {, [, {, [, ...</td>\n",
       "    </tr>\n",
       "  </tbody>\n",
       "</table>\n",
       "</div>"
      ],
      "text/plain": [
       "                                                 raw  \\\n",
       "0  {<<[{(<<<([[<<{}()><<>{}>]{[(){}]{{}()}}]]<[{(...   \n",
       "1  (({[(<{[[{{[{[<>[]][{}{}]}([{}()][<>()])][[{()...   \n",
       "2  <{({[(<{[[((({()()}<<>()>)){<{[]()}<[]()>><[()...   \n",
       "3  <{<[{[(<<(<(<[(){}]{()()}>)[{({}())[<>{}]}]>((...   \n",
       "4  <[<{(<{{{{[{[{[]{}}<()[]>](<[]{}><[][]>)}<<<<>...   \n",
       "\n",
       "                                                   l  \n",
       "0  [{, <, <, [, {, (, <, <, <, (, [, [, <, <, {, ...  \n",
       "1  [(, (, {, [, (, <, {, [, [, {, {, [, {, [, <, ...  \n",
       "2  [<, {, (, {, [, (, <, {, [, [, (, (, (, {, (, ...  \n",
       "3  [<, {, <, [, {, [, (, <, <, (, <, (, <, [, (, ...  \n",
       "4  [<, [, <, {, (, <, {, {, {, {, [, {, [, {, [, ...  "
      ]
     },
     "execution_count": 21,
     "metadata": {},
     "output_type": "execute_result"
    }
   ],
   "source": [
    "df = pd.read_csv('2021_day10.csv', header=None, names=['raw'])\n",
    "df['l'] = df['raw'].apply(lambda x: list(x))\n",
    "df.head()"
   ]
  },
  {
   "cell_type": "code",
   "execution_count": 22,
   "metadata": {},
   "outputs": [],
   "source": [
    "pairs = {\n",
    "    '(':')',\n",
    "    '[':']',\n",
    "    '{':'}',\n",
    "    '<':'>'\n",
    "}\n",
    "\n",
    "points = {\n",
    "    ')': 3,\n",
    "    ']': 57,\n",
    "    '}': 1197,\n",
    "    '>': 25137\n",
    "}\n",
    "def get_points(x):\n",
    "    chunks = []\n",
    "    for i in x:\n",
    "        if i in pairs.keys():\n",
    "            chunks.append(i)\n",
    "        if i in pairs.values():\n",
    "            if pairs[chunks[-1]] == i:\n",
    "                chunks.pop()\n",
    "            else:\n",
    "                return points[i]\n",
    "    return 0\n"
   ]
  },
  {
   "cell_type": "code",
   "execution_count": 23,
   "metadata": {},
   "outputs": [
    {
     "data": {
      "text/html": [
       "<div>\n",
       "<style scoped>\n",
       "    .dataframe tbody tr th:only-of-type {\n",
       "        vertical-align: middle;\n",
       "    }\n",
       "\n",
       "    .dataframe tbody tr th {\n",
       "        vertical-align: top;\n",
       "    }\n",
       "\n",
       "    .dataframe thead th {\n",
       "        text-align: right;\n",
       "    }\n",
       "</style>\n",
       "<table border=\"1\" class=\"dataframe\">\n",
       "  <thead>\n",
       "    <tr style=\"text-align: right;\">\n",
       "      <th></th>\n",
       "      <th>raw</th>\n",
       "      <th>l</th>\n",
       "      <th>points</th>\n",
       "    </tr>\n",
       "  </thead>\n",
       "  <tbody>\n",
       "    <tr>\n",
       "      <th>0</th>\n",
       "      <td>{&lt;&lt;[{(&lt;&lt;&lt;([[&lt;&lt;{}()&gt;&lt;&lt;&gt;{}&gt;]{[(){}]{{}()}}]]&lt;[{(...</td>\n",
       "      <td>[{, &lt;, &lt;, [, {, (, &lt;, &lt;, &lt;, (, [, [, &lt;, &lt;, {, ...</td>\n",
       "      <td>57</td>\n",
       "    </tr>\n",
       "    <tr>\n",
       "      <th>1</th>\n",
       "      <td>(({[(&lt;{[[{{[{[&lt;&gt;[]][{}{}]}([{}()][&lt;&gt;()])][[{()...</td>\n",
       "      <td>[(, (, {, [, (, &lt;, {, [, [, {, {, [, {, [, &lt;, ...</td>\n",
       "      <td>0</td>\n",
       "    </tr>\n",
       "    <tr>\n",
       "      <th>2</th>\n",
       "      <td>&lt;{({[(&lt;{[[((({()()}&lt;&lt;&gt;()&gt;)){&lt;{[]()}&lt;[]()&gt;&gt;&lt;[()...</td>\n",
       "      <td>[&lt;, {, (, {, [, (, &lt;, {, [, [, (, (, (, {, (, ...</td>\n",
       "      <td>0</td>\n",
       "    </tr>\n",
       "    <tr>\n",
       "      <th>3</th>\n",
       "      <td>&lt;{&lt;[{[(&lt;&lt;(&lt;(&lt;[(){}]{()()}&gt;)[{({}())[&lt;&gt;{}]}]&gt;((...</td>\n",
       "      <td>[&lt;, {, &lt;, [, {, [, (, &lt;, &lt;, (, &lt;, (, &lt;, [, (, ...</td>\n",
       "      <td>0</td>\n",
       "    </tr>\n",
       "    <tr>\n",
       "      <th>4</th>\n",
       "      <td>&lt;[&lt;{(&lt;{{{{[{[{[]{}}&lt;()[]&gt;](&lt;[]{}&gt;&lt;[][]&gt;)}&lt;&lt;&lt;&lt;&gt;...</td>\n",
       "      <td>[&lt;, [, &lt;, {, (, &lt;, {, {, {, {, [, {, [, {, [, ...</td>\n",
       "      <td>0</td>\n",
       "    </tr>\n",
       "    <tr>\n",
       "      <th>5</th>\n",
       "      <td>{[&lt;({&lt;{{([{{{(()&lt;&gt;)(&lt;&gt;{})}}}{(([()()]{()())){[...</td>\n",
       "      <td>[{, [, &lt;, (, {, &lt;, {, {, (, [, {, {, {, (, (, ...</td>\n",
       "      <td>3</td>\n",
       "    </tr>\n",
       "    <tr>\n",
       "      <th>6</th>\n",
       "      <td>&lt;{&lt;[[(&lt;(((&lt;{[[()&lt;&gt;]{{}()}][(&lt;&gt;)[&lt;&gt;])}&gt;)))&gt;({{{...</td>\n",
       "      <td>[&lt;, {, &lt;, [, [, (, &lt;, (, (, (, &lt;, {, [, [, (, ...</td>\n",
       "      <td>3</td>\n",
       "    </tr>\n",
       "    <tr>\n",
       "      <th>7</th>\n",
       "      <td>&lt;{&lt;({(&lt;(&lt;{{&lt;[((){})[()&lt;&gt;]]{{&lt;&gt;{}}([][])}&gt;}[&lt;{[...</td>\n",
       "      <td>[&lt;, {, &lt;, (, {, (, &lt;, (, &lt;, {, {, &lt;, [, (, (, ...</td>\n",
       "      <td>0</td>\n",
       "    </tr>\n",
       "    <tr>\n",
       "      <th>8</th>\n",
       "      <td>{&lt;&lt;({{{(&lt;{{&lt;&lt;[{}{})[(){}]&gt;{&lt;&lt;&gt;&lt;&gt;&gt;&lt;[]{}&gt;}&gt;({({}...</td>\n",
       "      <td>[{, &lt;, &lt;, (, {, {, {, (, &lt;, {, {, &lt;, &lt;, [, {, ...</td>\n",
       "      <td>3</td>\n",
       "    </tr>\n",
       "    <tr>\n",
       "      <th>9</th>\n",
       "      <td>{{{&lt;(([{&lt;([[[[&lt;&gt;&lt;&gt;][[]&lt;&gt;]](({}[])&lt;{}{}&gt;)][[&lt;[]...</td>\n",
       "      <td>[{, {, {, &lt;, (, (, [, {, &lt;, (, [, [, [, [, &lt;, ...</td>\n",
       "      <td>0</td>\n",
       "    </tr>\n",
       "  </tbody>\n",
       "</table>\n",
       "</div>"
      ],
      "text/plain": [
       "                                                 raw  \\\n",
       "0  {<<[{(<<<([[<<{}()><<>{}>]{[(){}]{{}()}}]]<[{(...   \n",
       "1  (({[(<{[[{{[{[<>[]][{}{}]}([{}()][<>()])][[{()...   \n",
       "2  <{({[(<{[[((({()()}<<>()>)){<{[]()}<[]()>><[()...   \n",
       "3  <{<[{[(<<(<(<[(){}]{()()}>)[{({}())[<>{}]}]>((...   \n",
       "4  <[<{(<{{{{[{[{[]{}}<()[]>](<[]{}><[][]>)}<<<<>...   \n",
       "5  {[<({<{{([{{{(()<>)(<>{})}}}{(([()()]{()())){[...   \n",
       "6  <{<[[(<(((<{[[()<>]{{}()}][(<>)[<>])}>)))>({{{...   \n",
       "7  <{<({(<(<{{<[((){})[()<>]]{{<>{}}([][])}>}[<{[...   \n",
       "8  {<<({{{(<{{<<[{}{})[(){}]>{<<><>><[]{}>}>({({}...   \n",
       "9  {{{<(([{<([[[[<><>][[]<>]](({}[])<{}{}>)][[<[]...   \n",
       "\n",
       "                                                   l  points  \n",
       "0  [{, <, <, [, {, (, <, <, <, (, [, [, <, <, {, ...      57  \n",
       "1  [(, (, {, [, (, <, {, [, [, {, {, [, {, [, <, ...       0  \n",
       "2  [<, {, (, {, [, (, <, {, [, [, (, (, (, {, (, ...       0  \n",
       "3  [<, {, <, [, {, [, (, <, <, (, <, (, <, [, (, ...       0  \n",
       "4  [<, [, <, {, (, <, {, {, {, {, [, {, [, {, [, ...       0  \n",
       "5  [{, [, <, (, {, <, {, {, (, [, {, {, {, (, (, ...       3  \n",
       "6  [<, {, <, [, [, (, <, (, (, (, <, {, [, [, (, ...       3  \n",
       "7  [<, {, <, (, {, (, <, (, <, {, {, <, [, (, (, ...       0  \n",
       "8  [{, <, <, (, {, {, {, (, <, {, {, <, <, [, {, ...       3  \n",
       "9  [{, {, {, <, (, (, [, {, <, (, [, [, [, [, <, ...       0  "
      ]
     },
     "execution_count": 23,
     "metadata": {},
     "output_type": "execute_result"
    }
   ],
   "source": [
    "df['points'] = df['l'].apply(get_points)\n",
    "df.head(10)"
   ]
  },
  {
   "cell_type": "code",
   "execution_count": 24,
   "metadata": {},
   "outputs": [
    {
     "data": {
      "text/plain": [
       "243939"
      ]
     },
     "execution_count": 24,
     "metadata": {},
     "output_type": "execute_result"
    }
   ],
   "source": [
    "df['points'].sum()"
   ]
  }
 ],
 "metadata": {
  "interpreter": {
   "hash": "cdaf2d1fb91b6efc72cdae7ea42388cc549ee76757dbf18f9f42bedf4e5cf391"
  },
  "kernelspec": {
   "display_name": "Python 3.8.5 64-bit",
   "language": "python",
   "name": "python3"
  },
  "language_info": {
   "codemirror_mode": {
    "name": "ipython",
    "version": 3
   },
   "file_extension": ".py",
   "mimetype": "text/x-python",
   "name": "python",
   "nbconvert_exporter": "python",
   "pygments_lexer": "ipython3",
   "version": "3.8.5"
  },
  "orig_nbformat": 4
 },
 "nbformat": 4,
 "nbformat_minor": 2
}
