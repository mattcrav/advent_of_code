{
 "cells": [
  {
   "cell_type": "code",
   "execution_count": 88,
   "metadata": {},
   "outputs": [],
   "source": [
    "import pandas as pd\n",
    "import numpy as np"
   ]
  },
  {
   "cell_type": "code",
   "execution_count": 89,
   "metadata": {},
   "outputs": [
    {
     "data": {
      "text/plain": [
       "array([[5., 4., 8., 3., 1., 4., 3., 2., 2., 3.],\n",
       "       [2., 7., 4., 5., 8., 5., 4., 7., 1., 1.],\n",
       "       [5., 2., 6., 4., 5., 5., 6., 1., 7., 3.],\n",
       "       [6., 1., 4., 1., 3., 3., 6., 1., 4., 6.],\n",
       "       [6., 3., 5., 7., 3., 8., 5., 4., 7., 8.],\n",
       "       [4., 1., 6., 7., 5., 2., 4., 6., 4., 5.],\n",
       "       [2., 1., 7., 6., 8., 4., 1., 7., 2., 1.],\n",
       "       [6., 8., 8., 2., 8., 8., 1., 1., 3., 4.],\n",
       "       [4., 8., 4., 6., 8., 4., 8., 5., 5., 4.],\n",
       "       [5., 2., 8., 3., 7., 5., 1., 5., 2., 6.]])"
      ]
     },
     "execution_count": 89,
     "metadata": {},
     "output_type": "execute_result"
    }
   ],
   "source": [
    "d = np.genfromtxt('2021_day11_sample.csv', delimiter=1)\n",
    "d"
   ]
  },
  {
   "cell_type": "code",
   "execution_count": 90,
   "metadata": {},
   "outputs": [
    {
     "name": "stdout",
     "output_type": "stream",
     "text": [
      "[[-1. -1. -1. -1. -1. -1. -1. -1. -1. -1. -1. -1.]\n",
      " [-1.  0.  7.  6.  8.  2.  2.  2.  2.  2.  6. -1.]\n",
      " [-1.  7.  7.  6.  9.  7.  2.  2.  2.  2.  2. -1.]\n",
      " [-1.  6.  6.  6.  9.  7.  3.  2.  2.  2.  2. -1.]\n",
      " [-1.  6.  6.  6.  9.  1.  3.  2.  2.  2.  2. -1.]\n",
      " [-1.  6.  6.  6.  9.  3.  3.  2.  2.  2.  2. -1.]\n",
      " [-1.  6.  6.  6.  9.  2.  2.  2.  2.  2.  2. -1.]\n",
      " [-1.  6.  6.  6.  9.  2.  2.  2.  2.  2.  2. -1.]\n",
      " [-1.  6.  6.  6.  9.  2.  2.  2.  2.  3.  3. -1.]\n",
      " [-1.  6.  6.  6.  8.  2.  2.  2.  3.  5.  0. -1.]\n",
      " [-1.  6.  6.  6.  7.  9.  2.  2.  3.  0.  0. -1.]\n",
      " [-1. -1. -1. -1. -1. -1. -1. -1. -1. -1. -1. -1.]]\n",
      "1546\n"
     ]
    }
   ],
   "source": [
    "d = np.genfromtxt('2021_day11.csv', delimiter=1)\n",
    "n = d.copy()\n",
    "n = np.pad(n, pad_width=1, mode='constant', constant_values=-1)\n",
    "fc = 0\n",
    "for x in range(100):\n",
    "    n[np.where(n >= 0)] = n[np.where(n >= 0)] + 1\n",
    "    # print(n)\n",
    "    w = np.where(n >= 10)\n",
    "    flashed = []\n",
    "    to_flash = list(zip(w[0], w[1]))\n",
    "    # print(to_flash)\n",
    "    # print(n[2,1])\n",
    "    while len(to_flash) > 0:\n",
    "        i = to_flash.pop()\n",
    "        flashed.append(i)\n",
    "        fc += 1\n",
    "        # print(to_flash)\n",
    "        # print(i)\n",
    "        \n",
    "        u = n[i[0]-1, i[1]].sum()\n",
    "        if u != -1:\n",
    "            n[i[0]-1, i[1]] += 1\n",
    "        d = n[i[0]+1, i[1]].sum()\n",
    "        if d != -1:\n",
    "            n[i[0]+1, i[1]] += 1\n",
    "        l = n[i[0], i[1]-1].sum()\n",
    "        if l != -1:\n",
    "            n[i[0], i[1]-1] += 1\n",
    "        r = n[i[0], i[1]+1].sum()\n",
    "        if r != -1:\n",
    "            n[i[0], i[1]+1] += 1\n",
    "        nw = n[i[0]-1, i[1]-1].sum()\n",
    "        if nw != -1:\n",
    "            n[i[0]-1, i[1]-1] += 1\n",
    "        ne = n[i[0]+1, i[1]-1].sum()\n",
    "        if ne != -1:\n",
    "            n[i[0]+1, i[1]-1] += 1\n",
    "        sw = n[i[0]-1, i[1]+1].sum()\n",
    "        if sw != -1:\n",
    "           n[i[0]-1, i[1]+1] += 1 \n",
    "        se = n[i[0]+1, i[1]+1].sum()\n",
    "        if se != -1:\n",
    "            n[i[0]+1, i[1]+1] += 1\n",
    "        if n[i[0]-1, i[1]].sum() >= 10 and (i[0]-1, i[1]) not in to_flash + flashed:\n",
    "            to_flash.append((i[0]-1, i[1]))\n",
    "        if n[i[0]+1, i[1]].sum() >= 10 and (i[0]+1, i[1]) not in to_flash + flashed:\n",
    "            to_flash.append((i[0]+1, i[1]))\n",
    "        if n[i[0], i[1]-1].sum() >= 10 and (i[0], i[1]-1) not in to_flash + flashed:\n",
    "            to_flash.append((i[0], i[1]-1))\n",
    "        if n[i[0], i[1]+1].sum() >= 10 and (i[0], i[1]+1) not in to_flash + flashed:\n",
    "            to_flash.append((i[0], i[1]+1))\n",
    "        if n[i[0]-1, i[1]-1].sum() >= 10 and (i[0]-1, i[1]-1) not in to_flash + flashed:\n",
    "            to_flash.append((i[0]-1, i[1]-1))\n",
    "        if n[i[0]+1, i[1]-1].sum() >= 10 and (i[0]+1, i[1]-1) not in to_flash + flashed:\n",
    "            to_flash.append((i[0]+1, i[1]-1))\n",
    "        if n[i[0]-1, i[1]+1].sum() >= 10 and (i[0]-1, i[1]+1) not in to_flash + flashed:\n",
    "            to_flash.append((i[0]-1, i[1]+1))\n",
    "        if n[i[0]+1, i[1]+1].sum() >= 10 and (i[0]+1, i[1]+1) not in to_flash + flashed:\n",
    "            to_flash.append((i[0]+1, i[1]+1))\n",
    "        # break\n",
    "    n[np.where(n >= 10)] = 0\n",
    "print(n)\n",
    "print(fc)\n",
    "    # for i in range(1,len(n)):\n",
    "    #     for j in range(1,len(n[0])):\n",
    "    #         v = n[i-1:i,j-1:j].sum()\n",
    "    #         u = n[i-2:i-1,j-1:j].sum()\n",
    "    #         d = n[i:i+1,j-1:j].sum()\n",
    "    #         l = n[i-1:i,j-2:j-1].sum()\n",
    "    #         r = n[i-1:i,j:j+1].sum()\n",
    "    #         print(u)"
   ]
  }
 ],
 "metadata": {
  "interpreter": {
   "hash": "cdaf2d1fb91b6efc72cdae7ea42388cc549ee76757dbf18f9f42bedf4e5cf391"
  },
  "kernelspec": {
   "display_name": "Python 3.8.5 64-bit",
   "language": "python",
   "name": "python3"
  },
  "language_info": {
   "codemirror_mode": {
    "name": "ipython",
    "version": 3
   },
   "file_extension": ".py",
   "mimetype": "text/x-python",
   "name": "python",
   "nbconvert_exporter": "python",
   "pygments_lexer": "ipython3",
   "version": "3.8.5"
  },
  "orig_nbformat": 4
 },
 "nbformat": 4,
 "nbformat_minor": 2
}
