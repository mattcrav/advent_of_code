{
 "cells": [
  {
   "cell_type": "code",
   "execution_count": 1,
   "metadata": {},
   "outputs": [],
   "source": [
    "import pandas as pd\n",
    "import numpy as np\n",
    "from collections import Counter"
   ]
  },
  {
   "cell_type": "code",
   "execution_count": 66,
   "metadata": {},
   "outputs": [
    {
     "data": {
      "text/plain": [
       "array([[0., 2., 4., 3.],\n",
       "       [3., 5., 7., 3.],\n",
       "       [6., 8., 9., 3.],\n",
       "       [3., 3., 3., 1.]])"
      ]
     },
     "execution_count": 66,
     "metadata": {},
     "output_type": "execute_result"
    }
   ],
   "source": [
    "n = np.genfromtxt('2021_day15_sample2.csv', delimiter=1)\n",
    "n[0, 0] = 0\n",
    "n"
   ]
  },
  {
   "cell_type": "code",
   "execution_count": 68,
   "metadata": {},
   "outputs": [
    {
     "name": "stdout",
     "output_type": "stream",
     "text": [
      "[0.]\n",
      "[2. 3.]\n",
      "[4. 5. 6.]\n",
      "[3. 7. 8. 3.]\n",
      "[3. 9. 3.]\n",
      "[3. 3.]\n",
      "[1.]\n"
     ]
    }
   ],
   "source": [
    "w = len(n.diagonal()) * 2\n",
    "for i in range(-len(n)+1, len(n)):\n",
    "    print(np.fliplr(n).diagonal(offset=-i))"
   ]
  },
  {
   "cell_type": "code",
   "execution_count": null,
   "metadata": {},
   "outputs": [],
   "source": [
    "w = len(n.diagonal()) * 2\n",
    "r = np.array\n",
    "for i in range(-len(n)+1, len(n)):\n",
    "    d = np.fliplr(n).diagonal(offset=-i)\n",
    "    r = np.column_stack\n",
    "    print(np.fliplr(n).diagonal(offset=-i))"
   ]
  },
  {
   "cell_type": "code",
   "execution_count": 50,
   "metadata": {},
   "outputs": [
    {
     "data": {
      "text/plain": [
       "3"
      ]
     },
     "execution_count": 50,
     "metadata": {},
     "output_type": "execute_result"
    }
   ],
   "source": [
    "w = len(n.diagonal())\n",
    "w"
   ]
  },
  {
   "cell_type": "code",
   "execution_count": 70,
   "metadata": {},
   "outputs": [
    {
     "name": "stdout",
     "output_type": "stream",
     "text": [
      "[0. 0. 0. 0. 0. 0. 0. 0.]\n",
      "[2. 3. 2. 3. 2. 3. 2. 3.]\n",
      "[4. 5. 6. 4. 5. 6.]\n",
      "[3. 7. 8. 7. 8. 7. 8. 7. 8. 7. 8. 7. 8. 3.]\n",
      "[3. 9. 3. 3. 9. 3.]\n",
      "[3. 3. 3. 3. 3. 3. 3. 3.]\n",
      "[1. 1. 1. 1. 1. 1. 1. 1.]\n"
     ]
    }
   ],
   "source": [
    "w = 8\n",
    "for i in range(-len(n)+1, len(n)):\n",
    "    d = np.fliplr(n).diagonal(offset=-i)\n",
    "    if len(d)*2 == w:\n",
    "        print(np.concatenate([[d[0]], np.tile(d[1:-1], int(w-2)), [d[-1]]]))\n",
    "    else:\n",
    "        print(np.tile(d, int(w/len(d))))"
   ]
  },
  {
   "cell_type": "code",
   "execution_count": 35,
   "metadata": {},
   "outputs": [
    {
     "name": "stdout",
     "output_type": "stream",
     "text": [
      "[1. 2. 3. 7. 1. 1. 3. 1. 2.]\n",
      "21.0\n"
     ]
    }
   ],
   "source": [
    "print(n[1:,0])\n",
    "print(n[1:,0].sum())"
   ]
  },
  {
   "cell_type": "code",
   "execution_count": 36,
   "metadata": {},
   "outputs": [
    {
     "name": "stdout",
     "output_type": "stream",
     "text": [
      "[1. 6. 3. 7. 5. 1. 7. 4. 2.]\n",
      "36.0\n"
     ]
    }
   ],
   "source": [
    "print(n[0,1:])\n",
    "print(n[0,1:].sum())"
   ]
  },
  {
   "cell_type": "code",
   "execution_count": 37,
   "metadata": {},
   "outputs": [
    {
     "name": "stdout",
     "output_type": "stream",
     "text": [
      "[2. 3. 7. 1. 1. 3. 1. 2.]\n",
      "20.0\n"
     ]
    }
   ],
   "source": [
    "print(n[2:,0])\n",
    "print(n[2:,0].sum())"
   ]
  },
  {
   "cell_type": "code",
   "execution_count": 39,
   "metadata": {},
   "outputs": [
    {
     "name": "stdout",
     "output_type": "stream",
     "text": [
      "[3. 8. 1. 3. 7. 3. 6. 7. 2.]\n",
      "40.0\n"
     ]
    }
   ],
   "source": [
    "print(n[1,1:])\n",
    "print(n[1,1:].sum())"
   ]
  },
  {
   "cell_type": "code",
   "execution_count": 42,
   "metadata": {},
   "outputs": [
    {
     "name": "stdout",
     "output_type": "stream",
     "text": [
      "[3. 7. 1. 1. 3. 1. 2.]\n",
      "2.5714285714285716\n"
     ]
    }
   ],
   "source": [
    "print(n[3:,0])\n",
    "print(n[3:,0].sum() / 7)"
   ]
  },
  {
   "cell_type": "code",
   "execution_count": 43,
   "metadata": {},
   "outputs": [
    {
     "name": "stdout",
     "output_type": "stream",
     "text": [
      "[1. 3. 6. 5. 1. 1. 3. 2. 8.]\n",
      "3.3333333333333335\n"
     ]
    }
   ],
   "source": [
    "print(n[2,1:])\n",
    "print(n[2,1:].sum() / 9)"
   ]
  },
  {
   "cell_type": "code",
   "execution_count": 8,
   "metadata": {},
   "outputs": [
    {
     "data": {
      "text/plain": [
       "array([[ 0.,  1.,  7., 10., 17., 22., 23., 30., 34., 36.],\n",
       "       [ 1.,  4., 12., 13., 16., 23., 26., 32., 39., 41.],\n",
       "       [ 2.,  3.,  6., 12., 17., 18., 19., 22., 24., 32.],\n",
       "       [ 3.,  9., 18., 22., 31., 34., 35., 40., 46., 55.],\n",
       "       [ 7., 11., 17., 20., 24., 25., 32., 33., 34., 35.],\n",
       "       [ 1.,  4.,  5., 14., 15., 17., 25., 26., 29., 36.],\n",
       "       [ 1.,  4.,  9., 18., 27., 28., 30., 34., 36., 37.],\n",
       "       [ 3.,  4.,  6., 11., 15., 17., 18., 24., 27., 36.],\n",
       "       [ 1.,  3., 12., 15., 16., 19., 27., 32., 34., 35.],\n",
       "       [ 2.,  5.,  6.,  7., 16., 20., 24., 29., 37., 38.]])"
      ]
     },
     "execution_count": 8,
     "metadata": {},
     "output_type": "execute_result"
    }
   ],
   "source": [
    "x = n.cumsum(axis=1)\n",
    "x"
   ]
  },
  {
   "cell_type": "code",
   "execution_count": 9,
   "metadata": {},
   "outputs": [
    {
     "data": {
      "text/plain": [
       "array([[ 0.,  1.,  6.,  3.,  7.,  5.,  1.,  7.,  4.,  2.],\n",
       "       [ 1.,  4., 14.,  4., 10., 12.,  4., 13., 11.,  4.],\n",
       "       [ 3.,  5., 17., 10., 15., 13.,  5., 16., 13., 12.],\n",
       "       [ 6., 11., 26., 14., 24., 16.,  6., 21., 19., 21.],\n",
       "       [13., 15., 32., 17., 28., 17., 13., 22., 20., 22.],\n",
       "       [14., 18., 33., 26., 29., 19., 21., 23., 23., 29.],\n",
       "       [15., 21., 38., 35., 38., 20., 23., 27., 25., 30.],\n",
       "       [18., 22., 40., 40., 42., 22., 24., 33., 28., 39.],\n",
       "       [19., 24., 49., 43., 43., 25., 32., 38., 30., 40.],\n",
       "       [21., 27., 50., 44., 52., 29., 36., 43., 38., 41.]])"
      ]
     },
     "execution_count": 9,
     "metadata": {},
     "output_type": "execute_result"
    }
   ],
   "source": [
    "y = n.cumsum(axis=0)\n",
    "y"
   ]
  },
  {
   "cell_type": "code",
   "execution_count": 10,
   "metadata": {},
   "outputs": [
    {
     "data": {
      "text/plain": [
       "array([[ 0.,  2., 13., 13., 24., 27., 24., 37., 38., 38.],\n",
       "       [ 2.,  8., 26., 17., 26., 35., 30., 45., 50., 45.],\n",
       "       [ 5.,  8., 23., 22., 32., 31., 24., 38., 37., 44.],\n",
       "       [ 9., 20., 44., 36., 55., 50., 41., 61., 65., 76.],\n",
       "       [20., 26., 49., 37., 52., 42., 45., 55., 54., 57.],\n",
       "       [15., 22., 38., 40., 44., 36., 46., 49., 52., 65.],\n",
       "       [16., 25., 47., 53., 65., 48., 53., 61., 61., 67.],\n",
       "       [21., 26., 46., 51., 57., 39., 42., 57., 55., 75.],\n",
       "       [20., 27., 61., 58., 59., 44., 59., 70., 64., 75.],\n",
       "       [23., 32., 56., 51., 68., 49., 60., 72., 75., 79.]])"
      ]
     },
     "execution_count": 10,
     "metadata": {},
     "output_type": "execute_result"
    }
   ],
   "source": [
    "t = x + y\n",
    "t"
   ]
  }
 ],
 "metadata": {
  "interpreter": {
   "hash": "cdaf2d1fb91b6efc72cdae7ea42388cc549ee76757dbf18f9f42bedf4e5cf391"
  },
  "kernelspec": {
   "display_name": "Python 3.8.5 64-bit",
   "language": "python",
   "name": "python3"
  },
  "language_info": {
   "codemirror_mode": {
    "name": "ipython",
    "version": 3
   },
   "file_extension": ".py",
   "mimetype": "text/x-python",
   "name": "python",
   "nbconvert_exporter": "python",
   "pygments_lexer": "ipython3",
   "version": "3.8.5"
  },
  "orig_nbformat": 4
 },
 "nbformat": 4,
 "nbformat_minor": 2
}
