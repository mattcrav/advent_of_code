{
 "cells": [
  {
   "cell_type": "code",
   "execution_count": 6,
   "metadata": {},
   "outputs": [],
   "source": [
    "import pandas as pd\n",
    "import numpy as np\n",
    "from collections import Counter"
   ]
  },
  {
   "cell_type": "code",
   "execution_count": 18,
   "metadata": {},
   "outputs": [
    {
     "name": "stdout",
     "output_type": "stream",
     "text": [
      "[1 2 1 3 2 1 1 5 1 4 1 2 1 4 3 3 5 1 1 3 5 3 4 5 5 4 3 1 1 4 3 1 5 2 5 2 4\n",
      " 1 1 1 1 1 1 1 4 1 4 4 4 1 4 4 1 4 2 1 1 1 1 3 5 4 3 3 5 4 1 3 1 1 2 1 1 1\n",
      " 4 1 2 5 2 3 1 1 1 2 1 5 1 1 1 4 4 4 1 5 1 2 3 2 2 2 1 1 4 3 1 4 4 2 1 1 5\n",
      " 1 1 1 3 1 2 1 1 1 1 4 5 5 2 3 4 2 1 1 1 2 1 1 5 5 3 5 4 3 1 3 1 1 5 1 1 4\n",
      " 2 1 3 1 1 4 3 1 5 1 1 3 4 2 2 1 1 2 1 1 2 1 3 2 3 1 4 5 1 1 4 3 3 1 1 2 2\n",
      " 1 5 2 1 3 4 5 4 5 5 4 3 1 5 1 1 1 4 4 3 2 5 2 1 4 3 5 1 3 5 1 3 3 1 1 1 2\n",
      " 5 3 1 1 3 1 1 1 2 1 5 1 5 1 3 1 1 5 4 3 3 2 2 1 1 3 4 1 1 1 1 4 1 3 1 5 1\n",
      " 1 3 1 1 1 1 2 2 4 4 4 1 2 5 5 2 2 4 1 1 4 2 1 1 5 1 5 3 5 4 5 3 1 1 1 2 3\n",
      " 1 2 1 1]\n"
     ]
    }
   ],
   "source": [
    "with open('2021_day6.csv', 'r') as f:\n",
    "    l = f.readlines()[0].split(',')\n",
    "    l = np.array([int(x) for x in l])\n",
    "print(l)"
   ]
  },
  {
   "cell_type": "code",
   "execution_count": 19,
   "metadata": {},
   "outputs": [
    {
     "name": "stdout",
     "output_type": "stream",
     "text": [
      "{1: 129, 2: 42, 3: 44, 5: 40, 4: 45}\n",
      "{0: 0, 1: 0, 2: 0, 3: 0, 4: 0, 5: 0, 6: 0, 7: 0, 8: 0}\n",
      "{0: 0, 1: 129, 2: 42, 3: 44, 4: 45, 5: 40, 6: 0, 7: 0, 8: 0}\n"
     ]
    }
   ],
   "source": [
    "di = dict(Counter(l))\n",
    "print(di)\n",
    "r = {x:0 for x in range(9)}\n",
    "print(r)\n",
    "for d in di:\n",
    "    r[d] = di[d]\n",
    "print(r)"
   ]
  },
  {
   "cell_type": "code",
   "execution_count": 20,
   "metadata": {},
   "outputs": [
    {
     "name": "stdout",
     "output_type": "stream",
     "text": [
      "{0: 142796431093, 1: 168998522736, 2: 176972779430, 3: 192434943096, 4: 219875808369, 5: 220869399474, 6: 267293861994, 7: 118583747405, 8: 145733806214}\n",
      "1653559299811\n"
     ]
    }
   ],
   "source": [
    "t = r.copy()\n",
    "# print(t)\n",
    "for d in range(256):\n",
    "    n = t[0]\n",
    "    for i in range(8):\n",
    "        t[i] = t[i+1]\n",
    "    t[8] = n\n",
    "    t[6] += n\n",
    "    # print(t)\n",
    "print(t)\n",
    "print(sum(t.values()))"
   ]
  }
 ],
 "metadata": {
  "interpreter": {
   "hash": "cdaf2d1fb91b6efc72cdae7ea42388cc549ee76757dbf18f9f42bedf4e5cf391"
  },
  "kernelspec": {
   "display_name": "Python 3.8.5 64-bit",
   "language": "python",
   "name": "python3"
  },
  "language_info": {
   "codemirror_mode": {
    "name": "ipython",
    "version": 3
   },
   "file_extension": ".py",
   "mimetype": "text/x-python",
   "name": "python",
   "nbconvert_exporter": "python",
   "pygments_lexer": "ipython3",
   "version": "3.8.5"
  },
  "orig_nbformat": 4
 },
 "nbformat": 4,
 "nbformat_minor": 2
}
