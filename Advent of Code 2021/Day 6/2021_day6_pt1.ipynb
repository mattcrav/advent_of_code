{
 "cells": [
  {
   "cell_type": "code",
   "execution_count": 1,
   "metadata": {},
   "outputs": [],
   "source": [
    "import pandas as pd\n",
    "import numpy as np"
   ]
  },
  {
   "cell_type": "code",
   "execution_count": 23,
   "metadata": {},
   "outputs": [
    {
     "name": "stdout",
     "output_type": "stream",
     "text": [
      "[1 2 1 3 2 1 1 5 1 4 1 2 1 4 3 3 5 1 1 3 5 3 4 5 5 4 3 1 1 4 3 1 5 2 5 2 4\n",
      " 1 1 1 1 1 1 1 4 1 4 4 4 1 4 4 1 4 2 1 1 1 1 3 5 4 3 3 5 4 1 3 1 1 2 1 1 1\n",
      " 4 1 2 5 2 3 1 1 1 2 1 5 1 1 1 4 4 4 1 5 1 2 3 2 2 2 1 1 4 3 1 4 4 2 1 1 5\n",
      " 1 1 1 3 1 2 1 1 1 1 4 5 5 2 3 4 2 1 1 1 2 1 1 5 5 3 5 4 3 1 3 1 1 5 1 1 4\n",
      " 2 1 3 1 1 4 3 1 5 1 1 3 4 2 2 1 1 2 1 1 2 1 3 2 3 1 4 5 1 1 4 3 3 1 1 2 2\n",
      " 1 5 2 1 3 4 5 4 5 5 4 3 1 5 1 1 1 4 4 3 2 5 2 1 4 3 5 1 3 5 1 3 3 1 1 1 2\n",
      " 5 3 1 1 3 1 1 1 2 1 5 1 5 1 3 1 1 5 4 3 3 2 2 1 1 3 4 1 1 1 1 4 1 3 1 5 1\n",
      " 1 3 1 1 1 1 2 2 4 4 4 1 2 5 5 2 2 4 1 1 4 2 1 1 5 1 5 3 5 4 5 3 1 1 1 2 3\n",
      " 1 2 1 1]\n"
     ]
    }
   ],
   "source": [
    "with open('2021_day6.csv', 'r') as f:\n",
    "    l = f.readlines()[0].split(',')\n",
    "    l = np.array([int(x) for x in l])\n",
    "print(l)"
   ]
  },
  {
   "cell_type": "code",
   "execution_count": 24,
   "metadata": {},
   "outputs": [
    {
     "name": "stdout",
     "output_type": "stream",
     "text": [
      "366057\n"
     ]
    }
   ],
   "source": [
    "t = l.copy()\n",
    "# print(t)\n",
    "for d in range(80):\n",
    "    t = t - 1\n",
    "    b = np.where(t == -1)\n",
    "    n = len(b[0])\n",
    "    t[b] = 6\n",
    "    t = np.concatenate([t, np.repeat(8, n)])\n",
    "    # print(t)\n",
    "print(len(t))\n",
    "    \n",
    "    "
   ]
  }
 ],
 "metadata": {
  "interpreter": {
   "hash": "cdaf2d1fb91b6efc72cdae7ea42388cc549ee76757dbf18f9f42bedf4e5cf391"
  },
  "kernelspec": {
   "display_name": "Python 3.8.5 64-bit",
   "language": "python",
   "name": "python3"
  },
  "language_info": {
   "codemirror_mode": {
    "name": "ipython",
    "version": 3
   },
   "file_extension": ".py",
   "mimetype": "text/x-python",
   "name": "python",
   "nbconvert_exporter": "python",
   "pygments_lexer": "ipython3",
   "version": "3.8.5"
  },
  "orig_nbformat": 4
 },
 "nbformat": 4,
 "nbformat_minor": 2
}
