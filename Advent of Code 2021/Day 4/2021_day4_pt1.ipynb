{
 "cells": [
  {
   "cell_type": "code",
   "execution_count": 47,
   "metadata": {},
   "outputs": [],
   "source": [
    "import pandas as pd\n",
    "import numpy as np"
   ]
  },
  {
   "cell_type": "code",
   "execution_count": 48,
   "metadata": {},
   "outputs": [
    {
     "name": "stdout",
     "output_type": "stream",
     "text": [
      "[30 35  8  2 39 37 72  7 81 41 25 46 56 18 89 70  0 15 84 75 88 67 42 44\n",
      " 94 71 79 65 58 52 96 83 54 29 14 95 66 61 97 68 57 90 55 32 17 47 20 98\n",
      "  1 69 63 62 31 86 77 85 87 93 26 40 24 19 48 76 73 49 34 45 82 22 80 78\n",
      " 23  6 59 91 64 43 21 51 13  3 53 99  4 28 33 74 12  9 36 50 60 11 27 10\n",
      "  5 16 92 38]\n"
     ]
    }
   ],
   "source": [
    "with open('2021_day4.csv', 'r') as f:\n",
    "    l = f.readlines()\n",
    "draw = np.array([int(x) for x in l[0].split(',')])\n",
    "print(draw)\n"
   ]
  },
  {
   "cell_type": "code",
   "execution_count": 49,
   "metadata": {},
   "outputs": [
    {
     "name": "stdout",
     "output_type": "stream",
     "text": [
      "[[94 97 41 22 48]\n",
      " [21 47 72 23 26]\n",
      " [12 81 86 24 91]\n",
      " [71 78 90 59 54]\n",
      " [92 63 68 65  1]]\n",
      "[[75 62 66 74 37]\n",
      " [14 79 35 96 30]\n",
      " [33 25 29 57  6]\n",
      " [60 93 17 55 53]\n",
      " [65 16 59 40 27]]\n",
      "[[26 60 95 24 78]\n",
      " [55 12 22 68 43]\n",
      " [67 48 85 66 36]\n",
      " [29 80 52  3 56]\n",
      " [11 59 41 15 18]]\n"
     ]
    }
   ],
   "source": [
    "boards = []\n",
    "n = []\n",
    "for a in l[2:]:\n",
    "    if a == '\\n':\n",
    "        boards.append(np.array(n))\n",
    "        n = []\n",
    "    else:\n",
    "        r = [int(x) for x in a.replace('  ',' ').strip().split(' ')]\n",
    "        n.append(r)\n",
    "boards.append(np.array(n))\n",
    "\n",
    "print(boards[0])\n",
    "print(boards[1])\n",
    "print(boards[2])\n"
   ]
  },
  {
   "cell_type": "code",
   "execution_count": 50,
   "metadata": {},
   "outputs": [
    {
     "name": "stdout",
     "output_type": "stream",
     "text": [
      "835 65\n",
      "54275\n"
     ]
    }
   ],
   "source": [
    "t = None\n",
    "last = None\n",
    "for d in draw:\n",
    "    if t is not None:\n",
    "        break\n",
    "    for i in range(len(boards)):\n",
    "        boards[i] = np.where(boards[i] == d, -1, boards[i])\n",
    "        c = np.concatenate([boards[i].sum(axis=1), boards[i].sum(axis=0)])\n",
    "        if -5 in c:\n",
    "            t = np.where(boards[i] == -1, 0, boards[i]).sum()\n",
    "            last = d\n",
    "print(t, last)\n",
    "print(t * last)\n",
    "# print(boards)"
   ]
  },
  {
   "cell_type": "code",
   "execution_count": 22,
   "metadata": {},
   "outputs": [
    {
     "name": "stdout",
     "output_type": "stream",
     "text": [
      "[[22 13 17 11  0]\n",
      " [ 8  2 23  4 24]\n",
      " [21  9 14 16  7]\n",
      " [ 6 10  3 18  5]\n",
      " [ 1 12 20 15 19]]\n",
      "[[22 13 17 11  0]\n",
      " [ 8  2 23  4 24]\n",
      " [21 -1 14 16  7]\n",
      " [ 6 10  3 18  5]\n",
      " [ 1 12 20 15 19]]\n"
     ]
    }
   ],
   "source": [
    "b = boards[0].copy()\n",
    "print(b)\n",
    "b = np.where(b == 9, -1, b)\n",
    "print(b)"
   ]
  },
  {
   "cell_type": "code",
   "execution_count": 25,
   "metadata": {},
   "outputs": [
    {
     "name": "stdout",
     "output_type": "stream",
     "text": [
      "[[22 13 17 11  0]\n",
      " [ 8  2 23  4 24]\n",
      " [21  9 14 16  7]\n",
      " [ 6 10  3 18  5]\n",
      " [ 1 12 20 15 19]]\n",
      "[63 61 67 42 67]\n",
      "[58 46 77 64 55]\n",
      "[63 61 67 42 67 58 46 77 64 55]\n"
     ]
    }
   ],
   "source": [
    "b = boards[0].copy()\n",
    "print(b)\n",
    "print(b.sum(axis=1))\n",
    "print(b.sum(axis=0))\n",
    "print(np.concatenate([b.sum(axis=1), b.sum(axis=0)]))"
   ]
  },
  {
   "cell_type": "code",
   "execution_count": 30,
   "metadata": {},
   "outputs": [
    {
     "name": "stdout",
     "output_type": "stream",
     "text": [
      "[[22 13 17 11  0]\n",
      " [-1 -1 -1 -1 -1]\n",
      " [21  9 14 16  7]\n",
      " [ 6 10  3 18  5]\n",
      " [ 1 12 20 15 19]]\n",
      "[63 -5 67 42 67 49 43 53 59 30]\n",
      "239\n"
     ]
    }
   ],
   "source": [
    "b = boards[0].copy()\n",
    "b = np.where(b == 8, -1, b)\n",
    "b = np.where(b == 2, -1, b)\n",
    "b = np.where(b == 23, -1, b)\n",
    "b = np.where(b == 4, -1, b)\n",
    "b = np.where(b == 24, -1, b)\n",
    "print(b)\n",
    "print(np.concatenate([b.sum(axis=1), b.sum(axis=0)]))\n",
    "if -5 in np.concatenate([b.sum(axis=1), b.sum(axis=0)]):\n",
    "    print(np.where(b == -1, 0, b).sum())"
   ]
  }
 ],
 "metadata": {
  "interpreter": {
   "hash": "cdaf2d1fb91b6efc72cdae7ea42388cc549ee76757dbf18f9f42bedf4e5cf391"
  },
  "kernelspec": {
   "display_name": "Python 3.8.5 64-bit",
   "language": "python",
   "name": "python3"
  },
  "language_info": {
   "codemirror_mode": {
    "name": "ipython",
    "version": 3
   },
   "file_extension": ".py",
   "mimetype": "text/x-python",
   "name": "python",
   "nbconvert_exporter": "python",
   "pygments_lexer": "ipython3",
   "version": "3.8.5"
  },
  "orig_nbformat": 4
 },
 "nbformat": 4,
 "nbformat_minor": 2
}
