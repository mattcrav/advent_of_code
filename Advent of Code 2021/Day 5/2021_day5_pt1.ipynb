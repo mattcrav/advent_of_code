{
 "cells": [
  {
   "cell_type": "code",
   "execution_count": 67,
   "metadata": {},
   "outputs": [],
   "source": [
    "import pandas as pd\n",
    "import numpy as np"
   ]
  },
  {
   "cell_type": "code",
   "execution_count": 68,
   "metadata": {},
   "outputs": [],
   "source": [
    "with open('2021_day5.csv', 'r') as f:\n",
    "    l = f.readlines()\n",
    "\n",
    "coords = []\n",
    "for r in l:\n",
    "    c = r.split(' -> ')\n",
    "    x1 = int(c[0].split(',')[0])\n",
    "    x2 = int(c[1].split(',')[0])\n",
    "    y1 = int(c[0].split(',')[1])\n",
    "    y2 = int(c[1].split(',')[1])\n",
    "    x = np.linspace(x1, x2, abs(x1-x2)+1)\n",
    "    y = np.linspace(y1, y2, abs(y1-y2)+1)\n",
    "    # print(x)\n",
    "    # print(y)\n",
    "    if len(x) > len(y):\n",
    "        y = np.repeat(y, len(x))\n",
    "    if len(y) > len(x):\n",
    "        x = np.repeat(x, len(y))\n",
    "    # xv, yv = np.meshgrid(x, y)\n",
    "    # print(r)\n",
    "    # print(x1, x2)\n",
    "    # print(x)\n",
    "    # print(y)\n",
    "    co = np.concatenate([x[:,np.newaxis], y[:,np.newaxis]], axis=1)\n",
    "    # print(xv, yv)\n",
    "    # co = np.transpose(np.concatenate([xv, yv]))\n",
    "    # print(co)\n",
    "    if x1 == x2 or y1 == y2:\n",
    "        coords.append(co)\n",
    "coords = np.concatenate(coords, axis=0)"
   ]
  },
  {
   "cell_type": "code",
   "execution_count": 69,
   "metadata": {},
   "outputs": [],
   "source": [
    "d = {}\n",
    "for i in coords:\n",
    "    s = str(i[0]) + ',' + str(i[1])\n",
    "    if s in d:\n",
    "        d[s] += 1\n",
    "    else:\n",
    "        d[s] = 1\n",
    "# print(d)"
   ]
  },
  {
   "cell_type": "code",
   "execution_count": 70,
   "metadata": {},
   "outputs": [
    {
     "name": "stdout",
     "output_type": "stream",
     "text": [
      "7473\n"
     ]
    }
   ],
   "source": [
    "tot = 0\n",
    "for c in d:\n",
    "    if d[c] > 1:\n",
    "        tot += 1\n",
    "print(tot)"
   ]
  }
 ],
 "metadata": {
  "interpreter": {
   "hash": "cdaf2d1fb91b6efc72cdae7ea42388cc549ee76757dbf18f9f42bedf4e5cf391"
  },
  "kernelspec": {
   "display_name": "Python 3.8.5 64-bit",
   "language": "python",
   "name": "python3"
  },
  "language_info": {
   "codemirror_mode": {
    "name": "ipython",
    "version": 3
   },
   "file_extension": ".py",
   "mimetype": "text/x-python",
   "name": "python",
   "nbconvert_exporter": "python",
   "pygments_lexer": "ipython3",
   "version": "3.8.5"
  },
  "orig_nbformat": 4
 },
 "nbformat": 4,
 "nbformat_minor": 2
}
