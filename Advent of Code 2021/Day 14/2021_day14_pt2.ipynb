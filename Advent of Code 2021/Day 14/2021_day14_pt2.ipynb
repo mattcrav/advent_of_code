{
 "cells": [
  {
   "cell_type": "code",
   "execution_count": 36,
   "metadata": {},
   "outputs": [],
   "source": [
    "import pandas as pd\n",
    "import numpy as np\n",
    "from collections import Counter"
   ]
  },
  {
   "cell_type": "code",
   "execution_count": 37,
   "metadata": {},
   "outputs": [
    {
     "name": "stdout",
     "output_type": "stream",
     "text": [
      "{'HK': 'C', 'SP': 'H', 'VH': 'K', 'KS': 'B', 'BC': 'S', 'PS': 'K', 'PN': 'S', 'NC': 'F', 'CV': 'B', 'SH': 'K', 'SK': 'H', 'KK': 'O', 'HO': 'V', 'HP': 'C', 'HB': 'S', 'NB': 'N', 'HC': 'K', 'SB': 'O', 'SN': 'C', 'BP': 'H', 'FC': 'V', 'CF': 'C', 'FB': 'F', 'VP': 'S', 'PO': 'N', 'HN': 'N', 'BS': 'O', 'NF': 'H', 'BH': 'O', 'NK': 'B', 'KC': 'B', 'OS': 'S', 'BB': 'S', 'SV': 'K', 'CH': 'B', 'OB': 'K', 'FV': 'B', 'CP': 'V', 'FP': 'C', 'VC': 'K', 'FS': 'S', 'SS': 'F', 'VK': 'C', 'SF': 'B', 'VS': 'B', 'CC': 'P', 'SC': 'S', 'HS': 'K', 'CN': 'C', 'BN': 'N', 'BK': 'B', 'FN': 'H', 'OK': 'S', 'FO': 'S', 'VB': 'C', 'FH': 'S', 'KN': 'K', 'CK': 'B', 'KV': 'P', 'NP': 'P', 'CB': 'N', 'KB': 'C', 'FK': 'K', 'BO': 'O', 'OV': 'B', 'OC': 'B', 'NO': 'F', 'VF': 'V', 'VO': 'B', 'FF': 'K', 'PP': 'O', 'VV': 'K', 'PC': 'N', 'OF': 'S', 'PV': 'P', 'PB': 'C', 'KO': 'V', 'BF': 'N', 'OO': 'K', 'NV': 'P', 'PK': 'V', 'BV': 'C', 'HH': 'K', 'PH': 'S', 'OH': 'B', 'HF': 'S', 'NH': 'H', 'NN': 'K', 'KF': 'H', 'ON': 'N', 'PF': 'H', 'CS': 'H', 'CO': 'O', 'SO': 'K', 'HV': 'N', 'NS': 'N', 'KP': 'S', 'OP': 'N', 'KH': 'P', 'VN': 'H'}\n",
      "SHPPPVOFPBFCHHBKBNCV\n"
     ]
    }
   ],
   "source": [
    "with open('2021_day14.csv', 'r') as f:\n",
    "    rows = f.readlines()\n",
    "input = rows[0].replace('\\n','')\n",
    "instr = {}\n",
    "for r in rows[2:]:\n",
    "    s = r.split(' -> ')\n",
    "    instr[s[0]] = s[1].replace('\\n','')\n",
    "print(instr)\n",
    "print(input)"
   ]
  },
  {
   "cell_type": "code",
   "execution_count": 38,
   "metadata": {},
   "outputs": [
    {
     "name": "stdout",
     "output_type": "stream",
     "text": [
      "{'HK': 0, 'SP': 0, 'VH': 0, 'KS': 0, 'BC': 0, 'PS': 0, 'PN': 0, 'NC': 1, 'CV': 1, 'SH': 1, 'SK': 0, 'KK': 0, 'HO': 0, 'HP': 1, 'HB': 1, 'NB': 0, 'HC': 0, 'SB': 0, 'SN': 0, 'BP': 0, 'FC': 1, 'CF': 0, 'FB': 0, 'VP': 0, 'PO': 0, 'HN': 0, 'BS': 0, 'NF': 0, 'BH': 0, 'NK': 0, 'KC': 0, 'OS': 0, 'BB': 0, 'SV': 0, 'CH': 1, 'OB': 0, 'FV': 0, 'CP': 0, 'FP': 1, 'VC': 0, 'FS': 0, 'SS': 0, 'VK': 0, 'SF': 0, 'VS': 0, 'CC': 0, 'SC': 0, 'HS': 0, 'CN': 0, 'BN': 1, 'BK': 1, 'FN': 0, 'OK': 0, 'FO': 0, 'VB': 0, 'FH': 0, 'KN': 0, 'CK': 0, 'KV': 0, 'NP': 0, 'CB': 0, 'KB': 1, 'FK': 0, 'BO': 0, 'OV': 0, 'OC': 0, 'NO': 0, 'VF': 0, 'VO': 1, 'FF': 0, 'PP': 2, 'VV': 0, 'PC': 0, 'OF': 1, 'PV': 1, 'PB': 1, 'KO': 0, 'BF': 1, 'OO': 0, 'NV': 0, 'PK': 0, 'BV': 0, 'HH': 1, 'PH': 0, 'OH': 0, 'HF': 0, 'NH': 0, 'NN': 0, 'KF': 0, 'ON': 0, 'PF': 0, 'CS': 0, 'CO': 0, 'SO': 0, 'HV': 0, 'NS': 0, 'KP': 0, 'OP': 0, 'KH': 0, 'VN': 0}\n"
     ]
    }
   ],
   "source": [
    "t = list(input)\n",
    "d = {x:0 for x in instr}\n",
    "for i in range(1, len(t)):\n",
    "    v = t[i-1] + t[i]\n",
    "    d[v] += 1\n",
    "print(d)\n",
    "        "
   ]
  },
  {
   "cell_type": "code",
   "execution_count": 39,
   "metadata": {},
   "outputs": [],
   "source": [
    "y = list(instr)\n",
    "y.sort()\n",
    "d = {x:0 for x in y}\n",
    "t = list(input)\n",
    "last = ''.join(t[-2:])\n",
    "for i in range(1, len(t)):\n",
    "    v = t[i-1] + t[i]\n",
    "    d[v] += 1\n",
    "for i in range(40):\n",
    "    # print(d, last)\n",
    "    c = d.copy()\n",
    "    for a in c:\n",
    "        n = instr[a]\n",
    "        d[a] -= c[a]\n",
    "        d[a[0] + n] += c[a]\n",
    "        d[n + a[1]] += c[a]\n",
    "        if a == last:\n",
    "            last = n + a[1]\n",
    "    "
   ]
  },
  {
   "cell_type": "code",
   "execution_count": 40,
   "metadata": {},
   "outputs": [
    {
     "name": "stdout",
     "output_type": "stream",
     "text": [
      "{'B': 2924701934375, 'C': 1960323176644, 'F': 1312356250636, 'H': 1167438720302, 'K': 3196188675295, 'N': 2380937199871, 'O': 2011650883324, 'P': 1147534294695, 'S': 4071368346378, 'V': 718221446225}\n",
      "4071368346378 718221446225 3353146900153\n"
     ]
    }
   ],
   "source": [
    "r = {}\n",
    "for k in d:\n",
    "    if k[0] in r:\n",
    "        r[k[0]] += d[k]\n",
    "    else:\n",
    "        r[k[0]] = d[k]\n",
    "r[last[1]] += 1\n",
    "print(r)\n",
    "print(max(r.values()), min(r.values()), max(r.values())-min(r.values()))"
   ]
  }
 ],
 "metadata": {
  "interpreter": {
   "hash": "cdaf2d1fb91b6efc72cdae7ea42388cc549ee76757dbf18f9f42bedf4e5cf391"
  },
  "kernelspec": {
   "display_name": "Python 3.8.5 64-bit",
   "language": "python",
   "name": "python3"
  },
  "language_info": {
   "codemirror_mode": {
    "name": "ipython",
    "version": 3
   },
   "file_extension": ".py",
   "mimetype": "text/x-python",
   "name": "python",
   "nbconvert_exporter": "python",
   "pygments_lexer": "ipython3",
   "version": "3.8.5"
  },
  "orig_nbformat": 4
 },
 "nbformat": 4,
 "nbformat_minor": 2
}
