{
 "cells": [
  {
   "cell_type": "code",
   "execution_count": 39,
   "metadata": {},
   "outputs": [],
   "source": [
    "import pandas as pd\n",
    "import numpy as np\n",
    "from collections import Counter"
   ]
  },
  {
   "cell_type": "code",
   "execution_count": 40,
   "metadata": {},
   "outputs": [
    {
     "name": "stdout",
     "output_type": "stream",
     "text": [
      "{'HK': 'C', 'SP': 'H', 'VH': 'K', 'KS': 'B', 'BC': 'S', 'PS': 'K', 'PN': 'S', 'NC': 'F', 'CV': 'B', 'SH': 'K', 'SK': 'H', 'KK': 'O', 'HO': 'V', 'HP': 'C', 'HB': 'S', 'NB': 'N', 'HC': 'K', 'SB': 'O', 'SN': 'C', 'BP': 'H', 'FC': 'V', 'CF': 'C', 'FB': 'F', 'VP': 'S', 'PO': 'N', 'HN': 'N', 'BS': 'O', 'NF': 'H', 'BH': 'O', 'NK': 'B', 'KC': 'B', 'OS': 'S', 'BB': 'S', 'SV': 'K', 'CH': 'B', 'OB': 'K', 'FV': 'B', 'CP': 'V', 'FP': 'C', 'VC': 'K', 'FS': 'S', 'SS': 'F', 'VK': 'C', 'SF': 'B', 'VS': 'B', 'CC': 'P', 'SC': 'S', 'HS': 'K', 'CN': 'C', 'BN': 'N', 'BK': 'B', 'FN': 'H', 'OK': 'S', 'FO': 'S', 'VB': 'C', 'FH': 'S', 'KN': 'K', 'CK': 'B', 'KV': 'P', 'NP': 'P', 'CB': 'N', 'KB': 'C', 'FK': 'K', 'BO': 'O', 'OV': 'B', 'OC': 'B', 'NO': 'F', 'VF': 'V', 'VO': 'B', 'FF': 'K', 'PP': 'O', 'VV': 'K', 'PC': 'N', 'OF': 'S', 'PV': 'P', 'PB': 'C', 'KO': 'V', 'BF': 'N', 'OO': 'K', 'NV': 'P', 'PK': 'V', 'BV': 'C', 'HH': 'K', 'PH': 'S', 'OH': 'B', 'HF': 'S', 'NH': 'H', 'NN': 'K', 'KF': 'H', 'ON': 'N', 'PF': 'H', 'CS': 'H', 'CO': 'O', 'SO': 'K', 'HV': 'N', 'NS': 'N', 'KP': 'S', 'OP': 'N', 'KH': 'P', 'VN': 'H'}\n",
      "SHPPPVOFPBFCHHBKBNCV\n"
     ]
    }
   ],
   "source": [
    "with open('2021_day14.csv', 'r') as f:\n",
    "    rows = f.readlines()\n",
    "input = rows[0].replace('\\n','')\n",
    "instr = {}\n",
    "for r in rows[2:]:\n",
    "    s = r.split(' -> ')\n",
    "    instr[s[0]] = s[1].replace('\\n','')\n",
    "print(instr)\n",
    "print(input)"
   ]
  },
  {
   "cell_type": "code",
   "execution_count": 44,
   "metadata": {},
   "outputs": [
    {
     "name": "stdout",
     "output_type": "stream",
     "text": [
      "0\n",
      "1\n",
      "2\n",
      "3\n",
      "4\n",
      "5\n",
      "6\n",
      "7\n",
      "8\n",
      "9\n",
      "10\n",
      "11\n",
      "12\n"
     ]
    },
    {
     "ename": "KeyboardInterrupt",
     "evalue": "",
     "output_type": "error",
     "traceback": [
      "\u001b[1;31m---------------------------------------------------------------------------\u001b[0m",
      "\u001b[1;31mKeyboardInterrupt\u001b[0m                         Traceback (most recent call last)",
      "\u001b[1;32m<ipython-input-44-cfdeeee74845>\u001b[0m in \u001b[0;36m<module>\u001b[1;34m\u001b[0m\n\u001b[0;32m      8\u001b[0m     \u001b[1;32mfor\u001b[0m \u001b[0mi\u001b[0m \u001b[1;32min\u001b[0m \u001b[0mrange\u001b[0m\u001b[1;33m(\u001b[0m\u001b[1;36m1\u001b[0m\u001b[1;33m,\u001b[0m \u001b[0mlen\u001b[0m\u001b[1;33m(\u001b[0m\u001b[0mn\u001b[0m\u001b[1;33m)\u001b[0m\u001b[1;33m*\u001b[0m\u001b[1;36m2\u001b[0m\u001b[1;33m,\u001b[0m \u001b[1;36m2\u001b[0m\u001b[1;33m)\u001b[0m\u001b[1;33m:\u001b[0m\u001b[1;33m\u001b[0m\u001b[1;33m\u001b[0m\u001b[0m\n\u001b[0;32m      9\u001b[0m         \u001b[1;31m# print(i)\u001b[0m\u001b[1;33m\u001b[0m\u001b[1;33m\u001b[0m\u001b[1;33m\u001b[0m\u001b[0m\n\u001b[1;32m---> 10\u001b[1;33m         \u001b[0mt\u001b[0m\u001b[1;33m.\u001b[0m\u001b[0minsert\u001b[0m\u001b[1;33m(\u001b[0m\u001b[0mi\u001b[0m\u001b[1;33m,\u001b[0m \u001b[0mn\u001b[0m\u001b[1;33m.\u001b[0m\u001b[0mpop\u001b[0m\u001b[1;33m(\u001b[0m\u001b[1;36m0\u001b[0m\u001b[1;33m)\u001b[0m\u001b[1;33m)\u001b[0m\u001b[1;33m\u001b[0m\u001b[1;33m\u001b[0m\u001b[0m\n\u001b[0m\u001b[0;32m     11\u001b[0m         \u001b[1;31m# print(i)\u001b[0m\u001b[1;33m\u001b[0m\u001b[1;33m\u001b[0m\u001b[1;33m\u001b[0m\u001b[0m\n\u001b[0;32m     12\u001b[0m     \u001b[1;31m# print(''.join(t))\u001b[0m\u001b[1;33m\u001b[0m\u001b[1;33m\u001b[0m\u001b[1;33m\u001b[0m\u001b[0m\n",
      "\u001b[1;31mKeyboardInterrupt\u001b[0m: "
     ]
    }
   ],
   "source": [
    "t = list(input)\n",
    "n = []\n",
    "for j in range(10):\n",
    "    print(j)\n",
    "    for i in range(1, len(t)):\n",
    "        v = t[i-1] + t[i]\n",
    "        n.append(instr[v])\n",
    "    for i in range(1, len(n)*2, 2):\n",
    "        # print(i)\n",
    "        t.insert(i, n.pop(0))\n",
    "        # print(i)\n",
    "    # print(''.join(t))\n",
    "# t = list(' '.join(t))[:-2]\n",
    "# n = list(' ' + ' '.join(n) + ' ')\n",
    "# print(t)\n",
    "print(Counter(t))\n",
    "# print(np.array(t))\n",
    "# print(np.array(n))\n",
    "# print(np.array(t) + np.array(n))\n",
    "        "
   ]
  },
  {
   "cell_type": "code",
   "execution_count": 42,
   "metadata": {},
   "outputs": [
    {
     "data": {
      "text/plain": [
       "2915"
      ]
     },
     "execution_count": 42,
     "metadata": {},
     "output_type": "execute_result"
    }
   ],
   "source": [
    "3675-760"
   ]
  }
 ],
 "metadata": {
  "interpreter": {
   "hash": "cdaf2d1fb91b6efc72cdae7ea42388cc549ee76757dbf18f9f42bedf4e5cf391"
  },
  "kernelspec": {
   "display_name": "Python 3.8.5 64-bit",
   "language": "python",
   "name": "python3"
  },
  "language_info": {
   "codemirror_mode": {
    "name": "ipython",
    "version": 3
   },
   "file_extension": ".py",
   "mimetype": "text/x-python",
   "name": "python",
   "nbconvert_exporter": "python",
   "pygments_lexer": "ipython3",
   "version": "3.8.5"
  },
  "orig_nbformat": 4
 },
 "nbformat": 4,
 "nbformat_minor": 2
}
