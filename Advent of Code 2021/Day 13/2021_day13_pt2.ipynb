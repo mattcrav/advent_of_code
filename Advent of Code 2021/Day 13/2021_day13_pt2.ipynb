{
 "cells": [
  {
   "cell_type": "code",
   "execution_count": 1,
   "metadata": {},
   "outputs": [],
   "source": [
    "import pandas as pd\n",
    "import numpy as np\n",
    "from collections import Counter"
   ]
  },
  {
   "cell_type": "code",
   "execution_count": 2,
   "metadata": {},
   "outputs": [],
   "source": [
    "with open('2021_day13.csv', 'r') as f:\n",
    "    rows = f.readlines()\n",
    "coords = []\n",
    "instr = []\n",
    "for r in rows:\n",
    "    # print(r)\n",
    "    if r == '\\n':\n",
    "        continue\n",
    "    if r.startswith('fold'):\n",
    "        instr.append(r.split('='))\n",
    "    else:\n",
    "        coords.append([int(x) for x in r.replace('\\n','').split(',')])\n",
    "# print(instr)\n",
    "# print(coords)"
   ]
  },
  {
   "cell_type": "code",
   "execution_count": 3,
   "metadata": {},
   "outputs": [],
   "source": [
    "w = max(x[1] for x in coords) + 4 # shape of grid must be 2x largest instruction + 1 not just max coordinate\n",
    "h = max(x[0] for x in coords) + 1\n",
    "n = np.zeros((w, h))\n",
    "for c in coords:\n",
    "    # print(c)\n",
    "    n[c[1], c[0]] = 1\n",
    "for i in instr:\n",
    "    # print(i)\n",
    "    # print(n.shape)\n",
    "    v = int(i[1].replace('\\n',''))\n",
    "    if i[0] == 'fold along y':\n",
    "        t = n[:v]\n",
    "        b = n[v+1:]\n",
    "        n = t + np.flip(b, axis=0)\n",
    "    if i[0] == 'fold along x':\n",
    "        l = n[:,:v]\n",
    "        r = n[:,v+1:]\n",
    "        n = l + np.flip(r, axis=1)\n",
    "# print(n)\n",
    "# print((n > 0).sum())\n",
    "        "
   ]
  },
  {
   "cell_type": "code",
   "execution_count": 9,
   "metadata": {},
   "outputs": [
    {
     "name": "stdout",
     "output_type": "stream",
     "text": [
      "0     0     0 0     0         0 0 0 0   0 0 0       0 0     0 0 0 0   0     0  \n",
      "0     0   0     0   0               0   0     0   0     0         0   0     0  \n",
      "0     0   0         0             0     0     0   0     0       0     0     0  \n",
      "0     0   0         0           0       0 0 0     0 0 0 0     0       0     0  \n",
      "0     0   0     0   0         0         0   0     0     0   0         0     0  \n",
      "  0 0       0 0     0 0 0 0   0 0 0 0   0     0   0     0   0 0 0 0     0 0    \n"
     ]
    }
   ],
   "source": [
    "m = np.where(n > 0, '0', ' ')\n",
    "for i in m:\n",
    "    print(' '.join(list(i)))"
   ]
  },
  {
   "cell_type": "code",
   "execution_count": null,
   "metadata": {},
   "outputs": [],
   "source": []
  }
 ],
 "metadata": {
  "interpreter": {
   "hash": "cdaf2d1fb91b6efc72cdae7ea42388cc549ee76757dbf18f9f42bedf4e5cf391"
  },
  "kernelspec": {
   "display_name": "Python 3.8.5 64-bit",
   "language": "python",
   "name": "python3"
  },
  "language_info": {
   "codemirror_mode": {
    "name": "ipython",
    "version": 3
   },
   "file_extension": ".py",
   "mimetype": "text/x-python",
   "name": "python",
   "nbconvert_exporter": "python",
   "pygments_lexer": "ipython3",
   "version": "3.8.5"
  },
  "orig_nbformat": 4
 },
 "nbformat": 4,
 "nbformat_minor": 2
}
