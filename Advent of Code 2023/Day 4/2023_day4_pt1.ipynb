{
 "cells": [
  {
   "cell_type": "code",
   "execution_count": 32,
   "metadata": {},
   "outputs": [],
   "source": [
    "import pandas as pd\n",
    "import math"
   ]
  },
  {
   "cell_type": "code",
   "execution_count": 33,
   "metadata": {},
   "outputs": [
    {
     "data": {
      "text/html": [
       "<div>\n",
       "<style scoped>\n",
       "    .dataframe tbody tr th:only-of-type {\n",
       "        vertical-align: middle;\n",
       "    }\n",
       "\n",
       "    .dataframe tbody tr th {\n",
       "        vertical-align: top;\n",
       "    }\n",
       "\n",
       "    .dataframe thead th {\n",
       "        text-align: right;\n",
       "    }\n",
       "</style>\n",
       "<table border=\"1\" class=\"dataframe\">\n",
       "  <thead>\n",
       "    <tr style=\"text-align: right;\">\n",
       "      <th></th>\n",
       "      <th>0</th>\n",
       "    </tr>\n",
       "  </thead>\n",
       "  <tbody>\n",
       "    <tr>\n",
       "      <th>0</th>\n",
       "      <td>Card   1: 66 90 67 76 55 13 91 31 95  4 | 82 9...</td>\n",
       "    </tr>\n",
       "    <tr>\n",
       "      <th>1</th>\n",
       "      <td>Card   2: 94 57 54 45  9 78 71 35 48 44 |  9 5...</td>\n",
       "    </tr>\n",
       "    <tr>\n",
       "      <th>2</th>\n",
       "      <td>Card   3: 44 10 67 65 62 43 47 13 26 95 | 67 5...</td>\n",
       "    </tr>\n",
       "    <tr>\n",
       "      <th>3</th>\n",
       "      <td>Card   4: 47 48 14 30 64 31 81 22 65 60 | 85 2...</td>\n",
       "    </tr>\n",
       "    <tr>\n",
       "      <th>4</th>\n",
       "      <td>Card   5: 43 66 44 76 67 27 52 26 83 39 | 37 8...</td>\n",
       "    </tr>\n",
       "  </tbody>\n",
       "</table>\n",
       "</div>"
      ],
      "text/plain": [
       "                                                   0\n",
       "0  Card   1: 66 90 67 76 55 13 91 31 95  4 | 82 9...\n",
       "1  Card   2: 94 57 54 45  9 78 71 35 48 44 |  9 5...\n",
       "2  Card   3: 44 10 67 65 62 43 47 13 26 95 | 67 5...\n",
       "3  Card   4: 47 48 14 30 64 31 81 22 65 60 | 85 2...\n",
       "4  Card   5: 43 66 44 76 67 27 52 26 83 39 | 37 8..."
      ]
     },
     "execution_count": 33,
     "metadata": {},
     "output_type": "execute_result"
    }
   ],
   "source": [
    "with open('2023_day4.csv', 'r') as f:\n",
    "    s = f.readlines()\n",
    "    df = pd.DataFrame(s)\n",
    "df.head()"
   ]
  },
  {
   "cell_type": "code",
   "execution_count": 34,
   "metadata": {},
   "outputs": [
    {
     "data": {
      "text/html": [
       "<div>\n",
       "<style scoped>\n",
       "    .dataframe tbody tr th:only-of-type {\n",
       "        vertical-align: middle;\n",
       "    }\n",
       "\n",
       "    .dataframe tbody tr th {\n",
       "        vertical-align: top;\n",
       "    }\n",
       "\n",
       "    .dataframe thead th {\n",
       "        text-align: right;\n",
       "    }\n",
       "</style>\n",
       "<table border=\"1\" class=\"dataframe\">\n",
       "  <thead>\n",
       "    <tr style=\"text-align: right;\">\n",
       "      <th></th>\n",
       "      <th>id</th>\n",
       "      <th>0</th>\n",
       "      <th>1</th>\n",
       "    </tr>\n",
       "  </thead>\n",
       "  <tbody>\n",
       "    <tr>\n",
       "      <th>0</th>\n",
       "      <td>Card   1</td>\n",
       "      <td>[66, 90, 67, 76, 55, 13, 91, 31, 95, 4]</td>\n",
       "      <td>[82, 98, 69, 8, 15, 2, 32, 24, 99, 56, 46, 65,...</td>\n",
       "    </tr>\n",
       "    <tr>\n",
       "      <th>1</th>\n",
       "      <td>Card   2</td>\n",
       "      <td>[94, 57, 54, 45, 9, 78, 71, 35, 48, 44]</td>\n",
       "      <td>[9, 56, 28, 57, 55, 95, 32, 48, 76, 47, 94, 35...</td>\n",
       "    </tr>\n",
       "    <tr>\n",
       "      <th>2</th>\n",
       "      <td>Card   3</td>\n",
       "      <td>[44, 10, 67, 65, 62, 43, 47, 13, 26, 95]</td>\n",
       "      <td>[67, 55, 65, 68, 26, 77, 41, 43, 94, 13, 62, 2...</td>\n",
       "    </tr>\n",
       "    <tr>\n",
       "      <th>3</th>\n",
       "      <td>Card   4</td>\n",
       "      <td>[47, 48, 14, 30, 64, 31, 81, 22, 65, 60]</td>\n",
       "      <td>[85, 23, 47, 19, 60, 31, 32, 68, 64, 33, 14, 2...</td>\n",
       "    </tr>\n",
       "    <tr>\n",
       "      <th>4</th>\n",
       "      <td>Card   5</td>\n",
       "      <td>[43, 66, 44, 76, 67, 27, 52, 26, 83, 39]</td>\n",
       "      <td>[37, 83, 99, 29, 48, 60, 62, 2, 31, 27, 4, 65,...</td>\n",
       "    </tr>\n",
       "  </tbody>\n",
       "</table>\n",
       "</div>"
      ],
      "text/plain": [
       "         id                                         0  \\\n",
       "0  Card   1   [66, 90, 67, 76, 55, 13, 91, 31, 95, 4]   \n",
       "1  Card   2   [94, 57, 54, 45, 9, 78, 71, 35, 48, 44]   \n",
       "2  Card   3  [44, 10, 67, 65, 62, 43, 47, 13, 26, 95]   \n",
       "3  Card   4  [47, 48, 14, 30, 64, 31, 81, 22, 65, 60]   \n",
       "4  Card   5  [43, 66, 44, 76, 67, 27, 52, 26, 83, 39]   \n",
       "\n",
       "                                                   1  \n",
       "0  [82, 98, 69, 8, 15, 2, 32, 24, 99, 56, 46, 65,...  \n",
       "1  [9, 56, 28, 57, 55, 95, 32, 48, 76, 47, 94, 35...  \n",
       "2  [67, 55, 65, 68, 26, 77, 41, 43, 94, 13, 62, 2...  \n",
       "3  [85, 23, 47, 19, 60, 31, 32, 68, 64, 33, 14, 2...  \n",
       "4  [37, 83, 99, 29, 48, 60, 62, 2, 31, 27, 4, 65,...  "
      ]
     },
     "execution_count": 34,
     "metadata": {},
     "output_type": "execute_result"
    }
   ],
   "source": [
    "a = df[0].str.split(':', expand=True).rename(columns={0:'id'})\n",
    "a = pd.concat([a['id'], a[1].str.split('|', expand=True)], axis=1)\n",
    "a[0] = a[0].str.strip().str.replace('  ',' ').str.split(' ')\n",
    "a[1] = a[1].str.strip().str.replace('  ',' ').str.replace('\\n','').str.split(' ')\n",
    "a.head()"
   ]
  },
  {
   "cell_type": "code",
   "execution_count": 35,
   "metadata": {},
   "outputs": [],
   "source": [
    "def match(d):\n",
    "    matches = 0\n",
    "    for x in d[1]:\n",
    "        if x in d[0]:\n",
    "            matches += 1\n",
    "    if matches == 0:\n",
    "        return 0\n",
    "    else:\n",
    "        return math.pow(2, matches - 1)"
   ]
  },
  {
   "cell_type": "code",
   "execution_count": 37,
   "metadata": {},
   "outputs": [
    {
     "name": "stdout",
     "output_type": "stream",
     "text": [
      "27845\n"
     ]
    },
    {
     "data": {
      "text/html": [
       "<div>\n",
       "<style scoped>\n",
       "    .dataframe tbody tr th:only-of-type {\n",
       "        vertical-align: middle;\n",
       "    }\n",
       "\n",
       "    .dataframe tbody tr th {\n",
       "        vertical-align: top;\n",
       "    }\n",
       "\n",
       "    .dataframe thead th {\n",
       "        text-align: right;\n",
       "    }\n",
       "</style>\n",
       "<table border=\"1\" class=\"dataframe\">\n",
       "  <thead>\n",
       "    <tr style=\"text-align: right;\">\n",
       "      <th></th>\n",
       "      <th>id</th>\n",
       "      <th>0</th>\n",
       "      <th>1</th>\n",
       "      <th>res</th>\n",
       "    </tr>\n",
       "  </thead>\n",
       "  <tbody>\n",
       "    <tr>\n",
       "      <th>0</th>\n",
       "      <td>Card   1</td>\n",
       "      <td>[66, 90, 67, 76, 55, 13, 91, 31, 95, 4]</td>\n",
       "      <td>[82, 98, 69, 8, 15, 2, 32, 24, 99, 56, 46, 65,...</td>\n",
       "      <td>0.0</td>\n",
       "    </tr>\n",
       "    <tr>\n",
       "      <th>1</th>\n",
       "      <td>Card   2</td>\n",
       "      <td>[94, 57, 54, 45, 9, 78, 71, 35, 48, 44]</td>\n",
       "      <td>[9, 56, 28, 57, 55, 95, 32, 48, 76, 47, 94, 35...</td>\n",
       "      <td>512.0</td>\n",
       "    </tr>\n",
       "    <tr>\n",
       "      <th>2</th>\n",
       "      <td>Card   3</td>\n",
       "      <td>[44, 10, 67, 65, 62, 43, 47, 13, 26, 95]</td>\n",
       "      <td>[67, 55, 65, 68, 26, 77, 41, 43, 94, 13, 62, 2...</td>\n",
       "      <td>512.0</td>\n",
       "    </tr>\n",
       "    <tr>\n",
       "      <th>3</th>\n",
       "      <td>Card   4</td>\n",
       "      <td>[47, 48, 14, 30, 64, 31, 81, 22, 65, 60]</td>\n",
       "      <td>[85, 23, 47, 19, 60, 31, 32, 68, 64, 33, 14, 2...</td>\n",
       "      <td>512.0</td>\n",
       "    </tr>\n",
       "    <tr>\n",
       "      <th>4</th>\n",
       "      <td>Card   5</td>\n",
       "      <td>[43, 66, 44, 76, 67, 27, 52, 26, 83, 39]</td>\n",
       "      <td>[37, 83, 99, 29, 48, 60, 62, 2, 31, 27, 4, 65,...</td>\n",
       "      <td>8.0</td>\n",
       "    </tr>\n",
       "  </tbody>\n",
       "</table>\n",
       "</div>"
      ],
      "text/plain": [
       "         id                                         0  \\\n",
       "0  Card   1   [66, 90, 67, 76, 55, 13, 91, 31, 95, 4]   \n",
       "1  Card   2   [94, 57, 54, 45, 9, 78, 71, 35, 48, 44]   \n",
       "2  Card   3  [44, 10, 67, 65, 62, 43, 47, 13, 26, 95]   \n",
       "3  Card   4  [47, 48, 14, 30, 64, 31, 81, 22, 65, 60]   \n",
       "4  Card   5  [43, 66, 44, 76, 67, 27, 52, 26, 83, 39]   \n",
       "\n",
       "                                                   1    res  \n",
       "0  [82, 98, 69, 8, 15, 2, 32, 24, 99, 56, 46, 65,...    0.0  \n",
       "1  [9, 56, 28, 57, 55, 95, 32, 48, 76, 47, 94, 35...  512.0  \n",
       "2  [67, 55, 65, 68, 26, 77, 41, 43, 94, 13, 62, 2...  512.0  \n",
       "3  [85, 23, 47, 19, 60, 31, 32, 68, 64, 33, 14, 2...  512.0  \n",
       "4  [37, 83, 99, 29, 48, 60, 62, 2, 31, 27, 4, 65,...    8.0  "
      ]
     },
     "execution_count": 37,
     "metadata": {},
     "output_type": "execute_result"
    }
   ],
   "source": [
    "a['res'] = a.apply(match, axis=1)\n",
    "print(int(a['res'].sum()))\n",
    "a.head()"
   ]
  }
 ],
 "metadata": {
  "kernelspec": {
   "display_name": "Python 3",
   "language": "python",
   "name": "python3"
  },
  "language_info": {
   "codemirror_mode": {
    "name": "ipython",
    "version": 3
   },
   "file_extension": ".py",
   "mimetype": "text/x-python",
   "name": "python",
   "nbconvert_exporter": "python",
   "pygments_lexer": "ipython3",
   "version": "3.8.5"
  }
 },
 "nbformat": 4,
 "nbformat_minor": 2
}
