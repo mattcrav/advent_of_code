{
 "metadata": {
  "language_info": {
   "codemirror_mode": {
    "name": "ipython",
    "version": 3
   },
   "file_extension": ".py",
   "mimetype": "text/x-python",
   "name": "python",
   "nbconvert_exporter": "python",
   "pygments_lexer": "ipython3",
   "version": "3.8.5-final"
  },
  "orig_nbformat": 2,
  "kernelspec": {
   "name": "python3",
   "display_name": "Python 3.8.5 64-bit",
   "metadata": {
    "interpreter": {
     "hash": "cdaf2d1fb91b6efc72cdae7ea42388cc549ee76757dbf18f9f42bedf4e5cf391"
    }
   }
  }
 },
 "nbformat": 4,
 "nbformat_minor": 2,
 "cells": [
  {
   "cell_type": "code",
   "execution_count": 73,
   "metadata": {},
   "outputs": [],
   "source": [
    "import numpy as np\n",
    "import pandas as pd"
   ]
  },
  {
   "cell_type": "code",
   "execution_count": 74,
   "metadata": {},
   "outputs": [
    {
     "output_type": "execute_result",
     "data": {
      "text/plain": [
       "                        instruction\n",
       "0    toggle 461,550 through 564,900\n",
       "1   turn off 370,39 through 425,839\n",
       "2  turn off 464,858 through 833,915\n",
       "3  turn off 812,389 through 865,874\n",
       "4   turn on 599,989 through 806,993"
      ],
      "text/html": "<div>\n<style scoped>\n    .dataframe tbody tr th:only-of-type {\n        vertical-align: middle;\n    }\n\n    .dataframe tbody tr th {\n        vertical-align: top;\n    }\n\n    .dataframe thead th {\n        text-align: right;\n    }\n</style>\n<table border=\"1\" class=\"dataframe\">\n  <thead>\n    <tr style=\"text-align: right;\">\n      <th></th>\n      <th>instruction</th>\n    </tr>\n  </thead>\n  <tbody>\n    <tr>\n      <th>0</th>\n      <td>toggle 461,550 through 564,900</td>\n    </tr>\n    <tr>\n      <th>1</th>\n      <td>turn off 370,39 through 425,839</td>\n    </tr>\n    <tr>\n      <th>2</th>\n      <td>turn off 464,858 through 833,915</td>\n    </tr>\n    <tr>\n      <th>3</th>\n      <td>turn off 812,389 through 865,874</td>\n    </tr>\n    <tr>\n      <th>4</th>\n      <td>turn on 599,989 through 806,993</td>\n    </tr>\n  </tbody>\n</table>\n</div>"
     },
     "metadata": {},
     "execution_count": 74
    }
   ],
   "source": [
    "df = pd.read_csv('2015_day6.csv', header=None, names=['instruction'], sep='\\n')\n",
    "df.head()"
   ]
  },
  {
   "cell_type": "code",
   "execution_count": 75,
   "metadata": {},
   "outputs": [],
   "source": [
    "def get_corner1(i):\n",
    "    return i.split(' through ')[0].split(' ')[-1].split(',')\n",
    "\n",
    "def get_corner2(i):\n",
    "    return i.split(' through ')[1].split(' ')[-1].split(',')\n",
    "\n",
    "def get_action(i):\n",
    "    if 'toggle' in i:\n",
    "        return 'toggle'\n",
    "    if 'off' in i:\n",
    "        return 'off'\n",
    "    if 'on' in i:\n",
    "        return 'on'\n",
    "    return None"
   ]
  },
  {
   "cell_type": "code",
   "execution_count": 76,
   "metadata": {},
   "outputs": [
    {
     "output_type": "execute_result",
     "data": {
      "text/plain": [
       "                        instruction     corner1     corner2  action\n",
       "0    toggle 461,550 through 564,900  [461, 550]  [564, 900]  toggle\n",
       "1   turn off 370,39 through 425,839   [370, 39]  [425, 839]     off\n",
       "2  turn off 464,858 through 833,915  [464, 858]  [833, 915]     off\n",
       "3  turn off 812,389 through 865,874  [812, 389]  [865, 874]     off\n",
       "4   turn on 599,989 through 806,993  [599, 989]  [806, 993]      on"
      ],
      "text/html": "<div>\n<style scoped>\n    .dataframe tbody tr th:only-of-type {\n        vertical-align: middle;\n    }\n\n    .dataframe tbody tr th {\n        vertical-align: top;\n    }\n\n    .dataframe thead th {\n        text-align: right;\n    }\n</style>\n<table border=\"1\" class=\"dataframe\">\n  <thead>\n    <tr style=\"text-align: right;\">\n      <th></th>\n      <th>instruction</th>\n      <th>corner1</th>\n      <th>corner2</th>\n      <th>action</th>\n    </tr>\n  </thead>\n  <tbody>\n    <tr>\n      <th>0</th>\n      <td>toggle 461,550 through 564,900</td>\n      <td>[461, 550]</td>\n      <td>[564, 900]</td>\n      <td>toggle</td>\n    </tr>\n    <tr>\n      <th>1</th>\n      <td>turn off 370,39 through 425,839</td>\n      <td>[370, 39]</td>\n      <td>[425, 839]</td>\n      <td>off</td>\n    </tr>\n    <tr>\n      <th>2</th>\n      <td>turn off 464,858 through 833,915</td>\n      <td>[464, 858]</td>\n      <td>[833, 915]</td>\n      <td>off</td>\n    </tr>\n    <tr>\n      <th>3</th>\n      <td>turn off 812,389 through 865,874</td>\n      <td>[812, 389]</td>\n      <td>[865, 874]</td>\n      <td>off</td>\n    </tr>\n    <tr>\n      <th>4</th>\n      <td>turn on 599,989 through 806,993</td>\n      <td>[599, 989]</td>\n      <td>[806, 993]</td>\n      <td>on</td>\n    </tr>\n  </tbody>\n</table>\n</div>"
     },
     "metadata": {},
     "execution_count": 76
    }
   ],
   "source": [
    "df['corner1'] = df['instruction'].apply(get_corner1)\n",
    "df['corner2'] = df['instruction'].apply(get_corner2)\n",
    "df['action'] = df['instruction'].apply(get_action)\n",
    "df.head()"
   ]
  },
  {
   "cell_type": "code",
   "execution_count": 77,
   "metadata": {},
   "outputs": [
    {
     "output_type": "execute_result",
     "data": {
      "text/plain": [
       "array([[0., 0., 0., ..., 0., 0., 0.],\n",
       "       [0., 0., 0., ..., 0., 0., 0.],\n",
       "       [0., 0., 0., ..., 0., 0., 0.],\n",
       "       ...,\n",
       "       [0., 0., 0., ..., 0., 0., 0.],\n",
       "       [0., 0., 0., ..., 0., 0., 0.],\n",
       "       [0., 0., 0., ..., 0., 0., 0.]])"
      ]
     },
     "metadata": {},
     "execution_count": 77
    }
   ],
   "source": [
    "grid = np.zeros((1000, 1000))\n",
    "grid"
   ]
  },
  {
   "cell_type": "code",
   "execution_count": 78,
   "metadata": {},
   "outputs": [],
   "source": [
    "c1 = df['corner1'].to_numpy()\n",
    "c2 = df['corner2'].to_numpy()\n",
    "a = df['action'].to_numpy()"
   ]
  },
  {
   "cell_type": "code",
   "execution_count": 79,
   "metadata": {},
   "outputs": [],
   "source": [
    "for i in range(len(c1)):\n",
    "    for x in range(int(c1[i][0]), int(c2[i][0]) + 1):\n",
    "        for y in range(int(c1[i][1]), int(c2[i][1]) + 1):\n",
    "            if a[i] == 'on':\n",
    "                grid[x][y] = 1\n",
    "            if a[i] == 'off':\n",
    "                grid[x][y] = 0\n",
    "            if a[i] == 'toggle':\n",
    "                grid[x][y] = abs(grid[x][y] - 1)"
   ]
  },
  {
   "cell_type": "code",
   "execution_count": 80,
   "metadata": {},
   "outputs": [
    {
     "output_type": "stream",
     "name": "stdout",
     "text": [
      "543903.0\n[[0. 0. 0. ... 0. 0. 0.]\n [0. 0. 0. ... 0. 0. 0.]\n [0. 0. 0. ... 0. 0. 0.]\n ...\n [0. 0. 0. ... 0. 0. 0.]\n [0. 0. 0. ... 0. 0. 0.]\n [0. 0. 0. ... 0. 0. 0.]]\n"
     ]
    }
   ],
   "source": [
    "print(grid.sum())\n",
    "print(grid)"
   ]
  }
 ]
}