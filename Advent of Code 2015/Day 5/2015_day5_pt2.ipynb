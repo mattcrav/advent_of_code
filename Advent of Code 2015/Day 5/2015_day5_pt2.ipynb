{
 "metadata": {
  "language_info": {
   "codemirror_mode": {
    "name": "ipython",
    "version": 3
   },
   "file_extension": ".py",
   "mimetype": "text/x-python",
   "name": "python",
   "nbconvert_exporter": "python",
   "pygments_lexer": "ipython3",
   "version": "3.8.5-final"
  },
  "orig_nbformat": 2,
  "kernelspec": {
   "name": "python3",
   "display_name": "Python 3.8.5 64-bit",
   "metadata": {
    "interpreter": {
     "hash": "cdaf2d1fb91b6efc72cdae7ea42388cc549ee76757dbf18f9f42bedf4e5cf391"
    }
   }
  }
 },
 "nbformat": 4,
 "nbformat_minor": 2,
 "cells": [
  {
   "cell_type": "code",
   "execution_count": 14,
   "metadata": {},
   "outputs": [],
   "source": [
    "import pandas as pd\n",
    "import numpy as np\n",
    "from collections import Counter"
   ]
  },
  {
   "cell_type": "code",
   "execution_count": 15,
   "metadata": {},
   "outputs": [
    {
     "output_type": "execute_result",
     "data": {
      "text/plain": [
       "                  s\n",
       "0  rthkunfaakmwmush\n",
       "1  qxlnvjguikqcyfzt\n",
       "2  sleaoasjspnjctqt\n",
       "3  lactpmehuhmzwfjl\n",
       "4  bvggvrdgjcspkkyj"
      ],
      "text/html": "<div>\n<style scoped>\n    .dataframe tbody tr th:only-of-type {\n        vertical-align: middle;\n    }\n\n    .dataframe tbody tr th {\n        vertical-align: top;\n    }\n\n    .dataframe thead th {\n        text-align: right;\n    }\n</style>\n<table border=\"1\" class=\"dataframe\">\n  <thead>\n    <tr style=\"text-align: right;\">\n      <th></th>\n      <th>s</th>\n    </tr>\n  </thead>\n  <tbody>\n    <tr>\n      <th>0</th>\n      <td>rthkunfaakmwmush</td>\n    </tr>\n    <tr>\n      <th>1</th>\n      <td>qxlnvjguikqcyfzt</td>\n    </tr>\n    <tr>\n      <th>2</th>\n      <td>sleaoasjspnjctqt</td>\n    </tr>\n    <tr>\n      <th>3</th>\n      <td>lactpmehuhmzwfjl</td>\n    </tr>\n    <tr>\n      <th>4</th>\n      <td>bvggvrdgjcspkkyj</td>\n    </tr>\n  </tbody>\n</table>\n</div>"
     },
     "metadata": {},
     "execution_count": 15
    }
   ],
   "source": [
    "df = pd.read_csv('2015_day5.csv', header=None, names=['s'])\n",
    "df.head()"
   ]
  },
  {
   "cell_type": "code",
   "execution_count": 16,
   "metadata": {},
   "outputs": [],
   "source": [
    "def test1_valid(s):\n",
    "    l = [s[i:i+2] for i in range(len(s) - 1)]\n",
    "    c = Counter(l)\n",
    "    p = [x for x in c if c[x] > 1]\n",
    "    if len(p) == 0:\n",
    "        return 0\n",
    "    for v in p:\n",
    "        g = [i for i, e in enumerate(l) if e == v]\n",
    "        for x in range(len(g) - 1):\n",
    "            if abs(g[x] - g[x+1]) == 1:\n",
    "                return 0\n",
    "    return 1"
   ]
  },
  {
   "cell_type": "code",
   "execution_count": 17,
   "metadata": {},
   "outputs": [],
   "source": [
    "def test2_valid(s):\n",
    "    for c in s:\n",
    "        g = [i for i, e in enumerate(s) if e == c]\n",
    "        for x in range(len(g) - 1):\n",
    "            if abs(g[x] - g[x+1]) == 2:\n",
    "                return 1\n",
    "    return 0\n"
   ]
  },
  {
   "cell_type": "code",
   "execution_count": 18,
   "metadata": {},
   "outputs": [
    {
     "output_type": "execute_result",
     "data": {
      "text/plain": [
       "                  s  test1_v  test2_v\n",
       "0  rthkunfaakmwmush        0        1\n",
       "1  qxlnvjguikqcyfzt        0        0\n",
       "2  sleaoasjspnjctqt        0        1\n",
       "3  lactpmehuhmzwfjl        0        1\n",
       "4  bvggvrdgjcspkkyj        0        0"
      ],
      "text/html": "<div>\n<style scoped>\n    .dataframe tbody tr th:only-of-type {\n        vertical-align: middle;\n    }\n\n    .dataframe tbody tr th {\n        vertical-align: top;\n    }\n\n    .dataframe thead th {\n        text-align: right;\n    }\n</style>\n<table border=\"1\" class=\"dataframe\">\n  <thead>\n    <tr style=\"text-align: right;\">\n      <th></th>\n      <th>s</th>\n      <th>test1_v</th>\n      <th>test2_v</th>\n    </tr>\n  </thead>\n  <tbody>\n    <tr>\n      <th>0</th>\n      <td>rthkunfaakmwmush</td>\n      <td>0</td>\n      <td>1</td>\n    </tr>\n    <tr>\n      <th>1</th>\n      <td>qxlnvjguikqcyfzt</td>\n      <td>0</td>\n      <td>0</td>\n    </tr>\n    <tr>\n      <th>2</th>\n      <td>sleaoasjspnjctqt</td>\n      <td>0</td>\n      <td>1</td>\n    </tr>\n    <tr>\n      <th>3</th>\n      <td>lactpmehuhmzwfjl</td>\n      <td>0</td>\n      <td>1</td>\n    </tr>\n    <tr>\n      <th>4</th>\n      <td>bvggvrdgjcspkkyj</td>\n      <td>0</td>\n      <td>0</td>\n    </tr>\n  </tbody>\n</table>\n</div>"
     },
     "metadata": {},
     "execution_count": 18
    }
   ],
   "source": [
    "df['test1_v'] = df['s'].apply(test1_valid)\n",
    "df['test2_v'] = df['s'].apply(test2_valid)\n",
    "df.head()"
   ]
  },
  {
   "cell_type": "code",
   "execution_count": 19,
   "metadata": {},
   "outputs": [
    {
     "output_type": "execute_result",
     "data": {
      "text/plain": [
       "                  s  test1_v  test2_v  valid\n",
       "0  rthkunfaakmwmush        0        1      1\n",
       "1  qxlnvjguikqcyfzt        0        0      0\n",
       "2  sleaoasjspnjctqt        0        1      1\n",
       "3  lactpmehuhmzwfjl        0        1      1\n",
       "4  bvggvrdgjcspkkyj        0        0      0"
      ],
      "text/html": "<div>\n<style scoped>\n    .dataframe tbody tr th:only-of-type {\n        vertical-align: middle;\n    }\n\n    .dataframe tbody tr th {\n        vertical-align: top;\n    }\n\n    .dataframe thead th {\n        text-align: right;\n    }\n</style>\n<table border=\"1\" class=\"dataframe\">\n  <thead>\n    <tr style=\"text-align: right;\">\n      <th></th>\n      <th>s</th>\n      <th>test1_v</th>\n      <th>test2_v</th>\n      <th>valid</th>\n    </tr>\n  </thead>\n  <tbody>\n    <tr>\n      <th>0</th>\n      <td>rthkunfaakmwmush</td>\n      <td>0</td>\n      <td>1</td>\n      <td>1</td>\n    </tr>\n    <tr>\n      <th>1</th>\n      <td>qxlnvjguikqcyfzt</td>\n      <td>0</td>\n      <td>0</td>\n      <td>0</td>\n    </tr>\n    <tr>\n      <th>2</th>\n      <td>sleaoasjspnjctqt</td>\n      <td>0</td>\n      <td>1</td>\n      <td>1</td>\n    </tr>\n    <tr>\n      <th>3</th>\n      <td>lactpmehuhmzwfjl</td>\n      <td>0</td>\n      <td>1</td>\n      <td>1</td>\n    </tr>\n    <tr>\n      <th>4</th>\n      <td>bvggvrdgjcspkkyj</td>\n      <td>0</td>\n      <td>0</td>\n      <td>0</td>\n    </tr>\n  </tbody>\n</table>\n</div>"
     },
     "metadata": {},
     "execution_count": 19
    }
   ],
   "source": [
    "df['valid'] = df[['test1_v', 'test2_v']].sum(axis=1)\n",
    "df.head()"
   ]
  },
  {
   "cell_type": "code",
   "execution_count": 20,
   "metadata": {},
   "outputs": [
    {
     "output_type": "stream",
     "name": "stdout",
     "text": [
      "53\n"
     ]
    }
   ],
   "source": [
    "print(np.where(df['valid'] == 2, 1, 0).sum())"
   ]
  },
  {
   "cell_type": "code",
   "execution_count": null,
   "metadata": {},
   "outputs": [],
   "source": []
  }
 ]
}