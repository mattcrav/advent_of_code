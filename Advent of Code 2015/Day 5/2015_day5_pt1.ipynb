{
 "metadata": {
  "language_info": {
   "codemirror_mode": {
    "name": "ipython",
    "version": 3
   },
   "file_extension": ".py",
   "mimetype": "text/x-python",
   "name": "python",
   "nbconvert_exporter": "python",
   "pygments_lexer": "ipython3",
   "version": "3.8.5-final"
  },
  "orig_nbformat": 2,
  "kernelspec": {
   "name": "python3",
   "display_name": "Python 3.8.5 64-bit",
   "metadata": {
    "interpreter": {
     "hash": "cdaf2d1fb91b6efc72cdae7ea42388cc549ee76757dbf18f9f42bedf4e5cf391"
    }
   }
  }
 },
 "nbformat": 4,
 "nbformat_minor": 2,
 "cells": [
  {
   "cell_type": "code",
   "execution_count": 34,
   "metadata": {},
   "outputs": [],
   "source": [
    "import pandas as pd\n",
    "import numpy as np\n",
    "from collections import Counter"
   ]
  },
  {
   "cell_type": "code",
   "execution_count": 35,
   "metadata": {},
   "outputs": [
    {
     "output_type": "execute_result",
     "data": {
      "text/plain": [
       "                  s\n",
       "0  rthkunfaakmwmush\n",
       "1  qxlnvjguikqcyfzt\n",
       "2  sleaoasjspnjctqt\n",
       "3  lactpmehuhmzwfjl\n",
       "4  bvggvrdgjcspkkyj"
      ],
      "text/html": "<div>\n<style scoped>\n    .dataframe tbody tr th:only-of-type {\n        vertical-align: middle;\n    }\n\n    .dataframe tbody tr th {\n        vertical-align: top;\n    }\n\n    .dataframe thead th {\n        text-align: right;\n    }\n</style>\n<table border=\"1\" class=\"dataframe\">\n  <thead>\n    <tr style=\"text-align: right;\">\n      <th></th>\n      <th>s</th>\n    </tr>\n  </thead>\n  <tbody>\n    <tr>\n      <th>0</th>\n      <td>rthkunfaakmwmush</td>\n    </tr>\n    <tr>\n      <th>1</th>\n      <td>qxlnvjguikqcyfzt</td>\n    </tr>\n    <tr>\n      <th>2</th>\n      <td>sleaoasjspnjctqt</td>\n    </tr>\n    <tr>\n      <th>3</th>\n      <td>lactpmehuhmzwfjl</td>\n    </tr>\n    <tr>\n      <th>4</th>\n      <td>bvggvrdgjcspkkyj</td>\n    </tr>\n  </tbody>\n</table>\n</div>"
     },
     "metadata": {},
     "execution_count": 35
    }
   ],
   "source": [
    "df = pd.read_csv('2015_day5.csv', header=None, names=['s'])\n",
    "df.head()"
   ]
  },
  {
   "cell_type": "code",
   "execution_count": 36,
   "metadata": {},
   "outputs": [],
   "source": [
    "def test1_valid(s):\n",
    "    vcount = 0\n",
    "    c = Counter(s)\n",
    "    for v in 'aeiou':\n",
    "        if v in s:\n",
    "            vcount += c[v]\n",
    "    if vcount >= 3:\n",
    "        return 1\n",
    "    else:\n",
    "        return 0"
   ]
  },
  {
   "cell_type": "code",
   "execution_count": 37,
   "metadata": {},
   "outputs": [],
   "source": [
    "def test2_valid(s):\n",
    "    for i in range(len(s) - 1):\n",
    "        if s[i] == s[i + 1]:\n",
    "            return 1\n",
    "    return 0\n"
   ]
  },
  {
   "cell_type": "code",
   "execution_count": 38,
   "metadata": {},
   "outputs": [],
   "source": [
    "def test3_valid(s):\n",
    "    for t in ['ab', 'cd', 'pq', 'xy']:\n",
    "        if t in s:\n",
    "            return 0\n",
    "    return 1"
   ]
  },
  {
   "cell_type": "code",
   "execution_count": 39,
   "metadata": {},
   "outputs": [
    {
     "output_type": "execute_result",
     "data": {
      "text/plain": [
       "                  s  test1_v  test2_v  test3_v\n",
       "0  rthkunfaakmwmush        1        1        1\n",
       "1  qxlnvjguikqcyfzt        0        0        1\n",
       "2  sleaoasjspnjctqt        1        0        1\n",
       "3  lactpmehuhmzwfjl        1        0        1\n",
       "4  bvggvrdgjcspkkyj        0        1        1"
      ],
      "text/html": "<div>\n<style scoped>\n    .dataframe tbody tr th:only-of-type {\n        vertical-align: middle;\n    }\n\n    .dataframe tbody tr th {\n        vertical-align: top;\n    }\n\n    .dataframe thead th {\n        text-align: right;\n    }\n</style>\n<table border=\"1\" class=\"dataframe\">\n  <thead>\n    <tr style=\"text-align: right;\">\n      <th></th>\n      <th>s</th>\n      <th>test1_v</th>\n      <th>test2_v</th>\n      <th>test3_v</th>\n    </tr>\n  </thead>\n  <tbody>\n    <tr>\n      <th>0</th>\n      <td>rthkunfaakmwmush</td>\n      <td>1</td>\n      <td>1</td>\n      <td>1</td>\n    </tr>\n    <tr>\n      <th>1</th>\n      <td>qxlnvjguikqcyfzt</td>\n      <td>0</td>\n      <td>0</td>\n      <td>1</td>\n    </tr>\n    <tr>\n      <th>2</th>\n      <td>sleaoasjspnjctqt</td>\n      <td>1</td>\n      <td>0</td>\n      <td>1</td>\n    </tr>\n    <tr>\n      <th>3</th>\n      <td>lactpmehuhmzwfjl</td>\n      <td>1</td>\n      <td>0</td>\n      <td>1</td>\n    </tr>\n    <tr>\n      <th>4</th>\n      <td>bvggvrdgjcspkkyj</td>\n      <td>0</td>\n      <td>1</td>\n      <td>1</td>\n    </tr>\n  </tbody>\n</table>\n</div>"
     },
     "metadata": {},
     "execution_count": 39
    }
   ],
   "source": [
    "df['test1_v'] = df['s'].apply(test1_valid)\n",
    "df['test2_v'] = df['s'].apply(test2_valid)\n",
    "df['test3_v'] = df['s'].apply(test3_valid)\n",
    "df.head()"
   ]
  },
  {
   "cell_type": "code",
   "execution_count": 40,
   "metadata": {},
   "outputs": [
    {
     "output_type": "execute_result",
     "data": {
      "text/plain": [
       "                  s  test1_v  test2_v  test3_v  valid\n",
       "0  rthkunfaakmwmush        1        1        1      3\n",
       "1  qxlnvjguikqcyfzt        0        0        1      1\n",
       "2  sleaoasjspnjctqt        1        0        1      2\n",
       "3  lactpmehuhmzwfjl        1        0        1      2\n",
       "4  bvggvrdgjcspkkyj        0        1        1      2"
      ],
      "text/html": "<div>\n<style scoped>\n    .dataframe tbody tr th:only-of-type {\n        vertical-align: middle;\n    }\n\n    .dataframe tbody tr th {\n        vertical-align: top;\n    }\n\n    .dataframe thead th {\n        text-align: right;\n    }\n</style>\n<table border=\"1\" class=\"dataframe\">\n  <thead>\n    <tr style=\"text-align: right;\">\n      <th></th>\n      <th>s</th>\n      <th>test1_v</th>\n      <th>test2_v</th>\n      <th>test3_v</th>\n      <th>valid</th>\n    </tr>\n  </thead>\n  <tbody>\n    <tr>\n      <th>0</th>\n      <td>rthkunfaakmwmush</td>\n      <td>1</td>\n      <td>1</td>\n      <td>1</td>\n      <td>3</td>\n    </tr>\n    <tr>\n      <th>1</th>\n      <td>qxlnvjguikqcyfzt</td>\n      <td>0</td>\n      <td>0</td>\n      <td>1</td>\n      <td>1</td>\n    </tr>\n    <tr>\n      <th>2</th>\n      <td>sleaoasjspnjctqt</td>\n      <td>1</td>\n      <td>0</td>\n      <td>1</td>\n      <td>2</td>\n    </tr>\n    <tr>\n      <th>3</th>\n      <td>lactpmehuhmzwfjl</td>\n      <td>1</td>\n      <td>0</td>\n      <td>1</td>\n      <td>2</td>\n    </tr>\n    <tr>\n      <th>4</th>\n      <td>bvggvrdgjcspkkyj</td>\n      <td>0</td>\n      <td>1</td>\n      <td>1</td>\n      <td>2</td>\n    </tr>\n  </tbody>\n</table>\n</div>"
     },
     "metadata": {},
     "execution_count": 40
    }
   ],
   "source": [
    "df['valid'] = df[['test1_v', 'test2_v', 'test3_v']].sum(axis=1)\n",
    "df.head()"
   ]
  },
  {
   "cell_type": "code",
   "execution_count": 41,
   "metadata": {},
   "outputs": [
    {
     "output_type": "stream",
     "name": "stdout",
     "text": [
      "258\n"
     ]
    }
   ],
   "source": [
    "print(np.where(df['valid'] == 3, 1, 0).sum())"
   ]
  },
  {
   "cell_type": "code",
   "execution_count": null,
   "metadata": {},
   "outputs": [],
   "source": []
  }
 ]
}