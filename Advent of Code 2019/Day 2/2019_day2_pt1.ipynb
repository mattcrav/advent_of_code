{
 "metadata": {
  "language_info": {
   "codemirror_mode": {
    "name": "ipython",
    "version": 3
   },
   "file_extension": ".py",
   "mimetype": "text/x-python",
   "name": "python",
   "nbconvert_exporter": "python",
   "pygments_lexer": "ipython3",
   "version": "3.8.5-final"
  },
  "orig_nbformat": 2,
  "kernelspec": {
   "name": "python3",
   "display_name": "Python 3.8.5 64-bit",
   "metadata": {
    "interpreter": {
     "hash": "cdaf2d1fb91b6efc72cdae7ea42388cc549ee76757dbf18f9f42bedf4e5cf391"
    }
   }
  }
 },
 "nbformat": 4,
 "nbformat_minor": 2,
 "cells": [
  {
   "cell_type": "code",
   "execution_count": 18,
   "metadata": {},
   "outputs": [
    {
     "output_type": "stream",
     "name": "stdout",
     "text": [
      "[1, 0, 0, 3, 1, 1, 2, 3, 1, 3, 4, 3, 1, 5, 0, 3, 2, 1, 10, 19, 2, 9, 19, 23, 1, 9, 23, 27, 2, 27, 9, 31, 1, 31, 5, 35, 2, 35, 9, 39, 1, 39, 10, 43, 2, 43, 13, 47, 1, 47, 6, 51, 2, 51, 10, 55, 1, 9, 55, 59, 2, 6, 59, 63, 1, 63, 6, 67, 1, 67, 10, 71, 1, 71, 10, 75, 2, 9, 75, 79, 1, 5, 79, 83, 2, 9, 83, 87, 1, 87, 9, 91, 2, 91, 13, 95, 1, 95, 9, 99, 1, 99, 6, 103, 2, 103, 6, 107, 1, 107, 5, 111, 1, 13, 111, 115, 2, 115, 6, 119, 1, 119, 5, 123, 1, 2, 123, 127, 1, 6, 127, 0, 99, 2, 14, 0, 0]\n"
     ]
    }
   ],
   "source": [
    "with open('2019_day2.csv', 'r') as f:\n",
    "    txt = f.read()\n",
    "data = [int(x) for x in txt.split(',')]\n",
    "print(data)"
   ]
  },
  {
   "cell_type": "code",
   "execution_count": 19,
   "metadata": {},
   "outputs": [],
   "source": [
    "#correct\n",
    "data[1] = 12\n",
    "data[2] = 2"
   ]
  },
  {
   "cell_type": "code",
   "execution_count": 20,
   "metadata": {},
   "outputs": [],
   "source": [
    "pos = 0\n",
    "while data[pos] != 99:\n",
    "    if data[pos] == 1:\n",
    "        p1 = data[data[pos + 1]]\n",
    "        p2 = data[data[pos + 2]]\n",
    "        data[data[pos + 3]] = p1 + p2\n",
    "    if data[pos] == 2:\n",
    "        p1 = data[data[pos + 1]]\n",
    "        p2 = data[data[pos + 2]]\n",
    "        data[data[pos + 3]] = p1 * p2\n",
    "    pos += 4\n"
   ]
  },
  {
   "cell_type": "code",
   "execution_count": 21,
   "metadata": {},
   "outputs": [
    {
     "output_type": "stream",
     "name": "stdout",
     "text": [
      "[9581917, 12, 2, 2, 1, 1, 2, 3, 1, 3, 4, 3, 1, 5, 0, 3, 2, 1, 10, 48, 2, 9, 19, 144, 1, 9, 23, 147, 2, 27, 9, 441, 1, 31, 5, 442, 2, 35, 9, 1326, 1, 39, 10, 1330, 2, 43, 13, 6650, 1, 47, 6, 6652, 2, 51, 10, 26608, 1, 9, 55, 26611, 2, 6, 59, 53222, 1, 63, 6, 53224, 1, 67, 10, 53228, 1, 71, 10, 53232, 2, 9, 75, 159696, 1, 5, 79, 159697, 2, 9, 83, 479091, 1, 87, 9, 479094, 2, 91, 13, 2395470, 1, 95, 9, 2395473, 1, 99, 6, 2395475, 2, 103, 6, 4790950, 1, 107, 5, 4790951, 1, 13, 111, 4790956, 2, 115, 6, 9581912, 1, 119, 5, 9581913, 1, 2, 123, 9581915, 1, 6, 127, 0, 99, 2, 14, 0, 0]\n"
     ]
    }
   ],
   "source": [
    "print(data)\n"
   ]
  },
  {
   "cell_type": "code",
   "execution_count": 22,
   "metadata": {},
   "outputs": [
    {
     "output_type": "stream",
     "name": "stdout",
     "text": [
      "9581917\n"
     ]
    }
   ],
   "source": [
    "print(data[0])"
   ]
  },
  {
   "cell_type": "code",
   "execution_count": null,
   "metadata": {},
   "outputs": [],
   "source": []
  }
 ]
}