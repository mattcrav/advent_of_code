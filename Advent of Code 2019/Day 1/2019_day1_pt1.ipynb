{
 "metadata": {
  "language_info": {
   "codemirror_mode": {
    "name": "ipython",
    "version": 3
   },
   "file_extension": ".py",
   "mimetype": "text/x-python",
   "name": "python",
   "nbconvert_exporter": "python",
   "pygments_lexer": "ipython3",
   "version": "3.8.5-final"
  },
  "orig_nbformat": 2,
  "kernelspec": {
   "name": "python3",
   "display_name": "Python 3.8.5 64-bit",
   "metadata": {
    "interpreter": {
     "hash": "cdaf2d1fb91b6efc72cdae7ea42388cc549ee76757dbf18f9f42bedf4e5cf391"
    }
   }
  }
 },
 "nbformat": 4,
 "nbformat_minor": 2,
 "cells": [
  {
   "cell_type": "code",
   "execution_count": 1,
   "metadata": {},
   "outputs": [],
   "source": [
    "import pandas as pd"
   ]
  },
  {
   "cell_type": "code",
   "execution_count": 3,
   "metadata": {},
   "outputs": [
    {
     "output_type": "stream",
     "name": "stdout",
     "text": [
      "      mass\n0   128270\n1   147113\n2    61335\n3    78766\n4   119452\n..     ...\n95   52154\n96   80633\n97   61867\n98   86380\n99  136024\n\n[100 rows x 1 columns]\n"
     ]
    }
   ],
   "source": [
    "data = pd.read_csv('2019_day1.csv', header=None, names=['mass'])\n",
    "print(data)"
   ]
  },
  {
   "cell_type": "code",
   "execution_count": 4,
   "metadata": {},
   "outputs": [
    {
     "output_type": "execute_result",
     "data": {
      "text/plain": [
       "     mass   fuel\n",
       "0  128270  42754\n",
       "1  147113  49035\n",
       "2   61335  20443\n",
       "3   78766  26253\n",
       "4  119452  39815"
      ],
      "text/html": "<div>\n<style scoped>\n    .dataframe tbody tr th:only-of-type {\n        vertical-align: middle;\n    }\n\n    .dataframe tbody tr th {\n        vertical-align: top;\n    }\n\n    .dataframe thead th {\n        text-align: right;\n    }\n</style>\n<table border=\"1\" class=\"dataframe\">\n  <thead>\n    <tr style=\"text-align: right;\">\n      <th></th>\n      <th>mass</th>\n      <th>fuel</th>\n    </tr>\n  </thead>\n  <tbody>\n    <tr>\n      <th>0</th>\n      <td>128270</td>\n      <td>42754</td>\n    </tr>\n    <tr>\n      <th>1</th>\n      <td>147113</td>\n      <td>49035</td>\n    </tr>\n    <tr>\n      <th>2</th>\n      <td>61335</td>\n      <td>20443</td>\n    </tr>\n    <tr>\n      <th>3</th>\n      <td>78766</td>\n      <td>26253</td>\n    </tr>\n    <tr>\n      <th>4</th>\n      <td>119452</td>\n      <td>39815</td>\n    </tr>\n  </tbody>\n</table>\n</div>"
     },
     "metadata": {},
     "execution_count": 4
    }
   ],
   "source": [
    "data['fuel'] = data['mass'].apply(lambda x: int(x / 3.0) - 2)\n",
    "data.head()"
   ]
  },
  {
   "cell_type": "code",
   "execution_count": 5,
   "metadata": {},
   "outputs": [
    {
     "output_type": "stream",
     "name": "stdout",
     "text": [
      "3232358\n"
     ]
    }
   ],
   "source": [
    "print(data['fuel'].sum())"
   ]
  },
  {
   "cell_type": "code",
   "execution_count": null,
   "metadata": {},
   "outputs": [],
   "source": []
  }
 ]
}