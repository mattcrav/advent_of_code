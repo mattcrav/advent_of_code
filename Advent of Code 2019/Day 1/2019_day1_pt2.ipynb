{
 "metadata": {
  "language_info": {
   "codemirror_mode": {
    "name": "ipython",
    "version": 3
   },
   "file_extension": ".py",
   "mimetype": "text/x-python",
   "name": "python",
   "nbconvert_exporter": "python",
   "pygments_lexer": "ipython3",
   "version": "3.8.5-final"
  },
  "orig_nbformat": 2,
  "kernelspec": {
   "name": "python3",
   "display_name": "Python 3.8.5 64-bit",
   "metadata": {
    "interpreter": {
     "hash": "cdaf2d1fb91b6efc72cdae7ea42388cc549ee76757dbf18f9f42bedf4e5cf391"
    }
   }
  }
 },
 "nbformat": 4,
 "nbformat_minor": 2,
 "cells": [
  {
   "cell_type": "code",
   "execution_count": 6,
   "metadata": {},
   "outputs": [],
   "source": [
    "import pandas as pd"
   ]
  },
  {
   "cell_type": "code",
   "execution_count": 7,
   "metadata": {},
   "outputs": [
    {
     "output_type": "stream",
     "name": "stdout",
     "text": [
      "      mass\n0   128270\n1   147113\n2    61335\n3    78766\n4   119452\n..     ...\n95   52154\n96   80633\n97   61867\n98   86380\n99  136024\n\n[100 rows x 1 columns]\n"
     ]
    }
   ],
   "source": [
    "data = pd.read_csv('2019_day1.csv', header=None, names=['mass'])\n",
    "print(data)"
   ]
  },
  {
   "cell_type": "code",
   "execution_count": 8,
   "metadata": {},
   "outputs": [
    {
     "output_type": "execute_result",
     "data": {
      "text/plain": [
       "     mass  fuel0  fuel1  fuel2  fuel3  fuel4  fuel5  fuel6  fuel7  fuel8  \\\n",
       "0  128270  42754  14249   4747   1580    524    172     55     16      3   \n",
       "1  147113  49035  16343   5445   1813    602    198     64     19      4   \n",
       "2   61335  20443   6812   2268    754    249     81     25      6      0   \n",
       "3   78766  26253   8749   2914    969    321    105     33      9      1   \n",
       "4  119452  39815  13269   4421   1471    488    160     51     15      3   \n",
       "\n",
       "   fuel9  \n",
       "0      0  \n",
       "1      0  \n",
       "2      0  \n",
       "3      0  \n",
       "4      0  "
      ],
      "text/html": "<div>\n<style scoped>\n    .dataframe tbody tr th:only-of-type {\n        vertical-align: middle;\n    }\n\n    .dataframe tbody tr th {\n        vertical-align: top;\n    }\n\n    .dataframe thead th {\n        text-align: right;\n    }\n</style>\n<table border=\"1\" class=\"dataframe\">\n  <thead>\n    <tr style=\"text-align: right;\">\n      <th></th>\n      <th>mass</th>\n      <th>fuel0</th>\n      <th>fuel1</th>\n      <th>fuel2</th>\n      <th>fuel3</th>\n      <th>fuel4</th>\n      <th>fuel5</th>\n      <th>fuel6</th>\n      <th>fuel7</th>\n      <th>fuel8</th>\n      <th>fuel9</th>\n    </tr>\n  </thead>\n  <tbody>\n    <tr>\n      <th>0</th>\n      <td>128270</td>\n      <td>42754</td>\n      <td>14249</td>\n      <td>4747</td>\n      <td>1580</td>\n      <td>524</td>\n      <td>172</td>\n      <td>55</td>\n      <td>16</td>\n      <td>3</td>\n      <td>0</td>\n    </tr>\n    <tr>\n      <th>1</th>\n      <td>147113</td>\n      <td>49035</td>\n      <td>16343</td>\n      <td>5445</td>\n      <td>1813</td>\n      <td>602</td>\n      <td>198</td>\n      <td>64</td>\n      <td>19</td>\n      <td>4</td>\n      <td>0</td>\n    </tr>\n    <tr>\n      <th>2</th>\n      <td>61335</td>\n      <td>20443</td>\n      <td>6812</td>\n      <td>2268</td>\n      <td>754</td>\n      <td>249</td>\n      <td>81</td>\n      <td>25</td>\n      <td>6</td>\n      <td>0</td>\n      <td>0</td>\n    </tr>\n    <tr>\n      <th>3</th>\n      <td>78766</td>\n      <td>26253</td>\n      <td>8749</td>\n      <td>2914</td>\n      <td>969</td>\n      <td>321</td>\n      <td>105</td>\n      <td>33</td>\n      <td>9</td>\n      <td>1</td>\n      <td>0</td>\n    </tr>\n    <tr>\n      <th>4</th>\n      <td>119452</td>\n      <td>39815</td>\n      <td>13269</td>\n      <td>4421</td>\n      <td>1471</td>\n      <td>488</td>\n      <td>160</td>\n      <td>51</td>\n      <td>15</td>\n      <td>3</td>\n      <td>0</td>\n    </tr>\n  </tbody>\n</table>\n</div>"
     },
     "metadata": {},
     "execution_count": 8
    }
   ],
   "source": [
    "i = 0\n",
    "data[f'fuel{i}'] = data['mass'].apply(lambda x: int(x / 3.0) - 2)\n",
    "while data[f'fuel{i}'].sum() > 0:\n",
    "    i += 1\n",
    "    data[f'fuel{i}'] = data[f'fuel{i - 1}'].apply(lambda x: max(int(x / 3.0) - 2, 0))\n",
    "\n",
    "data.head()"
   ]
  },
  {
   "cell_type": "code",
   "execution_count": 9,
   "metadata": {},
   "outputs": [
    {
     "output_type": "stream",
     "name": "stdout",
     "text": [
      "4845669\n"
     ]
    }
   ],
   "source": [
    "fuel = data[[f'fuel{x}' for x in range(i)]]\n",
    "print(fuel.to_numpy().sum())"
   ]
  },
  {
   "cell_type": "code",
   "execution_count": null,
   "metadata": {},
   "outputs": [],
   "source": []
  }
 ]
}