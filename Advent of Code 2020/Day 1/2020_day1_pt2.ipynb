{
 "metadata": {
  "language_info": {
   "codemirror_mode": {
    "name": "ipython",
    "version": 3
   },
   "file_extension": ".py",
   "mimetype": "text/x-python",
   "name": "python",
   "nbconvert_exporter": "python",
   "pygments_lexer": "ipython3",
   "version": "3.8.5-final"
  },
  "orig_nbformat": 2,
  "kernelspec": {
   "name": "python3",
   "display_name": "Python 3.8.5 64-bit",
   "metadata": {
    "interpreter": {
     "hash": "cdaf2d1fb91b6efc72cdae7ea42388cc549ee76757dbf18f9f42bedf4e5cf391"
    }
   }
  }
 },
 "nbformat": 4,
 "nbformat_minor": 2,
 "cells": [
  {
   "cell_type": "code",
   "execution_count": 3,
   "metadata": {},
   "outputs": [],
   "source": [
    "import numpy as np\n",
    "import pandas as pd\n",
    "import csv"
   ]
  },
  {
   "cell_type": "code",
   "execution_count": 4,
   "metadata": {},
   "outputs": [
    {
     "output_type": "stream",
     "name": "stdout",
     "text": [
      "[[1897]\n [1850]\n [1218]\n [1198]\n [1761]\n [1082]\n [1742]\n [1821]\n [1464]\n [1834]\n [1413]\n [1917]\n [1746]\n [1954]\n [1942]\n [1560]\n [1227]\n [1852]\n [1976]\n [1773]\n [1404]\n [1824]\n [1011]\n [1532]\n [1306]\n [1819]\n [1739]\n [1540]\n [1973]\n [1436]\n [1196]\n [1176]\n [1856]\n [1332]\n [1617]\n [1895]\n [1749]\n [1718]\n [1536]\n [1811]\n [ 113]\n [1008]\n [1908]\n [1799]\n [1914]\n [1603]\n [1782]\n [1980]\n [1228]\n [1838]\n [2006]\n [1953]\n [1846]\n [1903]\n [1470]\n [1774]\n [1599]\n [1446]\n [1324]\n [1054]\n [1952]\n [1928]\n [1997]\n [1764]\n [1943]\n [1932]\n [1615]\n [1428]\n [1036]\n [ 721]\n [1097]\n [1998]\n [1033]\n [1892]\n [1904]\n [1803]\n [1825]\n [1370]\n [1836]\n [1853]\n [1963]\n [1469]\n [1385]\n [ 246]\n [1987]\n [1153]\n [ 178]\n [1790]\n [1927]\n [1139]\n [1865]\n [1804]\n [1974]\n [1235]\n [1681]\n [1185]\n [2009]\n [1894]\n [1141]\n [1203]\n [1808]\n [1867]\n [1274]\n [1891]\n [1779]\n [1342]\n [1920]\n [ 851]\n [1994]\n [1975]\n [1979]\n [1880]\n [1647]\n [1365]\n [ 448]\n [1119]\n [1256]\n [1212]\n [1268]\n [1878]\n [1805]\n [1889]\n [1870]\n [1906]\n [1959]\n [1898]\n [1305]\n [1559]\n [1088]\n [1845]\n [1783]\n [1841]\n [1864]\n [1961]\n [1267]\n [1437]\n [1823]\n [ 801]\n [1579]\n [1538]\n [1745]\n [1972]\n [1259]\n [1899]\n [1517]\n [1940]\n [1543]\n [1882]\n [1933]\n [1240]\n [1608]\n [1263]\n [1429]\n [1197]\n [1508]\n [1631]\n [1988]\n [1350]\n [1638]\n [1800]\n [1999]\n [1822]\n [1776]\n [1896]\n [1610]\n [1831]\n [1921]\n [1535]\n [1526]\n [1491]\n [1876]\n [1476]\n [1945]\n [1702]\n [1900]\n [1814]\n [1289]\n [1992]\n [1859]\n [1967]\n [1966]\n [1283]\n [2002]\n [1195]\n [1066]\n [1924]\n [1968]\n [1835]\n [1971]\n [1977]\n [1430]\n [1844]\n [1465]\n [1595]\n [1957]\n [1472]\n [ 219]\n [1851]\n [1955]]\n"
     ]
    }
   ],
   "source": [
    "data = pd.read_csv('2020_day1.csv').to_numpy()\n",
    "print(data)"
   ]
  },
  {
   "cell_type": "code",
   "execution_count": 6,
   "metadata": {},
   "outputs": [
    {
     "output_type": "stream",
     "name": "stdout",
     "text": [
      "[[1897 1850 1218 ...  219 1851 1955]\n [1897 1850 1218 ...  219 1851 1955]\n [1897 1850 1218 ...  219 1851 1955]\n ...\n [1897 1850 1218 ...  219 1851 1955]\n [1897 1850 1218 ...  219 1851 1955]\n [1897 1850 1218 ...  219 1851 1955]]\n"
     ]
    }
   ],
   "source": [
    "flat = data.flatten()\n",
    "matrix = np.tile(flat, (len(flat), 1))\n",
    "print(matrix)"
   ]
  },
  {
   "cell_type": "code",
   "execution_count": 43,
   "metadata": {},
   "outputs": [
    {
     "output_type": "stream",
     "name": "stdout",
     "text": [
      "[[3794 3747 3115 ... 2116 3748 3852]\n [3747 3700 3068 ... 2069 3701 3805]\n [3115 3068 2436 ... 1437 3069 3173]\n ...\n [2116 2069 1437 ...  438 2070 2174]\n [3748 3701 3069 ... 2070 3702 3806]\n [3852 3805 3173 ... 2174 3806 3910]]\n"
     ]
    }
   ],
   "source": [
    "r = data + matrix\n",
    "# np.fill_diagonal(r, 0)\n",
    "print(r)"
   ]
  },
  {
   "cell_type": "code",
   "execution_count": 56,
   "metadata": {},
   "outputs": [
    {
     "output_type": "stream",
     "name": "stdout",
     "text": [
      "[[3794 3747 3115 ... 2116 3748 3852]\n [3794 3747 3115 ... 2116 3748 3852]\n [3794 3747 3115 ... 2116 3748 3852]\n ...\n [3852 3805 3173 ... 2174 3806 3910]\n [3852 3805 3173 ... 2174 3806 3910]\n [3852 3805 3173 ... 2174 3806 3910]]\n"
     ]
    }
   ],
   "source": [
    "matrix2 = np.repeat(r, len(flat), axis=0)\n",
    "print(matrix2)"
   ]
  },
  {
   "cell_type": "code",
   "execution_count": 65,
   "metadata": {},
   "outputs": [
    {
     "output_type": "stream",
     "name": "stdout",
     "text": [
      "[[1897]\n [1850]\n [1218]\n ...\n [ 219]\n [1851]\n [1955]]\n"
     ]
    }
   ],
   "source": [
    "flat = data.flatten()\n",
    "data2 = np.tile(flat, (1, len(flat))).T\n",
    "print(data2)"
   ]
  },
  {
   "cell_type": "code",
   "execution_count": 66,
   "metadata": {},
   "outputs": [
    {
     "output_type": "stream",
     "name": "stdout",
     "text": [
      "[[5691 5644 5012 ... 4013 5645 5749]\n [5644 5597 4965 ... 3966 5598 5702]\n [5012 4965 4333 ... 3334 4966 5070]\n ...\n [4071 4024 3392 ... 2393 4025 4129]\n [5703 5656 5024 ... 4025 5657 5761]\n [5807 5760 5128 ... 4129 5761 5865]]\n"
     ]
    }
   ],
   "source": [
    "r2 = data2 + matrix2\n",
    "print(r2)"
   ]
  },
  {
   "cell_type": "code",
   "execution_count": 72,
   "metadata": {},
   "outputs": [
    {
     "output_type": "stream",
     "name": "stdout",
     "text": [
      "(array([13838, 13845, 21362, 21407, 22755, 22793], dtype=int64), array([114, 107, 114,  69, 107,  69], dtype=int64))\n[448]\n[851]\n[721]\n[2020]\n[274879808]\n"
     ]
    }
   ],
   "source": [
    "i = np.where(r2 == 2020)\n",
    "print(i)\n",
    "print(data[i[1][0]])\n",
    "print(data[i[1][1]])\n",
    "print(data[i[1][3]])\n",
    "print(data[i[1][0]] + data[i[1][1]] + data[i[1][3]])\n",
    "print(data[i[1][0]] * data[i[1][1]] * data[i[1][3]])"
   ]
  },
  {
   "cell_type": "code",
   "execution_count": null,
   "metadata": {},
   "outputs": [],
   "source": []
  }
 ]
}