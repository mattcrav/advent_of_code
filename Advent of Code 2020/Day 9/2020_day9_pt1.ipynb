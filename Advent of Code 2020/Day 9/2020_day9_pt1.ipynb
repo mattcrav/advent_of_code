{
 "cells": [
  {
   "cell_type": "code",
   "execution_count": 14,
   "metadata": {},
   "outputs": [],
   "source": [
    "import csv\n",
    "import numpy as np"
   ]
  },
  {
   "cell_type": "code",
   "execution_count": 23,
   "metadata": {},
   "outputs": [],
   "source": [
    "with open('2020_day9.csv', 'r') as f:\n",
    "    r = csv.reader(f)\n",
    "    s = [int(x[0]) for x in r]"
   ]
  },
  {
   "cell_type": "code",
   "execution_count": 24,
   "metadata": {},
   "outputs": [],
   "source": [
    "preamble = 25\n",
    "\n",
    "def analyze():\n",
    "    for i in range(preamble, len(s)):\n",
    "        x = np.array(s[i-preamble:i])\n",
    "        y = x[:,np.newaxis]\n",
    "        t = x + y\n",
    "        if s[i] not in t:\n",
    "            return s[i]"
   ]
  },
  {
   "cell_type": "code",
   "execution_count": 25,
   "metadata": {},
   "outputs": [
    {
     "name": "stdout",
     "output_type": "stream",
     "text": [
      "57195069\n"
     ]
    }
   ],
   "source": [
    "print(analyze())"
   ]
  }
 ],
 "metadata": {
  "interpreter": {
   "hash": "cdaf2d1fb91b6efc72cdae7ea42388cc549ee76757dbf18f9f42bedf4e5cf391"
  },
  "kernelspec": {
   "display_name": "Python 3.8.5 64-bit",
   "name": "python3"
  },
  "language_info": {
   "codemirror_mode": {
    "name": "ipython",
    "version": 3
   },
   "file_extension": ".py",
   "mimetype": "text/x-python",
   "name": "python",
   "nbconvert_exporter": "python",
   "pygments_lexer": "ipython3",
   "version": "3.8.5"
  },
  "orig_nbformat": 4
 },
 "nbformat": 4,
 "nbformat_minor": 2
}
