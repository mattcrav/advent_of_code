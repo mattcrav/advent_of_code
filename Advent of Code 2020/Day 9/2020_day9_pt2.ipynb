{
 "cells": [
  {
   "cell_type": "code",
   "execution_count": 66,
   "metadata": {},
   "outputs": [],
   "source": [
    "import csv\n",
    "import numpy as np"
   ]
  },
  {
   "cell_type": "code",
   "execution_count": 67,
   "metadata": {},
   "outputs": [],
   "source": [
    "with open('2020_day9.csv', 'r') as f:\n",
    "    r = csv.reader(f)\n",
    "    s = [int(x[0]) for x in r]"
   ]
  },
  {
   "cell_type": "code",
   "execution_count": 68,
   "metadata": {},
   "outputs": [],
   "source": [
    "preamble = 25\n",
    "\n",
    "def analyze():\n",
    "    for i in range(preamble, len(s)):\n",
    "        x = np.array(s[i-preamble:i])\n",
    "        y = x[:,np.newaxis]\n",
    "        t = x + y\n",
    "        if s[i] not in t:\n",
    "            return s[i]"
   ]
  },
  {
   "cell_type": "code",
   "execution_count": 69,
   "metadata": {},
   "outputs": [
    {
     "name": "stdout",
     "output_type": "stream",
     "text": [
      "57195069\n"
     ]
    }
   ],
   "source": [
    "d = analyze()\n",
    "print(d)"
   ]
  },
  {
   "cell_type": "code",
   "execution_count": 70,
   "metadata": {},
   "outputs": [],
   "source": [
    "a = []\n",
    "for i in range(len(s)):\n",
    "    p = np.array(s[i:])\n",
    "    p.resize(1, len(s))\n",
    "    a.append(p)\n",
    "v = np.concatenate(a)"
   ]
  },
  {
   "cell_type": "code",
   "execution_count": 71,
   "metadata": {},
   "outputs": [
    {
     "name": "stdout",
     "output_type": "stream",
     "text": [
      "5235843 2173398 7409241\n"
     ]
    }
   ],
   "source": [
    "for i in range(2, len(s)):\n",
    "    t = v[:i].sum(axis=0)\n",
    "    if d in t:\n",
    "        c = np.argwhere(d==t)[0][0]\n",
    "        a = v[:i, c]\n",
    "        print(a.max(), a.min(), a.max() + a.min())\n",
    "        break"
   ]
  }
 ],
 "metadata": {
  "interpreter": {
   "hash": "cdaf2d1fb91b6efc72cdae7ea42388cc549ee76757dbf18f9f42bedf4e5cf391"
  },
  "kernelspec": {
   "display_name": "Python 3.8.5 64-bit",
   "name": "python3"
  },
  "language_info": {
   "codemirror_mode": {
    "name": "ipython",
    "version": 3
   },
   "file_extension": ".py",
   "mimetype": "text/x-python",
   "name": "python",
   "nbconvert_exporter": "python",
   "pygments_lexer": "ipython3",
   "version": "3.8.5"
  },
  "orig_nbformat": 4
 },
 "nbformat": 4,
 "nbformat_minor": 2
}
