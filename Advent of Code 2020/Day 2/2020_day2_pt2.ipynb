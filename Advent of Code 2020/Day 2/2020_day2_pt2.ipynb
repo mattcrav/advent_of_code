{
 "metadata": {
  "language_info": {
   "codemirror_mode": {
    "name": "ipython",
    "version": 3
   },
   "file_extension": ".py",
   "mimetype": "text/x-python",
   "name": "python",
   "nbconvert_exporter": "python",
   "pygments_lexer": "ipython3",
   "version": "3.8.5-final"
  },
  "orig_nbformat": 2,
  "kernelspec": {
   "name": "python3",
   "display_name": "Python 3.8.5 64-bit",
   "metadata": {
    "interpreter": {
     "hash": "cdaf2d1fb91b6efc72cdae7ea42388cc549ee76757dbf18f9f42bedf4e5cf391"
    }
   }
  }
 },
 "nbformat": 4,
 "nbformat_minor": 2,
 "cells": [
  {
   "cell_type": "code",
   "execution_count": 13,
   "metadata": {},
   "outputs": [],
   "source": [
    "from collections import Counter\n",
    "import pandas as pd"
   ]
  },
  {
   "cell_type": "code",
   "execution_count": 14,
   "metadata": {},
   "outputs": [
    {
     "output_type": "stream",
     "name": "stdout",
     "text": [
      "                              base\n0                4-5 t: ftttttrvts\n1                  7-8 k: kkkkkkkf\n2                    4-6 k: gqjkkk\n3                      1-2 t: rttb\n4               7-10 z: gzjtmtcrzv\n..                             ...\n995              2-3 h: phhvhkhxhh\n996  16-18 z: jxsfzzjzqhzzlzzczhvz\n997                 5-7 w: wwgwwww\n998                    3-4 q: qqqq\n999               6-7 g: gghggcggg\n\n[1000 rows x 1 columns]\n"
     ]
    }
   ],
   "source": [
    "data = pd.read_csv('2020_day2.csv', header=None, names=['base'])\n",
    "print(data)"
   ]
  },
  {
   "cell_type": "code",
   "execution_count": 15,
   "metadata": {},
   "outputs": [],
   "source": [
    "data['first'] = data['base'].apply(lambda x: int(x.split('-')[0]))\n",
    "data['last'] = data['base'].apply(lambda x: int(x.split('-')[1].split(' ')[0]))\n",
    "data['letter'] = data['base'].apply(lambda x: x.split(' ')[1][0])\n",
    "data['password'] = data['base'].apply(lambda x: x.split(':')[1].strip())"
   ]
  },
  {
   "cell_type": "code",
   "execution_count": 16,
   "metadata": {},
   "outputs": [
    {
     "output_type": "execute_result",
     "data": {
      "text/plain": [
       "                 base  first  last letter    password\n",
       "0   4-5 t: ftttttrvts      4     5      t  ftttttrvts\n",
       "1     7-8 k: kkkkkkkf      7     8      k    kkkkkkkf\n",
       "2       4-6 k: gqjkkk      4     6      k      gqjkkk\n",
       "3         1-2 t: rttb      1     2      t        rttb\n",
       "4  7-10 z: gzjtmtcrzv      7    10      z  gzjtmtcrzv"
      ],
      "text/html": "<div>\n<style scoped>\n    .dataframe tbody tr th:only-of-type {\n        vertical-align: middle;\n    }\n\n    .dataframe tbody tr th {\n        vertical-align: top;\n    }\n\n    .dataframe thead th {\n        text-align: right;\n    }\n</style>\n<table border=\"1\" class=\"dataframe\">\n  <thead>\n    <tr style=\"text-align: right;\">\n      <th></th>\n      <th>base</th>\n      <th>first</th>\n      <th>last</th>\n      <th>letter</th>\n      <th>password</th>\n    </tr>\n  </thead>\n  <tbody>\n    <tr>\n      <th>0</th>\n      <td>4-5 t: ftttttrvts</td>\n      <td>4</td>\n      <td>5</td>\n      <td>t</td>\n      <td>ftttttrvts</td>\n    </tr>\n    <tr>\n      <th>1</th>\n      <td>7-8 k: kkkkkkkf</td>\n      <td>7</td>\n      <td>8</td>\n      <td>k</td>\n      <td>kkkkkkkf</td>\n    </tr>\n    <tr>\n      <th>2</th>\n      <td>4-6 k: gqjkkk</td>\n      <td>4</td>\n      <td>6</td>\n      <td>k</td>\n      <td>gqjkkk</td>\n    </tr>\n    <tr>\n      <th>3</th>\n      <td>1-2 t: rttb</td>\n      <td>1</td>\n      <td>2</td>\n      <td>t</td>\n      <td>rttb</td>\n    </tr>\n    <tr>\n      <th>4</th>\n      <td>7-10 z: gzjtmtcrzv</td>\n      <td>7</td>\n      <td>10</td>\n      <td>z</td>\n      <td>gzjtmtcrzv</td>\n    </tr>\n  </tbody>\n</table>\n</div>"
     },
     "metadata": {},
     "execution_count": 16
    }
   ],
   "source": [
    "data.head()"
   ]
  },
  {
   "cell_type": "code",
   "execution_count": 17,
   "metadata": {},
   "outputs": [],
   "source": [
    "def is_valid(x):\n",
    "    pos = [0, 0]\n",
    "    if x.letter == x.password[x['first'] - 1]:\n",
    "        pos[0] = 1\n",
    "    if x.letter == x.password[x['last'] - 1]:\n",
    "        pos[1] = 1\n",
    "    if sum(pos) == 1:\n",
    "        return 1\n",
    "    else:\n",
    "        return 0"
   ]
  },
  {
   "cell_type": "code",
   "execution_count": 18,
   "metadata": {},
   "outputs": [],
   "source": [
    "data['valid'] = data.apply(is_valid, axis=1)"
   ]
  },
  {
   "cell_type": "code",
   "execution_count": 19,
   "metadata": {},
   "outputs": [
    {
     "output_type": "execute_result",
     "data": {
      "text/plain": [
       "                 base  first  last letter    password  valid\n",
       "0   4-5 t: ftttttrvts      4     5      t  ftttttrvts      0\n",
       "1     7-8 k: kkkkkkkf      7     8      k    kkkkkkkf      1\n",
       "2       4-6 k: gqjkkk      4     6      k      gqjkkk      0\n",
       "3         1-2 t: rttb      1     2      t        rttb      1\n",
       "4  7-10 z: gzjtmtcrzv      7    10      z  gzjtmtcrzv      0"
      ],
      "text/html": "<div>\n<style scoped>\n    .dataframe tbody tr th:only-of-type {\n        vertical-align: middle;\n    }\n\n    .dataframe tbody tr th {\n        vertical-align: top;\n    }\n\n    .dataframe thead th {\n        text-align: right;\n    }\n</style>\n<table border=\"1\" class=\"dataframe\">\n  <thead>\n    <tr style=\"text-align: right;\">\n      <th></th>\n      <th>base</th>\n      <th>first</th>\n      <th>last</th>\n      <th>letter</th>\n      <th>password</th>\n      <th>valid</th>\n    </tr>\n  </thead>\n  <tbody>\n    <tr>\n      <th>0</th>\n      <td>4-5 t: ftttttrvts</td>\n      <td>4</td>\n      <td>5</td>\n      <td>t</td>\n      <td>ftttttrvts</td>\n      <td>0</td>\n    </tr>\n    <tr>\n      <th>1</th>\n      <td>7-8 k: kkkkkkkf</td>\n      <td>7</td>\n      <td>8</td>\n      <td>k</td>\n      <td>kkkkkkkf</td>\n      <td>1</td>\n    </tr>\n    <tr>\n      <th>2</th>\n      <td>4-6 k: gqjkkk</td>\n      <td>4</td>\n      <td>6</td>\n      <td>k</td>\n      <td>gqjkkk</td>\n      <td>0</td>\n    </tr>\n    <tr>\n      <th>3</th>\n      <td>1-2 t: rttb</td>\n      <td>1</td>\n      <td>2</td>\n      <td>t</td>\n      <td>rttb</td>\n      <td>1</td>\n    </tr>\n    <tr>\n      <th>4</th>\n      <td>7-10 z: gzjtmtcrzv</td>\n      <td>7</td>\n      <td>10</td>\n      <td>z</td>\n      <td>gzjtmtcrzv</td>\n      <td>0</td>\n    </tr>\n  </tbody>\n</table>\n</div>"
     },
     "metadata": {},
     "execution_count": 19
    }
   ],
   "source": [
    "data.head()"
   ]
  },
  {
   "cell_type": "code",
   "execution_count": 20,
   "metadata": {},
   "outputs": [
    {
     "output_type": "stream",
     "name": "stdout",
     "text": [
      "303\n"
     ]
    }
   ],
   "source": [
    "print(data.valid.sum())"
   ]
  },
  {
   "cell_type": "code",
   "execution_count": null,
   "metadata": {},
   "outputs": [],
   "source": []
  }
 ]
}