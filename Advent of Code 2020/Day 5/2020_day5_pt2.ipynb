{
 "metadata": {
  "language_info": {
   "codemirror_mode": {
    "name": "ipython",
    "version": 3
   },
   "file_extension": ".py",
   "mimetype": "text/x-python",
   "name": "python",
   "nbconvert_exporter": "python",
   "pygments_lexer": "ipython3",
   "version": "3.8.5-final"
  },
  "orig_nbformat": 2,
  "kernelspec": {
   "name": "python3",
   "display_name": "Python 3.8.5 64-bit",
   "metadata": {
    "interpreter": {
     "hash": "cdaf2d1fb91b6efc72cdae7ea42388cc549ee76757dbf18f9f42bedf4e5cf391"
    }
   }
  }
 },
 "nbformat": 4,
 "nbformat_minor": 2,
 "cells": [
  {
   "cell_type": "code",
   "execution_count": 23,
   "metadata": {},
   "outputs": [],
   "source": [
    "import pandas as pd\n",
    "import numpy as np"
   ]
  },
  {
   "cell_type": "code",
   "execution_count": 24,
   "metadata": {},
   "outputs": [
    {
     "output_type": "execute_result",
     "data": {
      "text/plain": [
       "         pass\n",
       "0  BFFBFBBRLR\n",
       "1  FFFFBBBLRR\n",
       "2  FFFFBBFLRL\n",
       "3  BFFBBFFLRR\n",
       "4  BFFBFBBLRR"
      ],
      "text/html": "<div>\n<style scoped>\n    .dataframe tbody tr th:only-of-type {\n        vertical-align: middle;\n    }\n\n    .dataframe tbody tr th {\n        vertical-align: top;\n    }\n\n    .dataframe thead th {\n        text-align: right;\n    }\n</style>\n<table border=\"1\" class=\"dataframe\">\n  <thead>\n    <tr style=\"text-align: right;\">\n      <th></th>\n      <th>pass</th>\n    </tr>\n  </thead>\n  <tbody>\n    <tr>\n      <th>0</th>\n      <td>BFFBFBBRLR</td>\n    </tr>\n    <tr>\n      <th>1</th>\n      <td>FFFFBBBLRR</td>\n    </tr>\n    <tr>\n      <th>2</th>\n      <td>FFFFBBFLRL</td>\n    </tr>\n    <tr>\n      <th>3</th>\n      <td>BFFBBFFLRR</td>\n    </tr>\n    <tr>\n      <th>4</th>\n      <td>BFFBFBBLRR</td>\n    </tr>\n  </tbody>\n</table>\n</div>"
     },
     "metadata": {},
     "execution_count": 24
    }
   ],
   "source": [
    "df = pd.read_csv('2020_day5.csv', header=None, names=['pass'])\n",
    "df.head()"
   ]
  },
  {
   "cell_type": "code",
   "execution_count": 25,
   "metadata": {},
   "outputs": [
    {
     "output_type": "execute_result",
     "data": {
      "text/plain": [
       "         pass row_pass column_pass\n",
       "0  BFFBFBBRLR  BFFBFBB         RLR\n",
       "1  FFFFBBBLRR  FFFFBBB         LRR\n",
       "2  FFFFBBFLRL  FFFFBBF         LRL\n",
       "3  BFFBBFFLRR  BFFBBFF         LRR\n",
       "4  BFFBFBBLRR  BFFBFBB         LRR"
      ],
      "text/html": "<div>\n<style scoped>\n    .dataframe tbody tr th:only-of-type {\n        vertical-align: middle;\n    }\n\n    .dataframe tbody tr th {\n        vertical-align: top;\n    }\n\n    .dataframe thead th {\n        text-align: right;\n    }\n</style>\n<table border=\"1\" class=\"dataframe\">\n  <thead>\n    <tr style=\"text-align: right;\">\n      <th></th>\n      <th>pass</th>\n      <th>row_pass</th>\n      <th>column_pass</th>\n    </tr>\n  </thead>\n  <tbody>\n    <tr>\n      <th>0</th>\n      <td>BFFBFBBRLR</td>\n      <td>BFFBFBB</td>\n      <td>RLR</td>\n    </tr>\n    <tr>\n      <th>1</th>\n      <td>FFFFBBBLRR</td>\n      <td>FFFFBBB</td>\n      <td>LRR</td>\n    </tr>\n    <tr>\n      <th>2</th>\n      <td>FFFFBBFLRL</td>\n      <td>FFFFBBF</td>\n      <td>LRL</td>\n    </tr>\n    <tr>\n      <th>3</th>\n      <td>BFFBBFFLRR</td>\n      <td>BFFBBFF</td>\n      <td>LRR</td>\n    </tr>\n    <tr>\n      <th>4</th>\n      <td>BFFBFBBLRR</td>\n      <td>BFFBFBB</td>\n      <td>LRR</td>\n    </tr>\n  </tbody>\n</table>\n</div>"
     },
     "metadata": {},
     "execution_count": 25
    }
   ],
   "source": [
    "df['row_pass'] = df['pass'].str.slice(0, 7)\n",
    "df['column_pass'] = df['pass'].str.slice(7, 10)\n",
    "df.head()"
   ]
  },
  {
   "cell_type": "code",
   "execution_count": 26,
   "metadata": {},
   "outputs": [],
   "source": [
    "# block = range(12)\n",
    "# start = int(len(block) / 2)\n",
    "# end = len(block)\n",
    "# print(len(block) / 2)\n",
    "# print([x for x in block])\n",
    "# block = block[start:end]\n",
    "# print([x for x in block])"
   ]
  },
  {
   "cell_type": "code",
   "execution_count": 27,
   "metadata": {},
   "outputs": [],
   "source": [
    "# block = range(12)\n",
    "# start = 0\n",
    "# end = int(len(block) / 2)\n",
    "# print(len(block) / 2)\n",
    "# print([x for x in block])\n",
    "# block = block[start:end]\n",
    "# print([x for x in block])"
   ]
  },
  {
   "cell_type": "code",
   "execution_count": 28,
   "metadata": {},
   "outputs": [],
   "source": [
    "def get_row(row_pass):\n",
    "    block = range(128)\n",
    "    for c in row_pass:\n",
    "        if c == 'B':\n",
    "            start = int(len(block) / 2)\n",
    "            end = len(block)\n",
    "        if c == 'F':\n",
    "            start = 0\n",
    "            end = int(len(block) / 2)\n",
    "        block = block[start:end]\n",
    "    return block[0]"
   ]
  },
  {
   "cell_type": "code",
   "execution_count": 29,
   "metadata": {},
   "outputs": [],
   "source": [
    "def get_column(column_pass):\n",
    "    block = range(8)\n",
    "    for c in column_pass:\n",
    "        if c == 'R':\n",
    "            start = int(len(block) / 2)\n",
    "            end = len(block)\n",
    "        if c == 'L':\n",
    "            start = 0\n",
    "            end = int(len(block) / 2)\n",
    "        block = block[start:end]\n",
    "    return block[0]"
   ]
  },
  {
   "cell_type": "code",
   "execution_count": 30,
   "metadata": {},
   "outputs": [
    {
     "output_type": "execute_result",
     "data": {
      "text/plain": [
       "         pass row_pass column_pass  row  column\n",
       "0  BFFBFBBRLR  BFFBFBB         RLR   75       5\n",
       "1  FFFFBBBLRR  FFFFBBB         LRR    7       3\n",
       "2  FFFFBBFLRL  FFFFBBF         LRL    6       2\n",
       "3  BFFBBFFLRR  BFFBBFF         LRR   76       3\n",
       "4  BFFBFBBLRR  BFFBFBB         LRR   75       3"
      ],
      "text/html": "<div>\n<style scoped>\n    .dataframe tbody tr th:only-of-type {\n        vertical-align: middle;\n    }\n\n    .dataframe tbody tr th {\n        vertical-align: top;\n    }\n\n    .dataframe thead th {\n        text-align: right;\n    }\n</style>\n<table border=\"1\" class=\"dataframe\">\n  <thead>\n    <tr style=\"text-align: right;\">\n      <th></th>\n      <th>pass</th>\n      <th>row_pass</th>\n      <th>column_pass</th>\n      <th>row</th>\n      <th>column</th>\n    </tr>\n  </thead>\n  <tbody>\n    <tr>\n      <th>0</th>\n      <td>BFFBFBBRLR</td>\n      <td>BFFBFBB</td>\n      <td>RLR</td>\n      <td>75</td>\n      <td>5</td>\n    </tr>\n    <tr>\n      <th>1</th>\n      <td>FFFFBBBLRR</td>\n      <td>FFFFBBB</td>\n      <td>LRR</td>\n      <td>7</td>\n      <td>3</td>\n    </tr>\n    <tr>\n      <th>2</th>\n      <td>FFFFBBFLRL</td>\n      <td>FFFFBBF</td>\n      <td>LRL</td>\n      <td>6</td>\n      <td>2</td>\n    </tr>\n    <tr>\n      <th>3</th>\n      <td>BFFBBFFLRR</td>\n      <td>BFFBBFF</td>\n      <td>LRR</td>\n      <td>76</td>\n      <td>3</td>\n    </tr>\n    <tr>\n      <th>4</th>\n      <td>BFFBFBBLRR</td>\n      <td>BFFBFBB</td>\n      <td>LRR</td>\n      <td>75</td>\n      <td>3</td>\n    </tr>\n  </tbody>\n</table>\n</div>"
     },
     "metadata": {},
     "execution_count": 30
    }
   ],
   "source": [
    "df['row'] = df['row_pass'].apply(get_row)\n",
    "df['column'] = df['column_pass'].apply(get_column)\n",
    "df.head()"
   ]
  },
  {
   "cell_type": "code",
   "execution_count": 31,
   "metadata": {},
   "outputs": [
    {
     "output_type": "execute_result",
     "data": {
      "text/plain": [
       "         pass row_pass column_pass  row  column  seatid\n",
       "0  BFFBFBBRLR  BFFBFBB         RLR   75       5     605\n",
       "1  FFFFBBBLRR  FFFFBBB         LRR    7       3      59\n",
       "2  FFFFBBFLRL  FFFFBBF         LRL    6       2      50\n",
       "3  BFFBBFFLRR  BFFBBFF         LRR   76       3     611\n",
       "4  BFFBFBBLRR  BFFBFBB         LRR   75       3     603"
      ],
      "text/html": "<div>\n<style scoped>\n    .dataframe tbody tr th:only-of-type {\n        vertical-align: middle;\n    }\n\n    .dataframe tbody tr th {\n        vertical-align: top;\n    }\n\n    .dataframe thead th {\n        text-align: right;\n    }\n</style>\n<table border=\"1\" class=\"dataframe\">\n  <thead>\n    <tr style=\"text-align: right;\">\n      <th></th>\n      <th>pass</th>\n      <th>row_pass</th>\n      <th>column_pass</th>\n      <th>row</th>\n      <th>column</th>\n      <th>seatid</th>\n    </tr>\n  </thead>\n  <tbody>\n    <tr>\n      <th>0</th>\n      <td>BFFBFBBRLR</td>\n      <td>BFFBFBB</td>\n      <td>RLR</td>\n      <td>75</td>\n      <td>5</td>\n      <td>605</td>\n    </tr>\n    <tr>\n      <th>1</th>\n      <td>FFFFBBBLRR</td>\n      <td>FFFFBBB</td>\n      <td>LRR</td>\n      <td>7</td>\n      <td>3</td>\n      <td>59</td>\n    </tr>\n    <tr>\n      <th>2</th>\n      <td>FFFFBBFLRL</td>\n      <td>FFFFBBF</td>\n      <td>LRL</td>\n      <td>6</td>\n      <td>2</td>\n      <td>50</td>\n    </tr>\n    <tr>\n      <th>3</th>\n      <td>BFFBBFFLRR</td>\n      <td>BFFBBFF</td>\n      <td>LRR</td>\n      <td>76</td>\n      <td>3</td>\n      <td>611</td>\n    </tr>\n    <tr>\n      <th>4</th>\n      <td>BFFBFBBLRR</td>\n      <td>BFFBFBB</td>\n      <td>LRR</td>\n      <td>75</td>\n      <td>3</td>\n      <td>603</td>\n    </tr>\n  </tbody>\n</table>\n</div>"
     },
     "metadata": {},
     "execution_count": 31
    }
   ],
   "source": [
    "df['seatid'] = df['row'] * 8 + df['column']\n",
    "df.head()"
   ]
  },
  {
   "cell_type": "code",
   "execution_count": 32,
   "metadata": {},
   "outputs": [
    {
     "output_type": "execute_result",
     "data": {
      "text/plain": [
       "array([ 35,  36,  37,  38,  39,  40,  41,  42,  43,  44,  45,  46,  47,\n",
       "        48,  49,  50,  51,  52,  53,  54,  55,  56,  57,  58,  59,  60,\n",
       "        61,  62,  63,  64,  65,  66,  67,  68,  69,  70,  71,  72,  73,\n",
       "        74,  75,  76,  77,  78,  79,  80,  81,  82,  83,  84,  85,  86,\n",
       "        87,  88,  89,  90,  91,  92,  93,  94,  95,  96,  97,  98,  99,\n",
       "       100, 101, 102, 103, 104, 105, 106, 107, 108, 109, 110, 111, 112,\n",
       "       113, 114, 115, 116, 117, 118, 119, 120, 121, 122, 123, 124, 125,\n",
       "       126, 127, 128, 129, 130, 131, 132, 133, 134, 135, 136, 137, 138,\n",
       "       139, 140, 141, 142, 143, 144, 145, 146, 147, 148, 149, 150, 151,\n",
       "       152, 153, 154, 155, 156, 157, 158, 159, 160, 161, 162, 163, 164,\n",
       "       165, 166, 167, 168, 169, 170, 171, 172, 173, 174, 175, 176, 177,\n",
       "       178, 179, 180, 181, 182, 183, 184, 185, 186, 187, 188, 189, 190,\n",
       "       191, 192, 193, 194, 195, 196, 197, 198, 199, 200, 201, 202, 203,\n",
       "       204, 205, 206, 207, 208, 209, 210, 211, 212, 213, 214, 215, 216,\n",
       "       217, 218, 219, 220, 221, 222, 223, 224, 225, 226, 227, 228, 229,\n",
       "       230, 231, 232, 233, 234, 235, 236, 237, 238, 239, 240, 241, 242,\n",
       "       243, 244, 245, 246, 247, 248, 249, 250, 251, 252, 253, 254, 255,\n",
       "       256, 257, 258, 259, 260, 261, 262, 263, 264, 265, 266, 267, 268,\n",
       "       269, 270, 271, 272, 273, 274, 275, 276, 277, 278, 279, 280, 281,\n",
       "       282, 283, 284, 285, 286, 287, 288, 289, 290, 291, 292, 293, 294,\n",
       "       295, 296, 297, 298, 299, 300, 301, 302, 303, 304, 305, 306, 307,\n",
       "       308, 309, 310, 311, 312, 313, 314, 315, 316, 317, 318, 319, 320,\n",
       "       321, 322, 323, 324, 325, 326, 327, 328, 329, 330, 331, 332, 333,\n",
       "       334, 335, 336, 337, 338, 339, 340, 341, 342, 343, 344, 345, 346,\n",
       "       347, 348, 349, 350, 351, 352, 353, 354, 355, 356, 357, 358, 359,\n",
       "       360, 361, 362, 363, 364, 365, 366, 367, 368, 369, 370, 371, 372,\n",
       "       373, 374, 375, 376, 377, 378, 379, 380, 381, 382, 383, 384, 385,\n",
       "       386, 387, 388, 389, 390, 391, 392, 393, 394, 395, 396, 397, 398,\n",
       "       399, 400, 401, 402, 403, 404, 405, 406, 407, 408, 409, 410, 411,\n",
       "       412, 413, 414, 415, 416, 417, 418, 419, 420, 421, 422, 423, 424,\n",
       "       425, 426, 427, 428, 429, 430, 431, 432, 433, 434, 435, 436, 437,\n",
       "       438, 439, 440, 441, 442, 443, 444, 445, 446, 447, 448, 449, 450,\n",
       "       451, 452, 453, 454, 455, 456, 457, 458, 459, 460, 461, 462, 463,\n",
       "       464, 465, 466, 467, 468, 469, 470, 471, 472, 473, 474, 475, 476,\n",
       "       477, 478, 479, 480, 481, 482, 483, 484, 485, 486, 487, 488, 489,\n",
       "       490, 491, 492, 493, 494, 495, 496, 497, 498, 499, 500, 501, 502,\n",
       "       503, 504, 505, 506, 507, 508, 509, 510, 511, 512, 513, 514, 515,\n",
       "       516, 517, 518, 519, 520, 521, 522, 523, 524, 525, 526, 527, 528,\n",
       "       529, 530, 531, 532, 533, 534, 535, 536, 537, 538, 539, 540, 541,\n",
       "       542, 543, 544, 545, 546, 547, 548, 549, 550, 551, 552, 553, 554,\n",
       "       555, 556, 557, 558, 559, 560, 561, 562, 563, 564, 565, 566, 567,\n",
       "       568, 569, 570, 571, 572, 573, 574, 575, 576, 577, 578, 579, 580,\n",
       "       581, 582, 583, 584, 585, 586, 587, 588, 589, 590, 591, 592, 593,\n",
       "       594, 595, 596, 597, 598, 599, 600, 601, 602, 603, 604, 605, 606,\n",
       "       607, 608, 609, 610, 611, 612, 613, 614, 615, 616, 617, 618, 619,\n",
       "       620, 621, 622, 624, 625, 626, 627, 628, 629, 630, 631, 632, 633,\n",
       "       634, 635, 636, 637, 638, 639, 640, 641, 642, 643, 644, 645, 646,\n",
       "       647, 648, 649, 650, 651, 652, 653, 654, 655, 656, 657, 658, 659,\n",
       "       660, 661, 662, 663, 664, 665, 666, 667, 668, 669, 670, 671, 672,\n",
       "       673, 674, 675, 676, 677, 678, 679, 680, 681, 682, 683, 684, 685,\n",
       "       686, 687, 688, 689, 690, 691, 692, 693, 694, 695, 696, 697, 698,\n",
       "       699, 700, 701, 702, 703, 704, 705, 706, 707, 708, 709, 710, 711,\n",
       "       712, 713, 714, 715, 716, 717, 718, 719, 720, 721, 722, 723, 724,\n",
       "       725, 726, 727, 728, 729, 730, 731, 732, 733, 734, 735, 736, 737,\n",
       "       738, 739, 740, 741, 742, 743, 744, 745, 746, 747, 748, 749, 750,\n",
       "       751, 752, 753, 754, 755, 756, 757, 758, 759, 760, 761, 762, 763,\n",
       "       764, 765, 766, 767, 768, 769, 770, 771, 772, 773, 774, 775, 776,\n",
       "       777, 778, 779, 780, 781, 782, 783, 784, 785, 786, 787, 788, 789,\n",
       "       790, 791, 792, 793, 794, 795, 796, 797, 798, 799, 800, 801, 802,\n",
       "       803, 804, 805, 806, 807, 808, 809, 810, 811, 812, 813, 814, 815,\n",
       "       816, 817, 818, 819, 820, 821, 822, 823, 824, 825, 826, 827, 828,\n",
       "       829, 830, 831, 832, 833, 834, 835, 836, 837, 838, 839, 840, 841,\n",
       "       842, 843, 844, 845, 846, 847, 848, 849, 850, 851, 852, 853, 854,\n",
       "       855, 856, 857, 858, 859, 860, 861, 862, 863, 864, 865, 866, 867,\n",
       "       868, 869, 870, 871, 872, 873, 874, 875, 876, 877, 878, 879, 880,\n",
       "       881, 882, 883, 884, 885], dtype=int64)"
      ]
     },
     "metadata": {},
     "execution_count": 32
    }
   ],
   "source": [
    "seats = np.sort(df['seatid'].to_numpy())\n",
    "seats"
   ]
  },
  {
   "cell_type": "code",
   "execution_count": 33,
   "metadata": {},
   "outputs": [
    {
     "output_type": "stream",
     "name": "stdout",
     "text": [
      "623\n"
     ]
    }
   ],
   "source": [
    "for i in range(len(seats) - 1):\n",
    "    if abs(seats[i] - seats[i + 1]) > 1:\n",
    "        print(seats[i] + 1)\n",
    "        break"
   ]
  },
  {
   "cell_type": "code",
   "execution_count": null,
   "metadata": {},
   "outputs": [],
   "source": []
  }
 ]
}