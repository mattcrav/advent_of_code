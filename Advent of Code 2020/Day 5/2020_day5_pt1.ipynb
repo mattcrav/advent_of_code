{
 "metadata": {
  "language_info": {
   "codemirror_mode": {
    "name": "ipython",
    "version": 3
   },
   "file_extension": ".py",
   "mimetype": "text/x-python",
   "name": "python",
   "nbconvert_exporter": "python",
   "pygments_lexer": "ipython3",
   "version": "3.8.5-final"
  },
  "orig_nbformat": 2,
  "kernelspec": {
   "name": "python3",
   "display_name": "Python 3.8.5 64-bit",
   "metadata": {
    "interpreter": {
     "hash": "cdaf2d1fb91b6efc72cdae7ea42388cc549ee76757dbf18f9f42bedf4e5cf391"
    }
   }
  }
 },
 "nbformat": 4,
 "nbformat_minor": 2,
 "cells": [
  {
   "cell_type": "code",
   "execution_count": 57,
   "metadata": {},
   "outputs": [],
   "source": [
    "import pandas as pd"
   ]
  },
  {
   "cell_type": "code",
   "execution_count": 58,
   "metadata": {},
   "outputs": [
    {
     "output_type": "execute_result",
     "data": {
      "text/plain": [
       "         pass\n",
       "0  BFFBFBBRLR\n",
       "1  FFFFBBBLRR\n",
       "2  FFFFBBFLRL\n",
       "3  BFFBBFFLRR\n",
       "4  BFFBFBBLRR"
      ],
      "text/html": "<div>\n<style scoped>\n    .dataframe tbody tr th:only-of-type {\n        vertical-align: middle;\n    }\n\n    .dataframe tbody tr th {\n        vertical-align: top;\n    }\n\n    .dataframe thead th {\n        text-align: right;\n    }\n</style>\n<table border=\"1\" class=\"dataframe\">\n  <thead>\n    <tr style=\"text-align: right;\">\n      <th></th>\n      <th>pass</th>\n    </tr>\n  </thead>\n  <tbody>\n    <tr>\n      <th>0</th>\n      <td>BFFBFBBRLR</td>\n    </tr>\n    <tr>\n      <th>1</th>\n      <td>FFFFBBBLRR</td>\n    </tr>\n    <tr>\n      <th>2</th>\n      <td>FFFFBBFLRL</td>\n    </tr>\n    <tr>\n      <th>3</th>\n      <td>BFFBBFFLRR</td>\n    </tr>\n    <tr>\n      <th>4</th>\n      <td>BFFBFBBLRR</td>\n    </tr>\n  </tbody>\n</table>\n</div>"
     },
     "metadata": {},
     "execution_count": 58
    }
   ],
   "source": [
    "df = pd.read_csv('2020_day5.csv', header=None, names=['pass'])\n",
    "df.head()"
   ]
  },
  {
   "cell_type": "code",
   "execution_count": 59,
   "metadata": {},
   "outputs": [
    {
     "output_type": "execute_result",
     "data": {
      "text/plain": [
       "         pass row_pass column_pass\n",
       "0  BFFBFBBRLR  BFFBFBB         RLR\n",
       "1  FFFFBBBLRR  FFFFBBB         LRR\n",
       "2  FFFFBBFLRL  FFFFBBF         LRL\n",
       "3  BFFBBFFLRR  BFFBBFF         LRR\n",
       "4  BFFBFBBLRR  BFFBFBB         LRR"
      ],
      "text/html": "<div>\n<style scoped>\n    .dataframe tbody tr th:only-of-type {\n        vertical-align: middle;\n    }\n\n    .dataframe tbody tr th {\n        vertical-align: top;\n    }\n\n    .dataframe thead th {\n        text-align: right;\n    }\n</style>\n<table border=\"1\" class=\"dataframe\">\n  <thead>\n    <tr style=\"text-align: right;\">\n      <th></th>\n      <th>pass</th>\n      <th>row_pass</th>\n      <th>column_pass</th>\n    </tr>\n  </thead>\n  <tbody>\n    <tr>\n      <th>0</th>\n      <td>BFFBFBBRLR</td>\n      <td>BFFBFBB</td>\n      <td>RLR</td>\n    </tr>\n    <tr>\n      <th>1</th>\n      <td>FFFFBBBLRR</td>\n      <td>FFFFBBB</td>\n      <td>LRR</td>\n    </tr>\n    <tr>\n      <th>2</th>\n      <td>FFFFBBFLRL</td>\n      <td>FFFFBBF</td>\n      <td>LRL</td>\n    </tr>\n    <tr>\n      <th>3</th>\n      <td>BFFBBFFLRR</td>\n      <td>BFFBBFF</td>\n      <td>LRR</td>\n    </tr>\n    <tr>\n      <th>4</th>\n      <td>BFFBFBBLRR</td>\n      <td>BFFBFBB</td>\n      <td>LRR</td>\n    </tr>\n  </tbody>\n</table>\n</div>"
     },
     "metadata": {},
     "execution_count": 59
    }
   ],
   "source": [
    "df['row_pass'] = df['pass'].str.slice(0, 7)\n",
    "df['column_pass'] = df['pass'].str.slice(7, 10)\n",
    "df.head()"
   ]
  },
  {
   "cell_type": "code",
   "execution_count": 60,
   "metadata": {},
   "outputs": [],
   "source": [
    "# block = range(12)\n",
    "# start = int(len(block) / 2)\n",
    "# end = len(block)\n",
    "# print(len(block) / 2)\n",
    "# print([x for x in block])\n",
    "# block = block[start:end]\n",
    "# print([x for x in block])"
   ]
  },
  {
   "cell_type": "code",
   "execution_count": 61,
   "metadata": {},
   "outputs": [],
   "source": [
    "# block = range(12)\n",
    "# start = 0\n",
    "# end = int(len(block) / 2)\n",
    "# print(len(block) / 2)\n",
    "# print([x for x in block])\n",
    "# block = block[start:end]\n",
    "# print([x for x in block])"
   ]
  },
  {
   "cell_type": "code",
   "execution_count": 62,
   "metadata": {},
   "outputs": [],
   "source": [
    "def get_row(row_pass):\n",
    "    block = range(128)\n",
    "    for c in row_pass:\n",
    "        if c == 'B':\n",
    "            start = int(len(block) / 2)\n",
    "            end = len(block)\n",
    "        if c == 'F':\n",
    "            start = 0\n",
    "            end = int(len(block) / 2)\n",
    "        block = block[start:end]\n",
    "    return block[0]"
   ]
  },
  {
   "cell_type": "code",
   "execution_count": 63,
   "metadata": {},
   "outputs": [],
   "source": [
    "def get_column(column_pass):\n",
    "    block = range(8)\n",
    "    for c in column_pass:\n",
    "        if c == 'R':\n",
    "            start = int(len(block) / 2)\n",
    "            end = len(block)\n",
    "        if c == 'L':\n",
    "            start = 0\n",
    "            end = int(len(block) / 2)\n",
    "        block = block[start:end]\n",
    "    return block[0]"
   ]
  },
  {
   "cell_type": "code",
   "execution_count": 64,
   "metadata": {},
   "outputs": [
    {
     "output_type": "execute_result",
     "data": {
      "text/plain": [
       "         pass row_pass column_pass  row  column\n",
       "0  BFFBFBBRLR  BFFBFBB         RLR   75       5\n",
       "1  FFFFBBBLRR  FFFFBBB         LRR    7       3\n",
       "2  FFFFBBFLRL  FFFFBBF         LRL    6       2\n",
       "3  BFFBBFFLRR  BFFBBFF         LRR   76       3\n",
       "4  BFFBFBBLRR  BFFBFBB         LRR   75       3"
      ],
      "text/html": "<div>\n<style scoped>\n    .dataframe tbody tr th:only-of-type {\n        vertical-align: middle;\n    }\n\n    .dataframe tbody tr th {\n        vertical-align: top;\n    }\n\n    .dataframe thead th {\n        text-align: right;\n    }\n</style>\n<table border=\"1\" class=\"dataframe\">\n  <thead>\n    <tr style=\"text-align: right;\">\n      <th></th>\n      <th>pass</th>\n      <th>row_pass</th>\n      <th>column_pass</th>\n      <th>row</th>\n      <th>column</th>\n    </tr>\n  </thead>\n  <tbody>\n    <tr>\n      <th>0</th>\n      <td>BFFBFBBRLR</td>\n      <td>BFFBFBB</td>\n      <td>RLR</td>\n      <td>75</td>\n      <td>5</td>\n    </tr>\n    <tr>\n      <th>1</th>\n      <td>FFFFBBBLRR</td>\n      <td>FFFFBBB</td>\n      <td>LRR</td>\n      <td>7</td>\n      <td>3</td>\n    </tr>\n    <tr>\n      <th>2</th>\n      <td>FFFFBBFLRL</td>\n      <td>FFFFBBF</td>\n      <td>LRL</td>\n      <td>6</td>\n      <td>2</td>\n    </tr>\n    <tr>\n      <th>3</th>\n      <td>BFFBBFFLRR</td>\n      <td>BFFBBFF</td>\n      <td>LRR</td>\n      <td>76</td>\n      <td>3</td>\n    </tr>\n    <tr>\n      <th>4</th>\n      <td>BFFBFBBLRR</td>\n      <td>BFFBFBB</td>\n      <td>LRR</td>\n      <td>75</td>\n      <td>3</td>\n    </tr>\n  </tbody>\n</table>\n</div>"
     },
     "metadata": {},
     "execution_count": 64
    }
   ],
   "source": [
    "df['row'] = df['row_pass'].apply(get_row)\n",
    "df['column'] = df['column_pass'].apply(get_column)\n",
    "df.head()"
   ]
  },
  {
   "cell_type": "code",
   "execution_count": 65,
   "metadata": {},
   "outputs": [
    {
     "output_type": "execute_result",
     "data": {
      "text/plain": [
       "         pass row_pass column_pass  row  column  seatid\n",
       "0  BFFBFBBRLR  BFFBFBB         RLR   75       5     605\n",
       "1  FFFFBBBLRR  FFFFBBB         LRR    7       3      59\n",
       "2  FFFFBBFLRL  FFFFBBF         LRL    6       2      50\n",
       "3  BFFBBFFLRR  BFFBBFF         LRR   76       3     611\n",
       "4  BFFBFBBLRR  BFFBFBB         LRR   75       3     603"
      ],
      "text/html": "<div>\n<style scoped>\n    .dataframe tbody tr th:only-of-type {\n        vertical-align: middle;\n    }\n\n    .dataframe tbody tr th {\n        vertical-align: top;\n    }\n\n    .dataframe thead th {\n        text-align: right;\n    }\n</style>\n<table border=\"1\" class=\"dataframe\">\n  <thead>\n    <tr style=\"text-align: right;\">\n      <th></th>\n      <th>pass</th>\n      <th>row_pass</th>\n      <th>column_pass</th>\n      <th>row</th>\n      <th>column</th>\n      <th>seatid</th>\n    </tr>\n  </thead>\n  <tbody>\n    <tr>\n      <th>0</th>\n      <td>BFFBFBBRLR</td>\n      <td>BFFBFBB</td>\n      <td>RLR</td>\n      <td>75</td>\n      <td>5</td>\n      <td>605</td>\n    </tr>\n    <tr>\n      <th>1</th>\n      <td>FFFFBBBLRR</td>\n      <td>FFFFBBB</td>\n      <td>LRR</td>\n      <td>7</td>\n      <td>3</td>\n      <td>59</td>\n    </tr>\n    <tr>\n      <th>2</th>\n      <td>FFFFBBFLRL</td>\n      <td>FFFFBBF</td>\n      <td>LRL</td>\n      <td>6</td>\n      <td>2</td>\n      <td>50</td>\n    </tr>\n    <tr>\n      <th>3</th>\n      <td>BFFBBFFLRR</td>\n      <td>BFFBBFF</td>\n      <td>LRR</td>\n      <td>76</td>\n      <td>3</td>\n      <td>611</td>\n    </tr>\n    <tr>\n      <th>4</th>\n      <td>BFFBFBBLRR</td>\n      <td>BFFBFBB</td>\n      <td>LRR</td>\n      <td>75</td>\n      <td>3</td>\n      <td>603</td>\n    </tr>\n  </tbody>\n</table>\n</div>"
     },
     "metadata": {},
     "execution_count": 65
    }
   ],
   "source": [
    "df['seatid'] = df['row'] * 8 + df['column']\n",
    "df.head()"
   ]
  },
  {
   "cell_type": "code",
   "execution_count": 66,
   "metadata": {},
   "outputs": [
    {
     "output_type": "stream",
     "name": "stdout",
     "text": [
      "885\n"
     ]
    }
   ],
   "source": [
    "print(df['seatid'].max())"
   ]
  }
 ]
}