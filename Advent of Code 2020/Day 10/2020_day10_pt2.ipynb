{
 "cells": [
  {
   "cell_type": "code",
   "execution_count": 41,
   "metadata": {},
   "outputs": [],
   "source": [
    "import csv\n",
    "import numpy as np\n",
    "import pandas as pd\n",
    "from random import shuffle"
   ]
  },
  {
   "cell_type": "code",
   "execution_count": 42,
   "metadata": {},
   "outputs": [],
   "source": [
    "with open('2020_day10.csv', 'r') as f:\n",
    "    r = csv.reader(f)\n",
    "    s = [int(x[0]) for x in r]"
   ]
  },
  {
   "cell_type": "code",
   "execution_count": 43,
   "metadata": {},
   "outputs": [],
   "source": [
    "s = sorted(s)"
   ]
  },
  {
   "cell_type": "code",
   "execution_count": 44,
   "metadata": {},
   "outputs": [
    {
     "name": "stdout",
     "output_type": "stream",
     "text": [
      "[  0   1   2   5   6   7   8   9  12  13  14  15  16  19  22  23  24  25\n",
      "  26  29  30  31  32  35  36  37  38  41  44  45  46  47  50  51  52  53\n",
      "  54  57  58  59  62  63  66  67  68  69  70  73  76  77  78  79  80  83\n",
      "  86  89  90  91  94  95  96  97  98 101 104 107 108 109 110 113 114 115\n",
      " 116 119 120 123 124 125 126 127 130 131 134 137 138 139 140 143 144 145\n",
      " 148 149 150 151 154]\n"
     ]
    }
   ],
   "source": [
    "a = np.array([0] + s + [max(s) + 3])\n",
    "print(a)"
   ]
  },
  {
   "cell_type": "code",
   "execution_count": 45,
   "metadata": {},
   "outputs": [
    {
     "name": "stdout",
     "output_type": "stream",
     "text": [
      "{0: [1, 2], 1: [2], 2: [5], 5: [6, 7, 8], 6: [7, 8, 9], 7: [8, 9], 8: [9], 9: [12], 12: [13, 14, 15], 13: [14, 15, 16], 14: [15, 16], 15: [16], 16: [19], 19: [22], 22: [23, 24, 25], 23: [24, 25, 26], 24: [25, 26], 25: [26], 26: [29], 29: [30, 31, 32], 30: [31, 32], 31: [32], 32: [35], 35: [36, 37, 38], 36: [37, 38], 37: [38], 38: [41], 41: [44], 44: [45, 46, 47], 45: [46, 47], 46: [47], 47: [50], 50: [51, 52, 53], 51: [52, 53, 54], 52: [53, 54], 53: [54], 54: [57], 57: [58, 59], 58: [59], 59: [62], 62: [63], 63: [66], 66: [67, 68, 69], 67: [68, 69, 70], 68: [69, 70], 69: [70], 70: [73], 73: [76], 76: [77, 78, 79], 77: [78, 79, 80], 78: [79, 80], 79: [80], 80: [83], 83: [86], 86: [89], 89: [90, 91], 90: [91], 91: [94], 94: [95, 96, 97], 95: [96, 97, 98], 96: [97, 98], 97: [98], 98: [101], 101: [104], 104: [107], 107: [108, 109, 110], 108: [109, 110], 109: [110], 110: [113], 113: [114, 115, 116], 114: [115, 116], 115: [116], 116: [119], 119: [120], 120: [123], 123: [124, 125, 126], 124: [125, 126, 127], 125: [126, 127], 126: [127], 127: [130], 130: [131], 131: [134], 134: [137], 137: [138, 139, 140], 138: [139, 140], 139: [140], 140: [143], 143: [144, 145], 144: [145], 145: [148], 148: [149, 150, 151], 149: [150, 151], 150: [151], 151: [154], 154: []}\n"
     ]
    }
   ],
   "source": [
    "d = {}\n",
    "for v in a:\n",
    "    d[v] = list(np.extract(np.logical_and(a - v <= 3, a - v > 0), a))\n",
    "print(d)"
   ]
  },
  {
   "cell_type": "code",
   "execution_count": 46,
   "metadata": {},
   "outputs": [
    {
     "ename": "KeyboardInterrupt",
     "evalue": "",
     "output_type": "error",
     "traceback": [
      "\u001b[1;31m---------------------------------------------------------------------------\u001b[0m",
      "\u001b[1;31mKeyboardInterrupt\u001b[0m                         Traceback (most recent call last)",
      "\u001b[1;32m<ipython-input-46-6b61278c2783>\u001b[0m in \u001b[0;36m<module>\u001b[1;34m\u001b[0m\n\u001b[0;32m      6\u001b[0m         \u001b[0mcompleted\u001b[0m \u001b[1;33m+=\u001b[0m \u001b[1;36m1\u001b[0m\u001b[1;33m\u001b[0m\u001b[1;33m\u001b[0m\u001b[0m\n\u001b[0;32m      7\u001b[0m         \u001b[1;32mcontinue\u001b[0m\u001b[1;33m\u001b[0m\u001b[1;33m\u001b[0m\u001b[0m\n\u001b[1;32m----> 8\u001b[1;33m     \u001b[1;32mfor\u001b[0m \u001b[0mn\u001b[0m \u001b[1;32min\u001b[0m \u001b[0md\u001b[0m\u001b[1;33m[\u001b[0m\u001b[0mp\u001b[0m\u001b[1;33m[\u001b[0m\u001b[1;33m-\u001b[0m\u001b[1;36m1\u001b[0m\u001b[1;33m]\u001b[0m\u001b[1;33m]\u001b[0m\u001b[1;33m:\u001b[0m\u001b[1;33m\u001b[0m\u001b[1;33m\u001b[0m\u001b[0m\n\u001b[0m\u001b[0;32m      9\u001b[0m         \u001b[0mpn\u001b[0m \u001b[1;33m=\u001b[0m \u001b[0mp\u001b[0m \u001b[1;33m+\u001b[0m \u001b[1;33m[\u001b[0m\u001b[0mn\u001b[0m\u001b[1;33m]\u001b[0m\u001b[1;33m\u001b[0m\u001b[1;33m\u001b[0m\u001b[0m\n\u001b[0;32m     10\u001b[0m         \u001b[0mpaths\u001b[0m\u001b[1;33m.\u001b[0m\u001b[0mappend\u001b[0m\u001b[1;33m(\u001b[0m\u001b[0mpn\u001b[0m\u001b[1;33m)\u001b[0m\u001b[1;33m\u001b[0m\u001b[1;33m\u001b[0m\u001b[0m\n",
      "\u001b[1;31mKeyboardInterrupt\u001b[0m: "
     ]
    }
   ],
   "source": [
    "# too long\n",
    "paths =[[0]]\n",
    "completed = 0\n",
    "while len(paths) > 0:\n",
    "    p = paths.pop()\n",
    "    if len(d[p[-1]]) == 0:\n",
    "        completed += 1\n",
    "        continue\n",
    "    for n in d[p[-1]]:\n",
    "        pn = p + [n]\n",
    "        paths.append(pn)\n",
    "print(completed)\n",
    "# print(len(completed))"
   ]
  },
  {
   "cell_type": "code",
   "execution_count": 47,
   "metadata": {},
   "outputs": [
    {
     "name": "stdout",
     "output_type": "stream",
     "text": [
      "197563113\n"
     ]
    }
   ],
   "source": [
    "print(completed)"
   ]
  },
  {
   "cell_type": "code",
   "execution_count": 17,
   "metadata": {},
   "outputs": [
    {
     "ename": "KeyboardInterrupt",
     "evalue": "",
     "output_type": "error",
     "traceback": [
      "\u001b[1;31m---------------------------------------------------------------------------\u001b[0m",
      "\u001b[1;31mKeyboardInterrupt\u001b[0m                         Traceback (most recent call last)",
      "\u001b[1;32m<ipython-input-17-f3ca190f51be>\u001b[0m in \u001b[0;36m<module>\u001b[1;34m\u001b[0m\n\u001b[0;32m      5\u001b[0m     \u001b[0mcurr\u001b[0m \u001b[1;33m=\u001b[0m \u001b[0mtodo\u001b[0m\u001b[1;33m.\u001b[0m\u001b[0mpop\u001b[0m\u001b[1;33m(\u001b[0m\u001b[1;33m)\u001b[0m\u001b[1;33m\u001b[0m\u001b[1;33m\u001b[0m\u001b[0m\n\u001b[0;32m      6\u001b[0m     \u001b[0mv\u001b[0m \u001b[1;33m=\u001b[0m \u001b[0mcurr\u001b[0m\u001b[1;33m[\u001b[0m\u001b[1;33m-\u001b[0m\u001b[1;36m1\u001b[0m\u001b[1;33m]\u001b[0m\u001b[1;33m\u001b[0m\u001b[1;33m\u001b[0m\u001b[0m\n\u001b[1;32m----> 7\u001b[1;33m     \u001b[0mi\u001b[0m \u001b[1;33m=\u001b[0m \u001b[0mnp\u001b[0m\u001b[1;33m.\u001b[0m\u001b[0mwhere\u001b[0m\u001b[1;33m(\u001b[0m\u001b[0ma\u001b[0m \u001b[1;33m==\u001b[0m \u001b[0mv\u001b[0m\u001b[1;33m)\u001b[0m\u001b[1;33m[\u001b[0m\u001b[1;36m0\u001b[0m\u001b[1;33m]\u001b[0m\u001b[1;33m[\u001b[0m\u001b[1;36m0\u001b[0m\u001b[1;33m]\u001b[0m\u001b[1;33m\u001b[0m\u001b[1;33m\u001b[0m\u001b[0m\n\u001b[0m\u001b[0;32m      8\u001b[0m     \u001b[0mn\u001b[0m \u001b[1;33m=\u001b[0m \u001b[0mnp\u001b[0m\u001b[1;33m.\u001b[0m\u001b[0mwhere\u001b[0m\u001b[1;33m(\u001b[0m\u001b[0mnp\u001b[0m\u001b[1;33m.\u001b[0m\u001b[0mlogical_and\u001b[0m\u001b[1;33m(\u001b[0m\u001b[0ma\u001b[0m \u001b[1;33m-\u001b[0m \u001b[0ma\u001b[0m\u001b[1;33m[\u001b[0m\u001b[0mi\u001b[0m\u001b[1;33m]\u001b[0m \u001b[1;33m<=\u001b[0m \u001b[1;36m3\u001b[0m\u001b[1;33m,\u001b[0m \u001b[0ma\u001b[0m \u001b[1;33m-\u001b[0m \u001b[0ma\u001b[0m\u001b[1;33m[\u001b[0m\u001b[0mi\u001b[0m\u001b[1;33m]\u001b[0m \u001b[1;33m>\u001b[0m \u001b[1;36m0\u001b[0m\u001b[1;33m)\u001b[0m\u001b[1;33m)\u001b[0m\u001b[1;33m[\u001b[0m\u001b[1;36m0\u001b[0m\u001b[1;33m]\u001b[0m\u001b[1;33m\u001b[0m\u001b[1;33m\u001b[0m\u001b[0m\n\u001b[0;32m      9\u001b[0m     \u001b[1;32mif\u001b[0m \u001b[0mlen\u001b[0m\u001b[1;33m(\u001b[0m\u001b[0mn\u001b[0m\u001b[1;33m)\u001b[0m \u001b[1;33m==\u001b[0m \u001b[1;36m0\u001b[0m\u001b[1;33m:\u001b[0m\u001b[1;33m\u001b[0m\u001b[1;33m\u001b[0m\u001b[0m\n",
      "\u001b[1;32m<__array_function__ internals>\u001b[0m in \u001b[0;36mwhere\u001b[1;34m(*args, **kwargs)\u001b[0m\n",
      "\u001b[1;31mKeyboardInterrupt\u001b[0m: "
     ]
    }
   ],
   "source": [
    "comp = []\n",
    "todo = [[0]]\n",
    "t = 0\n",
    "while len(todo) > 0:\n",
    "    curr = todo.pop()\n",
    "    v = curr[-1]\n",
    "    i = np.where(a == v)[0][0]\n",
    "    n = np.where(np.logical_and(a - a[i] <= 3, a - a[i] > 0))[0]\n",
    "    if len(n) == 0:\n",
    "        # comp.append(curr)\n",
    "        t += 1\n",
    "        continue\n",
    "    for p in a[n]:\n",
    "        todo.append(curr + [p])\n",
    "    # print(v, i, n)\n",
    "# for c in comp[::-1]:\n",
    "#     print(c)\n",
    "# print(len(comp))\n",
    "print(t)"
   ]
  },
  {
   "cell_type": "code",
   "execution_count": 18,
   "metadata": {},
   "outputs": [
    {
     "name": "stdout",
     "output_type": "stream",
     "text": [
      "[[0, 1], [0, 2, 5, 6], [0, 2, 5, 7], [0, 2, 5, 8, 9, 12, 13], [0, 2, 5, 8, 9, 12, 14], [0, 2, 5, 8, 9, 12, 15, 16, 19, 22, 23], [0, 2, 5, 8, 9, 12, 15, 16, 19, 22, 24], [0, 2, 5, 8, 9, 12, 15, 16, 19, 22, 25, 26, 29, 30], [0, 2, 5, 8, 9, 12, 15, 16, 19, 22, 25, 26, 29, 31, 32, 35, 36, 37], [0, 2, 5, 8, 9, 12, 15, 16, 19, 22, 25, 26, 29, 31, 32, 35, 36, 38, 41, 44, 45, 46], [0, 2, 5, 8, 9, 12, 15, 16, 19, 22, 25, 26, 29, 31, 32, 35, 36, 38, 41, 44, 45, 47, 50, 51], [0, 2, 5, 8, 9, 12, 15, 16, 19, 22, 25, 26, 29, 31, 32, 35, 36, 38, 41, 44, 45, 47, 50, 52, 53], [0, 2, 5, 8, 9, 12, 15, 16, 19, 22, 25, 26, 29, 31, 32, 35, 36, 38, 41, 44, 45, 47, 50, 52, 54, 57, 58], [0, 2, 5, 8, 9, 12, 15, 16, 19, 22, 25, 26, 29, 31, 32, 35, 36, 38, 41, 44, 45, 47, 50, 52, 54, 57, 59, 62, 63, 66, 67], [0, 2, 5, 8, 9, 12, 15, 16, 19, 22, 25, 26, 29, 31, 32, 35, 36, 38, 41, 44, 45, 47, 50, 52, 54, 57, 59, 62, 63, 66, 68, 69, 70, 73, 76, 77, 78], [0, 2, 5, 8, 9, 12, 15, 16, 19, 22, 25, 26, 29, 31, 32, 35, 36, 38, 41, 44, 45, 47, 50, 52, 54, 57, 59, 62, 63, 66, 68, 69, 70, 73, 76, 77, 79], [0, 2, 5, 8, 9, 12, 15, 16, 19, 22, 25, 26, 29, 31, 32, 35, 36, 38, 41, 44, 45, 47, 50, 52, 54, 57, 59, 62, 63, 66, 68, 69, 70, 73, 76, 77, 80, 83, 86, 89, 90], [0, 2, 5, 8, 9, 12, 15, 16, 19, 22, 25, 26, 29, 31, 32, 35, 36, 38, 41, 44, 45, 47, 50, 52, 54, 57, 59, 62, 63, 66, 68, 69, 70, 73, 76, 77, 80, 83, 86, 89, 91, 94, 95, 96, 97, 98, 101, 104, 107, 108], [0, 2, 5, 8, 9, 12, 15, 16, 19, 22, 25, 26, 29, 31, 32, 35, 36, 38, 41, 44, 45, 47, 50, 52, 54, 57, 59, 62, 63, 66, 68, 69, 70, 73, 76, 77, 80, 83, 86, 89, 91, 94, 95, 96, 97, 98, 101, 104, 107, 109, 110, 113, 114], [0, 2, 5, 8, 9, 12, 15, 16, 19, 22, 25, 26, 29, 31, 32, 35, 36, 38, 41, 44, 45, 47, 50, 52, 54, 57, 59, 62, 63, 66, 68, 69, 70, 73, 76, 77, 80, 83, 86, 89, 91, 94, 95, 96, 97, 98, 101, 104, 107, 109, 110, 113, 115], [0, 2, 5, 8, 9, 12, 15, 16, 19, 22, 25, 26, 29, 31, 32, 35, 36, 38, 41, 44, 45, 47, 50, 52, 54, 57, 59, 62, 63, 66, 68, 69, 70, 73, 76, 77, 80, 83, 86, 89, 91, 94, 95, 96, 97, 98, 101, 104, 107, 109, 110, 113, 116, 119, 120, 123, 124], [0, 2, 5, 8, 9, 12, 15, 16, 19, 22, 25, 26, 29, 31, 32, 35, 36, 38, 41, 44, 45, 47, 50, 52, 54, 57, 59, 62, 63, 66, 68, 69, 70, 73, 76, 77, 80, 83, 86, 89, 91, 94, 95, 96, 97, 98, 101, 104, 107, 109, 110, 113, 116, 119, 120, 123, 125], [0, 2, 5, 8, 9, 12, 15, 16, 19, 22, 25, 26, 29, 31, 32, 35, 36, 38, 41, 44, 45, 47, 50, 52, 54, 57, 59, 62, 63, 66, 68, 69, 70, 73, 76, 77, 80, 83, 86, 89, 91, 94, 95, 96, 97, 98, 101, 104, 107, 109, 110, 113, 116, 119, 120, 123, 126, 127, 130, 131, 134, 137, 138], [0, 2, 5, 8, 9, 12, 15, 16, 19, 22, 25, 26, 29, 31, 32, 35, 36, 38, 41, 44, 45, 47, 50, 52, 54, 57, 59, 62, 63, 66, 68, 69, 70, 73, 76, 77, 80, 83, 86, 89, 91, 94, 95, 96, 97, 98, 101, 104, 107, 109, 110, 113, 116, 119, 120, 123, 126, 127, 130, 131, 134, 137, 139, 140, 143, 144], [0, 2, 5, 8, 9, 12, 15, 16, 19, 22, 25, 26, 29, 31, 32, 35, 36, 38, 41, 44, 45, 47, 50, 52, 54, 57, 59, 62, 63, 66, 68, 69, 70, 73, 76, 77, 80, 83, 86, 89, 91, 94, 95, 96, 97, 98, 101, 104, 107, 109, 110, 113, 116, 119, 120, 123, 126, 127, 130, 131, 134, 137, 139, 140, 143, 145, 148, 149], [0, 2, 5, 8, 9, 12, 15, 16, 19, 22, 25, 26, 29, 31, 32, 35, 36, 38, 41, 44, 45, 47, 50, 52, 54, 57, 59, 62, 63, 66, 68, 69, 70, 73, 76, 77, 80, 83, 86, 89, 91, 94, 95, 96, 97, 98, 101, 104, 107, 109, 110, 113, 116, 119, 120, 123, 126, 127, 130, 131, 134, 137, 139, 140, 143, 145, 148, 150]]\n"
     ]
    }
   ],
   "source": [
    "print(todo)"
   ]
  },
  {
   "cell_type": "code",
   "execution_count": 18,
   "metadata": {},
   "outputs": [
    {
     "name": "stdout",
     "output_type": "stream",
     "text": [
      "15208\n"
     ]
    }
   ],
   "source": [
    "paths = []\n",
    "for x in range(100000):\n",
    "    i = 0\n",
    "    p = []\n",
    "    v = np.where(np.logical_and(a - a[i] <= 3, a - a[i] > 0))[0]\n",
    "    while len(v) > 0:\n",
    "        p.append(a[i])\n",
    "        shuffle(v)\n",
    "        i = v[0]\n",
    "        v = np.where(np.logical_and(a - a[i] <= 3, a - a[i] > 0))[0]\n",
    "    if p not in paths:\n",
    "        paths.append(p)\n",
    "print(len(paths))\n",
    "    "
   ]
  },
  {
   "cell_type": "code",
   "execution_count": 121,
   "metadata": {},
   "outputs": [
    {
     "name": "stdout",
     "output_type": "stream",
     "text": [
      "[1]\n"
     ]
    }
   ],
   "source": [
    "print([] + [1])"
   ]
  },
  {
   "cell_type": "code",
   "execution_count": 136,
   "metadata": {},
   "outputs": [
    {
     "name": "stdout",
     "output_type": "stream",
     "text": [
      "12419\n"
     ]
    }
   ],
   "source": [
    "tot = 0\n",
    "level = [0]\n",
    "while len(level) > 0:\n",
    "    # print(level)\n",
    "    new_level = []\n",
    "    for i in level:\n",
    "        # print(a[np.where(np.logical_and(a - i <= 3, a - i > 0))[0]])\n",
    "        # print(new_level)\n",
    "        new_level += list(a[np.where(np.logical_and(a - i <= 3, a - i > 0))[0]])\n",
    "        # print(new_level)\n",
    "    level = new_level\n",
    "    tot = max(len(level), tot)\n",
    "print(tot)"
   ]
  },
  {
   "cell_type": "code",
   "execution_count": 113,
   "metadata": {},
   "outputs": [
    {
     "name": "stdout",
     "output_type": "stream",
     "text": [
      "0 1 [1]\n",
      "1 1 [4]\n",
      "4 3 [5 6 7]\n",
      "5 2 [6 7]\n",
      "6 1 [7]\n",
      "7 1 [10]\n",
      "10 2 [11 12]\n",
      "11 1 [12]\n",
      "12 1 [15]\n",
      "15 1 [16]\n",
      "16 1 [19]\n",
      "19 1 [22]\n"
     ]
    }
   ],
   "source": [
    "# paths = np.array([[0]])\n",
    "tot = 1\n",
    "branches = []\n",
    "for i in range(len(a)-1):\n",
    "    v = np.where(np.logical_and(a - a[i] <= 3, a - a[i] > 0))[0]\n",
    "    if len(v) > 1:\n",
    "        branches.append([a[i], len(a[v]), a[v]])\n",
    "    print(a[i], len(a[v]), a[v])\n",
    "\n",
    "# # print(branches)\n",
    "# bid = {x[0]:x[1] for x in branches}\n",
    "# last =[0, 0, []]\n",
    "# t = 1\n",
    "# for b in branches:\n",
    "#     print(t, b)\n",
    "#     if last[0] in b[2]:\n",
    "#         t *= b[1] - 1\n",
    "#     else:\n",
    "#         t *= b[1]\n",
    "#     # t = t * (b[1] - len(list(set(b[2]) & set(last[2])))+1)\n",
    "#     # if b[0] in last[2]:\n",
    "#     #     t = t * (last[1] - 1)\n",
    "#     # else:\n",
    "#     #     t = t * b[1]\n",
    "#     last = b\n",
    "# print(t)\n",
    "# print(branches)\n",
    "# bi = [x[0] for x in branches]\n",
    "# bid = {x[0]:x[1] for x in branches}\n",
    "# ba = {x[0]:x[2] for x in branches}\n",
    "# for b in branches:\n",
    "#     for b2 in branches:\n",
    "#        if b[0] in b2[2]:\n",
    "#            bid[b2[0]] -= 1\n",
    "#         #    bid[b2[0]] = 0\n",
    "# t = 1\n",
    "# for p in bid.values():\n",
    "#     t *= p\n",
    "# # print(prod(bid.values())) \n",
    "# print(bid)\n",
    "# print(t)\n",
    "\n"
   ]
  },
  {
   "cell_type": "code",
   "execution_count": 143,
   "metadata": {},
   "outputs": [
    {
     "name": "stdout",
     "output_type": "stream",
     "text": [
      "[[1 1 1 ... 1 1 0]\n",
      " [1 2 1 ... 1 1 0]\n",
      " [1 3 1 ... 1 1 0]\n",
      " ...\n",
      " [3 1 3 ... 3 3 0]\n",
      " [3 2 3 ... 3 3 0]\n",
      " [3 3 3 ... 3 3 0]]\n"
     ]
    }
   ],
   "source": [
    "diffs = np.array(np.meshgrid([1, 2, 3], [1,2,3], [1,2,3], [1,2,3], [1,2,3], [1,2,3], [0])).T.reshape(-1,7)\n",
    "print(diffs)"
   ]
  },
  {
   "cell_type": "code",
   "execution_count": 153,
   "metadata": {},
   "outputs": [
    {
     "name": "stdout",
     "output_type": "stream",
     "text": [
      "[[1, 2, 3], [1, 2, 3], [1, 2, 3], [1, 2, 3], [1, 2, 3], [1, 2, 3], [1, 2, 3], [1, 2, 3], [1, 2, 3], [1, 2, 3], [1, 2, 3], [1, 2, 3], [0]]\n",
      "[[1 1 1 ... 1 1 0]\n",
      " [1 2 1 ... 1 1 0]\n",
      " [1 3 1 ... 1 1 0]\n",
      " ...\n",
      " [3 1 3 ... 3 3 0]\n",
      " [3 2 3 ... 3 3 0]\n",
      " [3 3 3 ... 3 3 0]]\n"
     ]
    }
   ],
   "source": [
    "l = [[1,2,3]]*(len(a)-1) + [[0]]\n",
    "print(l)\n",
    "diffs = np.array(np.meshgrid(*l)).T.reshape(-1,len(a))\n",
    "print(diffs)"
   ]
  },
  {
   "cell_type": "code",
   "execution_count": 155,
   "metadata": {},
   "outputs": [
    {
     "ename": "AxisError",
     "evalue": "axis 1 is out of bounds for array of dimension 1",
     "output_type": "error",
     "traceback": [
      "\u001b[1;31m---------------------------------------------------------------------------\u001b[0m",
      "\u001b[1;31mAxisError\u001b[0m                                 Traceback (most recent call last)",
      "\u001b[1;32m<ipython-input-155-db4846763bc1>\u001b[0m in \u001b[0;36m<module>\u001b[1;34m\u001b[0m\n\u001b[0;32m      2\u001b[0m \u001b[1;32mfor\u001b[0m \u001b[0md\u001b[0m \u001b[1;32min\u001b[0m \u001b[0mdiffs\u001b[0m\u001b[1;33m:\u001b[0m\u001b[1;33m\u001b[0m\u001b[1;33m\u001b[0m\u001b[0m\n\u001b[0;32m      3\u001b[0m     \u001b[0mt\u001b[0m \u001b[1;33m=\u001b[0m \u001b[0ma\u001b[0m \u001b[1;33m+\u001b[0m \u001b[0md\u001b[0m\u001b[1;33m\u001b[0m\u001b[1;33m\u001b[0m\u001b[0m\n\u001b[1;32m----> 4\u001b[1;33m     \u001b[1;32mif\u001b[0m \u001b[1;33m(\u001b[0m\u001b[0ma\u001b[0m\u001b[1;33m[\u001b[0m\u001b[1;36m1\u001b[0m\u001b[1;33m:\u001b[0m\u001b[1;33m]\u001b[0m \u001b[1;33m==\u001b[0m \u001b[0mt\u001b[0m\u001b[1;33m[\u001b[0m\u001b[1;33m:\u001b[0m\u001b[1;33m-\u001b[0m\u001b[1;36m1\u001b[0m\u001b[1;33m]\u001b[0m\u001b[1;33m)\u001b[0m\u001b[1;33m.\u001b[0m\u001b[0mall\u001b[0m\u001b[1;33m(\u001b[0m\u001b[1;36m1\u001b[0m\u001b[1;33m)\u001b[0m\u001b[1;33m.\u001b[0m\u001b[0many\u001b[0m\u001b[1;33m(\u001b[0m\u001b[1;33m)\u001b[0m\u001b[1;33m:\u001b[0m\u001b[1;33m\u001b[0m\u001b[1;33m\u001b[0m\u001b[0m\n\u001b[0m\u001b[0;32m      5\u001b[0m         \u001b[0mc\u001b[0m \u001b[1;33m+=\u001b[0m \u001b[1;36m1\u001b[0m\u001b[1;33m\u001b[0m\u001b[1;33m\u001b[0m\u001b[0m\n\u001b[0;32m      6\u001b[0m \u001b[0mprint\u001b[0m\u001b[1;33m(\u001b[0m\u001b[0mc\u001b[0m\u001b[1;33m)\u001b[0m\u001b[1;33m\u001b[0m\u001b[1;33m\u001b[0m\u001b[0m\n",
      "\u001b[1;32m~\\AppData\\Local\\Programs\\Python\\Python38\\lib\\site-packages\\numpy\\core\\_methods.py\u001b[0m in \u001b[0;36m_all\u001b[1;34m(a, axis, dtype, out, keepdims, where)\u001b[0m\n\u001b[0;32m     61\u001b[0m     \u001b[1;31m# Parsing keyword arguments is currently fairly slow, so avoid it for now\u001b[0m\u001b[1;33m\u001b[0m\u001b[1;33m\u001b[0m\u001b[1;33m\u001b[0m\u001b[0m\n\u001b[0;32m     62\u001b[0m     \u001b[1;32mif\u001b[0m \u001b[0mwhere\u001b[0m \u001b[1;32mis\u001b[0m \u001b[1;32mTrue\u001b[0m\u001b[1;33m:\u001b[0m\u001b[1;33m\u001b[0m\u001b[1;33m\u001b[0m\u001b[0m\n\u001b[1;32m---> 63\u001b[1;33m         \u001b[1;32mreturn\u001b[0m \u001b[0mumr_all\u001b[0m\u001b[1;33m(\u001b[0m\u001b[0ma\u001b[0m\u001b[1;33m,\u001b[0m \u001b[0maxis\u001b[0m\u001b[1;33m,\u001b[0m \u001b[0mdtype\u001b[0m\u001b[1;33m,\u001b[0m \u001b[0mout\u001b[0m\u001b[1;33m,\u001b[0m \u001b[0mkeepdims\u001b[0m\u001b[1;33m)\u001b[0m\u001b[1;33m\u001b[0m\u001b[1;33m\u001b[0m\u001b[0m\n\u001b[0m\u001b[0;32m     64\u001b[0m     \u001b[1;32mreturn\u001b[0m \u001b[0mumr_all\u001b[0m\u001b[1;33m(\u001b[0m\u001b[0ma\u001b[0m\u001b[1;33m,\u001b[0m \u001b[0maxis\u001b[0m\u001b[1;33m,\u001b[0m \u001b[0mdtype\u001b[0m\u001b[1;33m,\u001b[0m \u001b[0mout\u001b[0m\u001b[1;33m,\u001b[0m \u001b[0mkeepdims\u001b[0m\u001b[1;33m,\u001b[0m \u001b[0mwhere\u001b[0m\u001b[1;33m=\u001b[0m\u001b[0mwhere\u001b[0m\u001b[1;33m)\u001b[0m\u001b[1;33m\u001b[0m\u001b[1;33m\u001b[0m\u001b[0m\n\u001b[0;32m     65\u001b[0m \u001b[1;33m\u001b[0m\u001b[0m\n",
      "\u001b[1;31mAxisError\u001b[0m: axis 1 is out of bounds for array of dimension 1"
     ]
    }
   ],
   "source": [
    "c = 0\n",
    "for d in diffs:\n",
    "    t = a + d\n",
    "    if np.where(np.in1d(t, a))[0]\n",
    "        c += 1\n",
    "print(c)"
   ]
  },
  {
   "cell_type": "code",
   "execution_count": 163,
   "metadata": {},
   "outputs": [
    {
     "name": "stdout",
     "output_type": "stream",
     "text": [
      "[ 0  1  4  5  6  7 10]\n",
      "[1, 3, 1, 1, 1, 3, 0]\n",
      "[ 1  4  5  6  7 10 10]\n",
      "[ 1  4  5  6  7 10]\n",
      "[ 1  4  5  6  7 10]\n",
      "True\n",
      "[0 1 2 3 4 5]\n"
     ]
    }
   ],
   "source": [
    "diffs = [1,3,1,1,1,3,0]\n",
    "# diffs = np.array([3] * (len(a) - 1) + [0])\n",
    "print(a)\n",
    "print(diffs)\n",
    "t = a + diffs\n",
    "print(t)\n",
    "print(a[1:])\n",
    "print(t[:-1])\n",
    "print((a[1:] == t[:-1]).all())\n",
    "print(np.where(np.in1d(t[:-1], a[1:]))[0])\n",
    "\n"
   ]
  },
  {
   "cell_type": "code",
   "execution_count": 89,
   "metadata": {},
   "outputs": [
    {
     "name": "stdout",
     "output_type": "stream",
     "text": [
      "[[0]]\n"
     ]
    }
   ],
   "source": [
    "paths = np.array([[0]])\n",
    "print(paths)"
   ]
  }
 ],
 "metadata": {
  "interpreter": {
   "hash": "cdaf2d1fb91b6efc72cdae7ea42388cc549ee76757dbf18f9f42bedf4e5cf391"
  },
  "kernelspec": {
   "display_name": "Python 3.8.5 64-bit",
   "language": "python",
   "name": "python3"
  },
  "language_info": {
   "codemirror_mode": {
    "name": "ipython",
    "version": 3
   },
   "file_extension": ".py",
   "mimetype": "text/x-python",
   "name": "python",
   "nbconvert_exporter": "python",
   "pygments_lexer": "ipython3",
   "version": "3.8.5"
  },
  "orig_nbformat": 4
 },
 "nbformat": 4,
 "nbformat_minor": 2
}
