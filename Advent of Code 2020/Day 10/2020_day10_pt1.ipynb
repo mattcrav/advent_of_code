{
 "cells": [
  {
   "cell_type": "code",
   "execution_count": 26,
   "metadata": {},
   "outputs": [],
   "source": [
    "import csv\n",
    "import numpy as np"
   ]
  },
  {
   "cell_type": "code",
   "execution_count": 27,
   "metadata": {},
   "outputs": [],
   "source": [
    "with open('2020_day10.csv', 'r') as f:\n",
    "    r = csv.reader(f)\n",
    "    s = [int(x[0]) for x in r]"
   ]
  },
  {
   "cell_type": "code",
   "execution_count": 28,
   "metadata": {},
   "outputs": [],
   "source": [
    "s = sorted(s)"
   ]
  },
  {
   "cell_type": "code",
   "execution_count": 29,
   "metadata": {},
   "outputs": [
    {
     "name": "stdout",
     "output_type": "stream",
     "text": [
      "[0, 1, 2, 5, 6, 7, 8, 9, 12, 13, 14, 15, 16, 19, 22, 23, 24, 25, 26, 29, 30, 31, 32, 35, 36, 37, 38, 41, 44, 45, 46, 47, 50, 51, 52, 53, 54, 57, 58, 59, 62, 63, 66, 67, 68, 69, 70, 73, 76, 77, 78, 79, 80, 83, 86, 89, 90, 91, 94, 95, 96, 97, 98, 101, 104, 107, 108, 109, 110, 113, 114, 115, 116, 119, 120, 123, 124, 125, 126, 127, 130, 131, 134, 137, 138, 139, 140, 143, 144, 145, 148, 149, 150, 151, 154]\n"
     ]
    }
   ],
   "source": [
    "a = [0] + s + [max(s) + 3]\n",
    "print(a)"
   ]
  },
  {
   "cell_type": "code",
   "execution_count": 30,
   "metadata": {},
   "outputs": [
    {
     "name": "stdout",
     "output_type": "stream",
     "text": [
      "{1: 64, 2: 0, 3: 30}\n"
     ]
    }
   ],
   "source": [
    "r = {1:0, 2:0, 3:0}\n",
    "for i in range(len(a)-1):\n",
    "    d = a[i+1] - a[i]\n",
    "    r[d] += 1\n",
    "print(r)"
   ]
  },
  {
   "cell_type": "code",
   "execution_count": 31,
   "metadata": {},
   "outputs": [
    {
     "name": "stdout",
     "output_type": "stream",
     "text": [
      "1920\n"
     ]
    }
   ],
   "source": [
    "print(r[1] * r[3])"
   ]
  }
 ],
 "metadata": {
  "interpreter": {
   "hash": "cdaf2d1fb91b6efc72cdae7ea42388cc549ee76757dbf18f9f42bedf4e5cf391"
  },
  "kernelspec": {
   "display_name": "Python 3.8.5 64-bit",
   "language": "python",
   "name": "python3"
  },
  "language_info": {
   "codemirror_mode": {
    "name": "ipython",
    "version": 3
   },
   "file_extension": ".py",
   "mimetype": "text/x-python",
   "name": "python",
   "nbconvert_exporter": "python",
   "pygments_lexer": "ipython3",
   "version": "3.8.5"
  },
  "orig_nbformat": 4
 },
 "nbformat": 4,
 "nbformat_minor": 2
}
