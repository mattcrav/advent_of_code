{
 "metadata": {
  "language_info": {
   "codemirror_mode": {
    "name": "ipython",
    "version": 3
   },
   "file_extension": ".py",
   "mimetype": "text/x-python",
   "name": "python",
   "nbconvert_exporter": "python",
   "pygments_lexer": "ipython3",
   "version": "3.8.5-final"
  },
  "orig_nbformat": 2,
  "kernelspec": {
   "name": "python3",
   "display_name": "Python 3.8.5 64-bit",
   "metadata": {
    "interpreter": {
     "hash": "cdaf2d1fb91b6efc72cdae7ea42388cc549ee76757dbf18f9f42bedf4e5cf391"
    }
   }
  }
 },
 "nbformat": 4,
 "nbformat_minor": 2,
 "cells": [
  {
   "cell_type": "code",
   "execution_count": 62,
   "metadata": {},
   "outputs": [],
   "source": [
    "import pandas as pd\n",
    "import numpy as np\n",
    "import math"
   ]
  },
  {
   "cell_type": "code",
   "execution_count": 63,
   "metadata": {},
   "outputs": [
    {
     "output_type": "stream",
     "name": "stdout",
     "text": [
      "[[0 0 0 ... 1 1 0]\n [0 1 0 ... 1 0 1]\n [0 0 0 ... 0 0 0]\n ...\n [0 0 1 ... 0 0 1]\n [0 0 0 ... 0 0 0]\n [0 1 0 ... 0 1 0]]\n"
     ]
    }
   ],
   "source": [
    "data = pd.read_csv('2020_day3.csv', header=None, names=['row'])\n",
    "data = data.apply(lambda x: [y for y in x.row], result_type='expand', axis=1)\n",
    "data = data.replace('.', 0)\n",
    "data = data.replace('#', 1)\n",
    "data = data.to_numpy()\n",
    "print(data)"
   ]
  },
  {
   "cell_type": "code",
   "execution_count": 64,
   "metadata": {},
   "outputs": [
    {
     "output_type": "stream",
     "name": "stdout",
     "text": [
      "32\n"
     ]
    }
   ],
   "source": [
    "width = data.shape[0] * 3 + 1\n",
    "repeat = math.ceil(width / data.shape[1])\n",
    "tiled = np.tile(data, (1, repeat))\n",
    "print(repeat)"
   ]
  },
  {
   "cell_type": "code",
   "execution_count": 65,
   "metadata": {},
   "outputs": [],
   "source": [
    "tree_cnt = 0\n",
    "x = 3\n",
    "for i in range(1, tiled.shape[0]):\n",
    "    # print(tiled[i][x])\n",
    "    tree_cnt += tiled[i][x]\n",
    "    x += 3"
   ]
  },
  {
   "cell_type": "code",
   "execution_count": 66,
   "metadata": {},
   "outputs": [
    {
     "output_type": "stream",
     "name": "stdout",
     "text": [
      "167\n"
     ]
    }
   ],
   "source": [
    "print(tree_cnt)"
   ]
  },
  {
   "cell_type": "code",
   "execution_count": null,
   "metadata": {},
   "outputs": [],
   "source": []
  }
 ]
}