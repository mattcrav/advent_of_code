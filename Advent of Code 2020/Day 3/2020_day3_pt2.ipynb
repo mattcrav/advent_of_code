{
 "metadata": {
  "language_info": {
   "codemirror_mode": {
    "name": "ipython",
    "version": 3
   },
   "file_extension": ".py",
   "mimetype": "text/x-python",
   "name": "python",
   "nbconvert_exporter": "python",
   "pygments_lexer": "ipython3",
   "version": "3.8.5-final"
  },
  "orig_nbformat": 2,
  "kernelspec": {
   "name": "python3",
   "display_name": "Python 3.8.5 64-bit",
   "metadata": {
    "interpreter": {
     "hash": "cdaf2d1fb91b6efc72cdae7ea42388cc549ee76757dbf18f9f42bedf4e5cf391"
    }
   }
  }
 },
 "nbformat": 4,
 "nbformat_minor": 2,
 "cells": [
  {
   "cell_type": "code",
   "execution_count": 16,
   "metadata": {},
   "outputs": [],
   "source": [
    "import pandas as pd\n",
    "import numpy as np\n",
    "import math"
   ]
  },
  {
   "cell_type": "code",
   "execution_count": 17,
   "metadata": {},
   "outputs": [
    {
     "output_type": "stream",
     "name": "stdout",
     "text": [
      "[[0 0 0 ... 1 1 0]\n [0 1 0 ... 1 0 1]\n [0 0 0 ... 0 0 0]\n ...\n [0 0 1 ... 0 0 1]\n [0 0 0 ... 0 0 0]\n [0 1 0 ... 0 1 0]]\n(323, 31)\n"
     ]
    }
   ],
   "source": [
    "data = pd.read_csv('2020_day3.csv', header=None, names=['row'])\n",
    "data = data.apply(lambda x: [y for y in x.row], result_type='expand', axis=1)\n",
    "data = data.replace('.', 0)\n",
    "data = data.replace('#', 1)\n",
    "data = data.to_numpy()\n",
    "print(data)\n",
    "print(data.shape)"
   ]
  },
  {
   "cell_type": "code",
   "execution_count": 18,
   "metadata": {},
   "outputs": [
    {
     "output_type": "stream",
     "name": "stdout",
     "text": [
      "73\n"
     ]
    }
   ],
   "source": [
    "width = data.shape[0] * 7 + 1\n",
    "repeat = math.ceil(width / data.shape[1])\n",
    "tiled = np.tile(data, (1, repeat))\n",
    "print(repeat)"
   ]
  },
  {
   "cell_type": "code",
   "execution_count": 19,
   "metadata": {},
   "outputs": [],
   "source": [
    "def get_trees(right, down):\n",
    "    tree_cnt = 0\n",
    "    x = right\n",
    "    for i in range(down, tiled.shape[0], down):\n",
    "        # print(tiled[i][x])\n",
    "        tree_cnt += tiled[i][x]\n",
    "        x += right\n",
    "    return tree_cnt"
   ]
  },
  {
   "cell_type": "code",
   "execution_count": 20,
   "metadata": {},
   "outputs": [
    {
     "output_type": "stream",
     "name": "stdout",
     "text": [
      "53\n167\n54\n67\n23\n"
     ]
    }
   ],
   "source": [
    "print(get_trees(1, 1))\n",
    "print(get_trees(3, 1))\n",
    "print(get_trees(5, 1))\n",
    "print(get_trees(7, 1))\n",
    "print(get_trees(1, 2))"
   ]
  },
  {
   "cell_type": "code",
   "execution_count": 21,
   "metadata": {},
   "outputs": [
    {
     "output_type": "execute_result",
     "data": {
      "text/plain": [
       "736527114"
      ]
     },
     "metadata": {},
     "execution_count": 21
    }
   ],
   "source": [
    "get_trees(1, 1) * get_trees(3, 1) * get_trees(5, 1) * get_trees(7, 1) * get_trees(1, 2)"
   ]
  }
 ]
}