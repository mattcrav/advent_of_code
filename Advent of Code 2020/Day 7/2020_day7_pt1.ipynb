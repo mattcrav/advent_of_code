{
 "metadata": {
  "language_info": {
   "codemirror_mode": {
    "name": "ipython",
    "version": 3
   },
   "file_extension": ".py",
   "mimetype": "text/x-python",
   "name": "python",
   "nbconvert_exporter": "python",
   "pygments_lexer": "ipython3",
   "version": "3.8.5-final"
  },
  "orig_nbformat": 2,
  "kernelspec": {
   "name": "python3",
   "display_name": "Python 3.8.5 64-bit",
   "metadata": {
    "interpreter": {
     "hash": "cdaf2d1fb91b6efc72cdae7ea42388cc549ee76757dbf18f9f42bedf4e5cf391"
    }
   }
  }
 },
 "nbformat": 4,
 "nbformat_minor": 2,
 "cells": [
  {
   "cell_type": "code",
   "execution_count": 88,
   "metadata": {},
   "outputs": [],
   "source": [
    "import pandas as pd"
   ]
  },
  {
   "cell_type": "code",
   "execution_count": 89,
   "metadata": {},
   "outputs": [
    {
     "output_type": "execute_result",
     "data": {
      "text/plain": [
       "                                                rule\n",
       "0  plaid fuchsia bags contain 5 light violet bags...\n",
       "1     striped aqua bags contain 2 striped teal bags.\n",
       "2  clear coral bags contain 2 plaid green bags, 5...\n",
       "3  dull tan bags contain 4 faded blue bags, 3 fad...\n",
       "4       plaid green bags contain 3 faded green bags."
      ],
      "text/html": "<div>\n<style scoped>\n    .dataframe tbody tr th:only-of-type {\n        vertical-align: middle;\n    }\n\n    .dataframe tbody tr th {\n        vertical-align: top;\n    }\n\n    .dataframe thead th {\n        text-align: right;\n    }\n</style>\n<table border=\"1\" class=\"dataframe\">\n  <thead>\n    <tr style=\"text-align: right;\">\n      <th></th>\n      <th>rule</th>\n    </tr>\n  </thead>\n  <tbody>\n    <tr>\n      <th>0</th>\n      <td>plaid fuchsia bags contain 5 light violet bags...</td>\n    </tr>\n    <tr>\n      <th>1</th>\n      <td>striped aqua bags contain 2 striped teal bags.</td>\n    </tr>\n    <tr>\n      <th>2</th>\n      <td>clear coral bags contain 2 plaid green bags, 5...</td>\n    </tr>\n    <tr>\n      <th>3</th>\n      <td>dull tan bags contain 4 faded blue bags, 3 fad...</td>\n    </tr>\n    <tr>\n      <th>4</th>\n      <td>plaid green bags contain 3 faded green bags.</td>\n    </tr>\n  </tbody>\n</table>\n</div>"
     },
     "metadata": {},
     "execution_count": 89
    }
   ],
   "source": [
    "df = pd.read_csv('2020_day7.csv', header=None, names=['rule'], delimiter='\\n')\n",
    "df.head()"
   ]
  },
  {
   "cell_type": "code",
   "execution_count": 90,
   "metadata": {},
   "outputs": [],
   "source": [
    "def get_bag(rule):\n",
    "    return rule.split(' bags contain')[0]\n",
    "\n",
    "def get_contain(rule):\n",
    "    s = rule.split(' bags contain ')[1]\n",
    "    s = s.replace(' bags', '').replace('.','').replace(' bag','')\n",
    "    # bags = []\n",
    "    # for b in s.split(','):\n",
    "    #     bags.append(b[2:])\n",
    "    # return bags\n",
    "    return s\n"
   ]
  },
  {
   "cell_type": "code",
   "execution_count": 91,
   "metadata": {},
   "outputs": [
    {
     "output_type": "execute_result",
     "data": {
      "text/plain": [
       "                                                rule            bag  \\\n",
       "0  plaid fuchsia bags contain 5 light violet bags...  plaid fuchsia   \n",
       "1     striped aqua bags contain 2 striped teal bags.   striped aqua   \n",
       "2  clear coral bags contain 2 plaid green bags, 5...    clear coral   \n",
       "3  dull tan bags contain 4 faded blue bags, 3 fad...       dull tan   \n",
       "4       plaid green bags contain 3 faded green bags.    plaid green   \n",
       "5  light tomato bags contain 1 drab chartreuse ba...   light tomato   \n",
       "6  dim tomato bags contain 4 striped gold bags, 5...     dim tomato   \n",
       "7      vibrant green bags contain 4 faded teal bags.  vibrant green   \n",
       "8      shiny crimson bags contain 2 dull green bags.  shiny crimson   \n",
       "9  vibrant black bags contain 5 dark beige bags, ...  vibrant black   \n",
       "\n",
       "                                             contain  \n",
       "0                     5 light violet, 1 light yellow  \n",
       "1                                     2 striped teal  \n",
       "2                     2 plaid green, 5 mirrored gold  \n",
       "3         4 faded blue, 3 faded olive, 5 dull salmon  \n",
       "4                                      3 faded green  \n",
       "5  1 drab chartreuse, 1 dotted tomato, 3 striped ...  \n",
       "6  4 striped gold, 5 bright lavender, 1 pale beig...  \n",
       "7                                       4 faded teal  \n",
       "8                                       2 dull green  \n",
       "9                        5 dark beige, 3 dark bronze  "
      ],
      "text/html": "<div>\n<style scoped>\n    .dataframe tbody tr th:only-of-type {\n        vertical-align: middle;\n    }\n\n    .dataframe tbody tr th {\n        vertical-align: top;\n    }\n\n    .dataframe thead th {\n        text-align: right;\n    }\n</style>\n<table border=\"1\" class=\"dataframe\">\n  <thead>\n    <tr style=\"text-align: right;\">\n      <th></th>\n      <th>rule</th>\n      <th>bag</th>\n      <th>contain</th>\n    </tr>\n  </thead>\n  <tbody>\n    <tr>\n      <th>0</th>\n      <td>plaid fuchsia bags contain 5 light violet bags...</td>\n      <td>plaid fuchsia</td>\n      <td>5 light violet, 1 light yellow</td>\n    </tr>\n    <tr>\n      <th>1</th>\n      <td>striped aqua bags contain 2 striped teal bags.</td>\n      <td>striped aqua</td>\n      <td>2 striped teal</td>\n    </tr>\n    <tr>\n      <th>2</th>\n      <td>clear coral bags contain 2 plaid green bags, 5...</td>\n      <td>clear coral</td>\n      <td>2 plaid green, 5 mirrored gold</td>\n    </tr>\n    <tr>\n      <th>3</th>\n      <td>dull tan bags contain 4 faded blue bags, 3 fad...</td>\n      <td>dull tan</td>\n      <td>4 faded blue, 3 faded olive, 5 dull salmon</td>\n    </tr>\n    <tr>\n      <th>4</th>\n      <td>plaid green bags contain 3 faded green bags.</td>\n      <td>plaid green</td>\n      <td>3 faded green</td>\n    </tr>\n    <tr>\n      <th>5</th>\n      <td>light tomato bags contain 1 drab chartreuse ba...</td>\n      <td>light tomato</td>\n      <td>1 drab chartreuse, 1 dotted tomato, 3 striped ...</td>\n    </tr>\n    <tr>\n      <th>6</th>\n      <td>dim tomato bags contain 4 striped gold bags, 5...</td>\n      <td>dim tomato</td>\n      <td>4 striped gold, 5 bright lavender, 1 pale beig...</td>\n    </tr>\n    <tr>\n      <th>7</th>\n      <td>vibrant green bags contain 4 faded teal bags.</td>\n      <td>vibrant green</td>\n      <td>4 faded teal</td>\n    </tr>\n    <tr>\n      <th>8</th>\n      <td>shiny crimson bags contain 2 dull green bags.</td>\n      <td>shiny crimson</td>\n      <td>2 dull green</td>\n    </tr>\n    <tr>\n      <th>9</th>\n      <td>vibrant black bags contain 5 dark beige bags, ...</td>\n      <td>vibrant black</td>\n      <td>5 dark beige, 3 dark bronze</td>\n    </tr>\n  </tbody>\n</table>\n</div>"
     },
     "metadata": {},
     "execution_count": 91
    }
   ],
   "source": [
    "df['bag'] = df['rule'].apply(get_bag)\n",
    "df['contain'] = df['rule'].apply(get_contain)\n",
    "df.head(10)"
   ]
  },
  {
   "cell_type": "code",
   "execution_count": 92,
   "metadata": {},
   "outputs": [],
   "source": [
    "# outer = []\n",
    "# bags = df['bag'].to_numpy()\n",
    "# containers = df['contain'].to_numpy()\n",
    "# for b in bags:\n",
    "#     o = True\n",
    "#     for c in containers:\n",
    "#         for d in c:\n",
    "#             if b in d:\n",
    "#                 o = False\n",
    "#     if o:\n",
    "#         outer.append(b)\n",
    "# print(outer)"
   ]
  },
  {
   "cell_type": "code",
   "execution_count": 93,
   "metadata": {},
   "outputs": [
    {
     "output_type": "stream",
     "name": "stdout",
     "text": [
      "['light fuchsia' 'posh bronze' 'drab lime' 'shiny lime' 'clear chartreuse'\n 'bright yellow' 'dim silver' 'plaid white']\nlight fuchsia\nposh bronze\ndrab lime\nshiny lime\nclear chartreuse\nbright yellow\ndim silver\nplaid white\n"
     ]
    }
   ],
   "source": [
    "print(df.loc[df['contain'].str.contains('shiny gold')]['bag'].to_numpy())\n",
    "for b in df.loc[df['contain'].str.contains('shiny gold')]['bag'].to_numpy():\n",
    "    print(b)"
   ]
  },
  {
   "cell_type": "code",
   "execution_count": 94,
   "metadata": {
    "tags": []
   },
   "outputs": [
    {
     "output_type": "stream",
     "name": "stdout",
     "text": [
      "205\n{'bright silver', 'shiny coral', 'dull bronze', 'clear tomato', 'dotted black', 'bright cyan', 'clear salmon', 'dim turquoise', 'faded indigo', 'vibrant black', 'bright gold', 'clear black', 'bright black', 'mirrored bronze', 'dark salmon', 'dotted aqua', 'light blue', 'bright green', 'muted yellow', 'dull turquoise', 'shiny tomato', 'striped purple', 'posh indigo', 'wavy teal', 'faded tomato', 'dim aqua', 'mirrored salmon', 'pale olive', 'wavy magenta', 'posh black', 'dark bronze', 'dull coral', 'shiny fuchsia', 'muted violet', 'plaid violet', 'vibrant gold', 'light fuchsia', 'dotted chartreuse', 'bright olive', 'muted white', 'posh lime', 'shiny lime', 'muted lime', 'posh green', 'clear gold', 'dim silver', 'bright gray', 'vibrant lime', 'drab brown', 'faded crimson', 'vibrant red', 'drab maroon', 'light cyan', 'muted salmon', 'wavy tomato', 'drab coral', 'pale turquoise', 'pale teal', 'shiny turquoise', 'dull silver', 'shiny bronze', 'dull fuchsia', 'striped gray', 'shiny white', 'plaid white', 'bright white', 'mirrored coral', 'pale tomato', 'dim purple', 'posh tomato', 'plaid brown', 'pale indigo', 'dark purple', 'bright indigo', 'mirrored red', 'plaid red', 'drab aqua', 'pale violet', 'dark crimson', 'posh cyan', 'dull red', 'drab yellow', 'mirrored cyan', 'dull tomato', 'faded turquoise', 'dark violet', 'vibrant blue', 'muted coral', 'clear cyan', 'drab indigo', 'pale plum', 'plaid teal', 'shiny purple', 'bright teal', 'light coral', 'mirrored brown', 'clear beige', 'posh white', 'muted blue', 'pale yellow', 'wavy gray', 'posh brown', 'bright tomato', 'light red', 'bright plum', 'clear tan', 'drab lime', 'faded orange', 'posh blue', 'plaid chartreuse', 'plaid lavender', 'dim lavender', 'shiny aqua', 'posh beige', 'mirrored lavender', 'mirrored gray', 'drab gold', 'dim white', 'clear green', 'clear purple', 'shiny magenta', 'vibrant indigo', 'faded aqua', 'drab red', 'pale black', 'dark white', 'plaid tomato', 'shiny green', 'drab tomato', 'dark green', 'dim indigo', 'striped maroon', 'plaid yellow', 'muted turquoise', 'clear aqua', 'pale lime', 'dark beige', 'dotted coral', 'faded purple', 'light green', 'shiny salmon', 'bright violet', 'vibrant brown', 'striped fuchsia', 'shiny brown', 'faded cyan', 'faded lavender', 'clear chartreuse', 'clear lime', 'bright yellow', 'dim coral', 'bright turquoise', 'plaid coral', 'bright orange', 'plaid silver', 'dim gray', 'mirrored violet', 'dull violet', 'dotted violet', 'posh violet', 'dark lime', 'shiny black', 'striped turquoise', 'muted lavender', 'striped green', 'posh gold', 'bright crimson', 'posh salmon', 'vibrant maroon', 'plaid purple', 'pale silver', 'dull chartreuse', 'muted orange', 'muted fuchsia', 'dotted green', 'drab turquoise', 'dull lavender', 'dark lavender', 'drab green', 'drab teal', 'bright coral', 'wavy tan', 'wavy yellow', 'dim maroon', 'posh bronze', 'faded plum', 'plaid plum', 'muted red', 'muted gray', 'faded coral', 'mirrored tan', 'dotted blue', 'dim olive', 'posh gray', 'mirrored white', 'posh turquoise', 'striped plum', 'muted tomato', 'plaid beige', 'wavy indigo', 'muted plum', 'wavy plum', 'mirrored chartreuse', 'drab beige', 'bright blue'}\n"
     ]
    }
   ],
   "source": [
    "possible = []\n",
    "bags_to_check = []\n",
    "for b in df.loc[df['contain'].str.contains('shiny gold')]['bag'].to_numpy():\n",
    "    bags_to_check.append(b)\n",
    "while len(bags_to_check) > 0:\n",
    "    b = bags_to_check.pop()\n",
    "    possible.append(b)\n",
    "    nxt = df.loc[df['contain'].str.contains(b)]['bag'].to_numpy()\n",
    "    if len(nxt) == 0:\n",
    "        continue\n",
    "    else:\n",
    "        for n in nxt:\n",
    "            bags_to_check.append(n)\n",
    "print(len(set(possible)))\n",
    "print(set(possible))"
   ]
  },
  {
   "cell_type": "code",
   "execution_count": null,
   "metadata": {},
   "outputs": [],
   "source": []
  }
 ]
}