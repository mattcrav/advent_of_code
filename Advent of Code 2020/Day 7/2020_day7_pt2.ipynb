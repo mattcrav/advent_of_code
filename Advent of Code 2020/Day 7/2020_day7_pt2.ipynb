{
 "metadata": {
  "language_info": {
   "name": "python",
   "version": "3.8.5",
   "mimetype": "text/x-python",
   "codemirror_mode": {
    "name": "ipython",
    "version": 3
   },
   "pygments_lexer": "ipython3",
   "nbconvert_exporter": "python",
   "file_extension": ".py"
  },
  "orig_nbformat": 2,
  "kernelspec": {
   "name": "python3",
   "display_name": "Python 3.8.5 64-bit"
  },
  "interpreter": {
   "hash": "cdaf2d1fb91b6efc72cdae7ea42388cc549ee76757dbf18f9f42bedf4e5cf391"
  }
 },
 "nbformat": 4,
 "nbformat_minor": 2,
 "cells": [
  {
   "cell_type": "code",
   "execution_count": 1,
   "source": [
    "import pandas as pd"
   ],
   "outputs": [],
   "metadata": {}
  },
  {
   "cell_type": "code",
   "execution_count": 23,
   "source": [
    "df = pd.read_csv('2020_day7.csv', header=None, names=['rule'], delimiter='\\n')\r\n",
    "df.head()"
   ],
   "outputs": [
    {
     "output_type": "execute_result",
     "data": {
      "text/html": [
       "<div>\n",
       "<style scoped>\n",
       "    .dataframe tbody tr th:only-of-type {\n",
       "        vertical-align: middle;\n",
       "    }\n",
       "\n",
       "    .dataframe tbody tr th {\n",
       "        vertical-align: top;\n",
       "    }\n",
       "\n",
       "    .dataframe thead th {\n",
       "        text-align: right;\n",
       "    }\n",
       "</style>\n",
       "<table border=\"1\" class=\"dataframe\">\n",
       "  <thead>\n",
       "    <tr style=\"text-align: right;\">\n",
       "      <th></th>\n",
       "      <th>rule</th>\n",
       "    </tr>\n",
       "  </thead>\n",
       "  <tbody>\n",
       "    <tr>\n",
       "      <th>0</th>\n",
       "      <td>plaid fuchsia bags contain 5 light violet bags...</td>\n",
       "    </tr>\n",
       "    <tr>\n",
       "      <th>1</th>\n",
       "      <td>striped aqua bags contain 2 striped teal bags.</td>\n",
       "    </tr>\n",
       "    <tr>\n",
       "      <th>2</th>\n",
       "      <td>clear coral bags contain 2 plaid green bags, 5...</td>\n",
       "    </tr>\n",
       "    <tr>\n",
       "      <th>3</th>\n",
       "      <td>dull tan bags contain 4 faded blue bags, 3 fad...</td>\n",
       "    </tr>\n",
       "    <tr>\n",
       "      <th>4</th>\n",
       "      <td>plaid green bags contain 3 faded green bags.</td>\n",
       "    </tr>\n",
       "  </tbody>\n",
       "</table>\n",
       "</div>"
      ],
      "text/plain": [
       "                                                rule\n",
       "0  plaid fuchsia bags contain 5 light violet bags...\n",
       "1     striped aqua bags contain 2 striped teal bags.\n",
       "2  clear coral bags contain 2 plaid green bags, 5...\n",
       "3  dull tan bags contain 4 faded blue bags, 3 fad...\n",
       "4       plaid green bags contain 3 faded green bags."
      ]
     },
     "metadata": {},
     "execution_count": 23
    }
   ],
   "metadata": {}
  },
  {
   "cell_type": "code",
   "execution_count": 24,
   "source": [
    "def get_bag(rule):\r\n",
    "    return rule.split(' bags contain')[0]\r\n",
    "\r\n",
    "def get_contain(rule):\r\n",
    "    s = rule.split(' bags contain ')[1]\r\n",
    "    s = s.replace(' bags', '').replace('.','').replace(' bag','')\r\n",
    "    if s == 'no other':\r\n",
    "        return {}\r\n",
    "    bags = {}\r\n",
    "    for b in s.split(', '):\r\n",
    "        b2 = b.split(' ')\r\n",
    "        bags[' '.join(b2[1:])] = int(b2[0])\r\n",
    "    return bags\r\n",
    "    return s\r\n"
   ],
   "outputs": [],
   "metadata": {}
  },
  {
   "cell_type": "code",
   "execution_count": 25,
   "source": [
    "df['bag'] = df['rule'].apply(get_bag)\r\n",
    "df['contain'] = df['rule'].apply(get_contain)\r\n",
    "df.head(10)"
   ],
   "outputs": [
    {
     "output_type": "execute_result",
     "data": {
      "text/html": [
       "<div>\n",
       "<style scoped>\n",
       "    .dataframe tbody tr th:only-of-type {\n",
       "        vertical-align: middle;\n",
       "    }\n",
       "\n",
       "    .dataframe tbody tr th {\n",
       "        vertical-align: top;\n",
       "    }\n",
       "\n",
       "    .dataframe thead th {\n",
       "        text-align: right;\n",
       "    }\n",
       "</style>\n",
       "<table border=\"1\" class=\"dataframe\">\n",
       "  <thead>\n",
       "    <tr style=\"text-align: right;\">\n",
       "      <th></th>\n",
       "      <th>rule</th>\n",
       "      <th>bag</th>\n",
       "      <th>contain</th>\n",
       "    </tr>\n",
       "  </thead>\n",
       "  <tbody>\n",
       "    <tr>\n",
       "      <th>0</th>\n",
       "      <td>plaid fuchsia bags contain 5 light violet bags...</td>\n",
       "      <td>plaid fuchsia</td>\n",
       "      <td>{'light violet': 5, 'light yellow': 1}</td>\n",
       "    </tr>\n",
       "    <tr>\n",
       "      <th>1</th>\n",
       "      <td>striped aqua bags contain 2 striped teal bags.</td>\n",
       "      <td>striped aqua</td>\n",
       "      <td>{'striped teal': 2}</td>\n",
       "    </tr>\n",
       "    <tr>\n",
       "      <th>2</th>\n",
       "      <td>clear coral bags contain 2 plaid green bags, 5...</td>\n",
       "      <td>clear coral</td>\n",
       "      <td>{'plaid green': 2, 'mirrored gold': 5}</td>\n",
       "    </tr>\n",
       "    <tr>\n",
       "      <th>3</th>\n",
       "      <td>dull tan bags contain 4 faded blue bags, 3 fad...</td>\n",
       "      <td>dull tan</td>\n",
       "      <td>{'faded blue': 4, 'faded olive': 3, 'dull salm...</td>\n",
       "    </tr>\n",
       "    <tr>\n",
       "      <th>4</th>\n",
       "      <td>plaid green bags contain 3 faded green bags.</td>\n",
       "      <td>plaid green</td>\n",
       "      <td>{'faded green': 3}</td>\n",
       "    </tr>\n",
       "    <tr>\n",
       "      <th>5</th>\n",
       "      <td>light tomato bags contain 1 drab chartreuse ba...</td>\n",
       "      <td>light tomato</td>\n",
       "      <td>{'drab chartreuse': 1, 'dotted tomato': 1, 'st...</td>\n",
       "    </tr>\n",
       "    <tr>\n",
       "      <th>6</th>\n",
       "      <td>dim tomato bags contain 4 striped gold bags, 5...</td>\n",
       "      <td>dim tomato</td>\n",
       "      <td>{'striped gold': 4, 'bright lavender': 5, 'pal...</td>\n",
       "    </tr>\n",
       "    <tr>\n",
       "      <th>7</th>\n",
       "      <td>vibrant green bags contain 4 faded teal bags.</td>\n",
       "      <td>vibrant green</td>\n",
       "      <td>{'faded teal': 4}</td>\n",
       "    </tr>\n",
       "    <tr>\n",
       "      <th>8</th>\n",
       "      <td>shiny crimson bags contain 2 dull green bags.</td>\n",
       "      <td>shiny crimson</td>\n",
       "      <td>{'dull green': 2}</td>\n",
       "    </tr>\n",
       "    <tr>\n",
       "      <th>9</th>\n",
       "      <td>vibrant black bags contain 5 dark beige bags, ...</td>\n",
       "      <td>vibrant black</td>\n",
       "      <td>{'dark beige': 5, 'dark bronze': 3}</td>\n",
       "    </tr>\n",
       "  </tbody>\n",
       "</table>\n",
       "</div>"
      ],
      "text/plain": [
       "                                                rule            bag  \\\n",
       "0  plaid fuchsia bags contain 5 light violet bags...  plaid fuchsia   \n",
       "1     striped aqua bags contain 2 striped teal bags.   striped aqua   \n",
       "2  clear coral bags contain 2 plaid green bags, 5...    clear coral   \n",
       "3  dull tan bags contain 4 faded blue bags, 3 fad...       dull tan   \n",
       "4       plaid green bags contain 3 faded green bags.    plaid green   \n",
       "5  light tomato bags contain 1 drab chartreuse ba...   light tomato   \n",
       "6  dim tomato bags contain 4 striped gold bags, 5...     dim tomato   \n",
       "7      vibrant green bags contain 4 faded teal bags.  vibrant green   \n",
       "8      shiny crimson bags contain 2 dull green bags.  shiny crimson   \n",
       "9  vibrant black bags contain 5 dark beige bags, ...  vibrant black   \n",
       "\n",
       "                                             contain  \n",
       "0             {'light violet': 5, 'light yellow': 1}  \n",
       "1                                {'striped teal': 2}  \n",
       "2             {'plaid green': 2, 'mirrored gold': 5}  \n",
       "3  {'faded blue': 4, 'faded olive': 3, 'dull salm...  \n",
       "4                                 {'faded green': 3}  \n",
       "5  {'drab chartreuse': 1, 'dotted tomato': 1, 'st...  \n",
       "6  {'striped gold': 4, 'bright lavender': 5, 'pal...  \n",
       "7                                  {'faded teal': 4}  \n",
       "8                                  {'dull green': 2}  \n",
       "9                {'dark beige': 5, 'dark bronze': 3}  "
      ]
     },
     "metadata": {},
     "execution_count": 25
    }
   ],
   "metadata": {}
  },
  {
   "cell_type": "code",
   "execution_count": 26,
   "source": [
    "next_bags = ['shiny gold']\r\n",
    "tot = 0\r\n",
    "while len(next_bags) > 0:  \r\n",
    "    n = next_bags.pop()\r\n",
    "    bags = df.loc[df['bag'] == n]['contain'].iloc[0]\r\n",
    "    for b in bags:\r\n",
    "        next_bags += [b] * bags[b]\r\n",
    "    tot += sum(bags.values()) \r\n",
    "print(tot)"
   ],
   "outputs": [
    {
     "output_type": "stream",
     "name": "stdout",
     "text": [
      "80902\n"
     ]
    }
   ],
   "metadata": {}
  }
 ]
}