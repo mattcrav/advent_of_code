{
 "cells": [
  {
   "cell_type": "code",
   "execution_count": 6,
   "metadata": {},
   "outputs": [],
   "source": [
    "# with open('2022_day9_sample.csv') as f:\n",
    "with open('2022_day9.csv') as f:\n",
    "    act = f.readlines()\n",
    "# print(act)"
   ]
  },
  {
   "cell_type": "code",
   "execution_count": 7,
   "metadata": {},
   "outputs": [],
   "source": [
    "h = [0, 0]\n",
    "last_h = [0, 0]\n",
    "t = [0, 0]\n",
    "visited = ['0,0']\n",
    "\n",
    "for a in act:\n",
    "    dir, num = a.split(' ')\n",
    "    dir = dir.replace('\\n','')\n",
    "    for n in range(int(num)):\n",
    "        if dir == 'R':\n",
    "            h[1] += 1\n",
    "        if dir == 'U':\n",
    "            h[0] += 1\n",
    "        if dir == 'L':\n",
    "            h[1] -= 1\n",
    "        if dir == 'D':\n",
    "            h[0] -= 1\n",
    "        too_far = max(abs(h[0] - t[0]), abs(h[1] - t[1])) >= 2\n",
    "        if too_far:\n",
    "            t[0], t[1] = last_h[0], last_h[1]\n",
    "            visited.append(','.join([str(x) for x in t]))\n",
    "        last_h[0], last_h[1] = h[0], h[1]\n"
   ]
  },
  {
   "cell_type": "code",
   "execution_count": 8,
   "metadata": {},
   "outputs": [
    {
     "name": "stdout",
     "output_type": "stream",
     "text": [
      "6464\n"
     ]
    }
   ],
   "source": [
    "# print(h)\n",
    "# print(t)\n",
    "# print(set(visited))\n",
    "print(len(set(visited)))"
   ]
  }
 ],
 "metadata": {
  "kernelspec": {
   "display_name": "Python 3",
   "language": "python",
   "name": "python3"
  },
  "language_info": {
   "codemirror_mode": {
    "name": "ipython",
    "version": 3
   },
   "file_extension": ".py",
   "mimetype": "text/x-python",
   "name": "python",
   "nbconvert_exporter": "python",
   "pygments_lexer": "ipython3",
   "version": "3.8.5 (tags/v3.8.5:580fbb0, Jul 20 2020, 15:57:54) [MSC v.1924 64 bit (AMD64)]"
  },
  "orig_nbformat": 4,
  "vscode": {
   "interpreter": {
    "hash": "e949ccd788bb9c3a352ca3b519f08a10b81435dced42a385a6f33eb27afa8742"
   }
  }
 },
 "nbformat": 4,
 "nbformat_minor": 2
}
