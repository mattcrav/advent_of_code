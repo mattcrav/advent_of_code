{
 "cells": [
  {
   "cell_type": "code",
   "execution_count": 76,
   "metadata": {},
   "outputs": [],
   "source": [
    "# with open('2022_day9_sample.csv') as f:\n",
    "# with open('2022_day9_sample2.csv') as f:\n",
    "with open('2022_day9.csv') as f:\n",
    "    act = f.readlines()\n",
    "# print(act)"
   ]
  },
  {
   "cell_type": "code",
   "execution_count": 77,
   "metadata": {},
   "outputs": [],
   "source": [
    "def move(dir, c):\n",
    "    if dir == 'R':\n",
    "        c[1] += 1\n",
    "    if dir == 'U':\n",
    "        c[0] += 1\n",
    "    if dir == 'L':\n",
    "        c[1] -= 1\n",
    "    if dir == 'D':\n",
    "        c[0] -= 1"
   ]
  },
  {
   "cell_type": "code",
   "execution_count": 78,
   "metadata": {},
   "outputs": [],
   "source": [
    "curr = [[0, 0], [0, 0], [0, 0], [0, 0], [0, 0], [0, 0], [0, 0], [0, 0], [0, 0], [0, 0]]\n",
    "visited = ['0,0']\n",
    "\n",
    "for a in act:\n",
    "    dir, num = a.split(' ')\n",
    "    dir = dir.replace('\\n','')\n",
    "    for n in range(int(num)):\n",
    "        move(dir, curr[0])\n",
    "        for c in range(1,10):\n",
    "            x_diff = curr[c-1][0] - curr[c][0]\n",
    "            y_diff = curr[c-1][1] - curr[c][1]\n",
    "            # this could easily be reduced\n",
    "            if x_diff == 2 and y_diff == 0:\n",
    "                move('U', curr[c])\n",
    "            if x_diff == -2 and y_diff == 0:\n",
    "                move('D', curr[c])\n",
    "            if x_diff == 0 and y_diff == 2:\n",
    "                move('R', curr[c])\n",
    "            if x_diff == 0 and y_diff == -2:\n",
    "                move('L', curr[c])\n",
    "            if x_diff == 2 and y_diff == 1:\n",
    "                move('U', curr[c])\n",
    "                move('R', curr[c])\n",
    "            if x_diff == -2 and y_diff == 1:\n",
    "                move('D', curr[c])\n",
    "                move('R', curr[c])\n",
    "            if x_diff == 1 and y_diff == 2:\n",
    "                move('U', curr[c])\n",
    "                move('R', curr[c])\n",
    "            if x_diff == 1 and y_diff == -2:\n",
    "                move('U', curr[c])\n",
    "                move('L', curr[c])\n",
    "            if x_diff == 2 and y_diff == -1:\n",
    "                move('U', curr[c])\n",
    "                move('L', curr[c])\n",
    "            if x_diff == -2 and y_diff == -1:\n",
    "                move('D', curr[c])\n",
    "                move('L', curr[c])\n",
    "            if x_diff == -1 and y_diff == 2:\n",
    "                move('D', curr[c])\n",
    "                move('R', curr[c])\n",
    "            if x_diff == -1 and y_diff == -2:\n",
    "                move('D', curr[c])\n",
    "                move('L', curr[c])\n",
    "            if x_diff == 2 and y_diff == 2:\n",
    "                move('U', curr[c])\n",
    "                move('R', curr[c])\n",
    "            if x_diff == -2 and y_diff == 2:\n",
    "                move('D', curr[c])\n",
    "                move('R', curr[c])\n",
    "            if x_diff == 2 and y_diff == -2:\n",
    "                move('U', curr[c])\n",
    "                move('L', curr[c])\n",
    "            if x_diff == -2 and y_diff == -2:\n",
    "                move('D', curr[c])\n",
    "                move('L', curr[c])\n",
    "                \n",
    "        t = ','.join([str(x) for x in curr[9]])\n",
    "        if t not in visited:\n",
    "            visited.append(t)\n",
    "# print(curr)\n",
    "# print(last)          \n"
   ]
  },
  {
   "cell_type": "code",
   "execution_count": 79,
   "metadata": {},
   "outputs": [
    {
     "name": "stdout",
     "output_type": "stream",
     "text": [
      "2604\n"
     ]
    }
   ],
   "source": [
    "# print(h)\n",
    "# print(t)\n",
    "# print(visited)\n",
    "print(len(visited))"
   ]
  }
 ],
 "metadata": {
  "kernelspec": {
   "display_name": "Python 3",
   "language": "python",
   "name": "python3"
  },
  "language_info": {
   "codemirror_mode": {
    "name": "ipython",
    "version": 3
   },
   "file_extension": ".py",
   "mimetype": "text/x-python",
   "name": "python",
   "nbconvert_exporter": "python",
   "pygments_lexer": "ipython3",
   "version": "3.8.5"
  },
  "orig_nbformat": 4,
  "vscode": {
   "interpreter": {
    "hash": "e949ccd788bb9c3a352ca3b519f08a10b81435dced42a385a6f33eb27afa8742"
   }
  }
 },
 "nbformat": 4,
 "nbformat_minor": 2
}
