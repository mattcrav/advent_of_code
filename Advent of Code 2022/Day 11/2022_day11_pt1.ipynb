{
 "cells": [
  {
   "cell_type": "code",
   "execution_count": 37,
   "metadata": {},
   "outputs": [],
   "source": [
    "import pandas as pd\n",
    "import numpy as np\n",
    "from collections import defaultdict"
   ]
  },
  {
   "cell_type": "code",
   "execution_count": 38,
   "metadata": {},
   "outputs": [
    {
     "name": "stdout",
     "output_type": "stream",
     "text": [
      "['Monkey 0:\\n', '  Starting items: 74, 73, 57, 77, 74\\n', '  Operation: new = old * 11\\n', '  Test: divisible by 19\\n', '    If true: throw to monkey 6\\n', '    If false: throw to monkey 7\\n', '\\n', 'Monkey 1:\\n', '  Starting items: 99, 77, 79\\n', '  Operation: new = old + 8\\n', '  Test: divisible by 2\\n', '    If true: throw to monkey 6\\n', '    If false: throw to monkey 0\\n', '\\n', 'Monkey 2:\\n', '  Starting items: 64, 67, 50, 96, 89, 82, 82\\n', '  Operation: new = old + 1\\n', '  Test: divisible by 3\\n', '    If true: throw to monkey 5\\n', '    If false: throw to monkey 3\\n', '\\n', 'Monkey 3:\\n', '  Starting items: 88\\n', '  Operation: new = old * 7\\n', '  Test: divisible by 17\\n', '    If true: throw to monkey 5\\n', '    If false: throw to monkey 4\\n', '\\n', 'Monkey 4:\\n', '  Starting items: 80, 66, 98, 83, 70, 63, 57, 66\\n', '  Operation: new = old + 4\\n', '  Test: divisible by 13\\n', '    If true: throw to monkey 0\\n', '    If false: throw to monkey 1\\n', '\\n', 'Monkey 5:\\n', '  Starting items: 81, 93, 90, 61, 62, 64\\n', '  Operation: new = old + 7\\n', '  Test: divisible by 7\\n', '    If true: throw to monkey 1\\n', '    If false: throw to monkey 4\\n', '\\n', 'Monkey 6:\\n', '  Starting items: 69, 97, 88, 93\\n', '  Operation: new = old * old\\n', '  Test: divisible by 5\\n', '    If true: throw to monkey 7\\n', '    If false: throw to monkey 2\\n', '\\n', 'Monkey 7:\\n', '  Starting items: 59, 80\\n', '  Operation: new = old + 6\\n', '  Test: divisible by 11\\n', '    If true: throw to monkey 2\\n', '    If false: throw to monkey 3']\n"
     ]
    }
   ],
   "source": [
    "# with open('2022_day11_sample.csv') as f:\n",
    "with open('2022_day11.csv') as f:\n",
    "    ls = f.readlines()\n",
    "print(ls)"
   ]
  },
  {
   "cell_type": "code",
   "execution_count": 39,
   "metadata": {},
   "outputs": [
    {
     "name": "stdout",
     "output_type": "stream",
     "text": [
      "[0, 1, 2, 3, 4, 5, 6, 7]\n",
      "{0: [74, 73, 57, 77, 74], 1: [99, 77, 79], 2: [64, 67, 50, 96, 89, 82, 82], 3: [88], 4: [80, 66, 98, 83, 70, 63, 57, 66], 5: [81, 93, 90, 61, 62, 64], 6: [69, 97, 88, 93], 7: [59, 80]}\n",
      "{0: 'new = old * 11', 1: 'new = old + 8', 2: 'new = old + 1', 3: 'new = old * 7', 4: 'new = old + 4', 5: 'new = old + 7', 6: 'new = old * old', 7: 'new = old + 6'}\n",
      "{0: 19, 1: 2, 2: 3, 3: 17, 4: 13, 5: 7, 6: 5, 7: 11}\n",
      "{0: 6, 1: 6, 2: 5, 3: 5, 4: 0, 5: 1, 6: 7, 7: 2}\n",
      "{0: 7, 1: 0, 2: 3, 3: 4, 4: 1, 5: 4, 6: 2, 7: 3}\n"
     ]
    }
   ],
   "source": [
    "monkeys = []\n",
    "items = {}\n",
    "inspect = {}\n",
    "test = {}\n",
    "iftrue = {}\n",
    "iffalse = {}\n",
    "n = 0\n",
    "\n",
    "for l in ls:\n",
    "    if 'Monkey' in l:\n",
    "        n = int(l.split(' ')[1].split(':')[0])\n",
    "        monkeys.append(n)\n",
    "    if 'Starting' in l:\n",
    "        i = l.replace('\\n', '').split(':')[1].split(',')\n",
    "        i = [int(x) for x in i]\n",
    "        items[n] = i\n",
    "    if 'Operation' in l:\n",
    "        i = l.replace('\\n','').split(':')[1].strip()\n",
    "        inspect[n] = i\n",
    "    if 'Test' in l:\n",
    "        i = int(l.replace('\\n','').split('Test: divisible by ')[1].strip())\n",
    "        test[n] = i\n",
    "    if 'If true' in l:\n",
    "        i = int(l.replace('\\n','').split('If true: throw to monkey ')[1].strip())\n",
    "        iftrue[n] = i\n",
    "    if 'If false' in l:\n",
    "        i = int(l.replace('\\n','').split('If false: throw to monkey ')[1].strip())\n",
    "        iffalse[n] = i\n",
    "\n",
    "print(monkeys)\n",
    "print(items)\n",
    "print(inspect)\n",
    "print(test)\n",
    "print(iftrue)\n",
    "print(iffalse)"
   ]
  },
  {
   "cell_type": "code",
   "execution_count": 40,
   "metadata": {},
   "outputs": [
    {
     "name": "stdout",
     "output_type": "stream",
     "text": [
      "defaultdict(<class 'int'>, {0: 163, 1: 258, 2: 51, 3: 247, 4: 271, 5: 22, 6: 105, 7: 229})\n"
     ]
    }
   ],
   "source": [
    "inspections = defaultdict(int)\n",
    "\n",
    "for r in range(20):\n",
    "    for m in monkeys:\n",
    "        for i in range(len(items[m])):\n",
    "            old = items[m].pop(0)\n",
    "            inspections[m] += 1\n",
    "            new = None\n",
    "            exec(inspect[m])\n",
    "            new = int(new / 3)\n",
    "            if new % test[m] == 0:\n",
    "                items[iftrue[m]].append(new)\n",
    "            else:\n",
    "                items[iffalse[m]].append(new)\n",
    "# print(items)\n",
    "print(inspections)"
   ]
  },
  {
   "cell_type": "code",
   "execution_count": 41,
   "metadata": {},
   "outputs": [
    {
     "name": "stdout",
     "output_type": "stream",
     "text": [
      "69918\n"
     ]
    }
   ],
   "source": [
    "mb = list(inspections.values())\n",
    "mb.sort(reverse=True)\n",
    "print(mb[0] * mb[1])"
   ]
  }
 ],
 "metadata": {
  "kernelspec": {
   "display_name": "Python 3",
   "language": "python",
   "name": "python3"
  },
  "language_info": {
   "codemirror_mode": {
    "name": "ipython",
    "version": 3
   },
   "file_extension": ".py",
   "mimetype": "text/x-python",
   "name": "python",
   "nbconvert_exporter": "python",
   "pygments_lexer": "ipython3",
   "version": "3.8.5 (tags/v3.8.5:580fbb0, Jul 20 2020, 15:57:54) [MSC v.1924 64 bit (AMD64)]"
  },
  "orig_nbformat": 4,
  "vscode": {
   "interpreter": {
    "hash": "e949ccd788bb9c3a352ca3b519f08a10b81435dced42a385a6f33eb27afa8742"
   }
  }
 },
 "nbformat": 4,
 "nbformat_minor": 2
}
