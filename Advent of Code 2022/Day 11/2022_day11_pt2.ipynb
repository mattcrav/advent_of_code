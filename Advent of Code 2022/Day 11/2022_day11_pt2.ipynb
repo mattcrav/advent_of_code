{
 "cells": [
  {
   "cell_type": "code",
   "execution_count": 1,
   "metadata": {},
   "outputs": [],
   "source": [
    "import pandas as pd\n",
    "import numpy as np\n",
    "from collections import defaultdict, Counter\n",
    "import sys"
   ]
  },
  {
   "cell_type": "code",
   "execution_count": 2,
   "metadata": {},
   "outputs": [
    {
     "name": "stdout",
     "output_type": "stream",
     "text": [
      "['Monkey 0:\\n', '  Starting items: 79, 98\\n', '  Operation: new = old * 19\\n', '  Test: divisible by 23\\n', '    If true: throw to monkey 2\\n', '    If false: throw to monkey 3\\n', '\\n', 'Monkey 1:\\n', '  Starting items: 54, 65, 75, 74\\n', '  Operation: new = old + 6\\n', '  Test: divisible by 19\\n', '    If true: throw to monkey 2\\n', '    If false: throw to monkey 0\\n', '\\n', 'Monkey 2:\\n', '  Starting items: 79, 60, 97\\n', '  Operation: new = old * old\\n', '  Test: divisible by 13\\n', '    If true: throw to monkey 1\\n', '    If false: throw to monkey 3\\n', '\\n', 'Monkey 3:\\n', '  Starting items: 74\\n', '  Operation: new = old + 3\\n', '  Test: divisible by 17\\n', '    If true: throw to monkey 0\\n', '    If false: throw to monkey 1']\n"
     ]
    }
   ],
   "source": [
    "with open('2022_day11_sample.csv') as f:\n",
    "# with open('2022_day11.csv') as f:\n",
    "    ls = f.readlines()\n",
    "print(ls)"
   ]
  },
  {
   "cell_type": "code",
   "execution_count": 3,
   "metadata": {},
   "outputs": [
    {
     "name": "stdout",
     "output_type": "stream",
     "text": [
      "[0, 1, 2, 3]\n",
      "{0: [79, 98], 1: [54, 65, 75, 74], 2: [79, 60, 97], 3: [74]}\n",
      "{0: 'new = old * 19', 1: 'new = old + 6', 2: 'new = old * old', 3: 'new = old + 3'}\n",
      "{0: 23, 1: 19, 2: 13, 3: 17}\n",
      "{0: 2, 1: 2, 2: 1, 3: 0}\n",
      "{0: 3, 1: 0, 2: 3, 3: 1}\n"
     ]
    }
   ],
   "source": [
    "monkeys = []\n",
    "items = {}\n",
    "inspect = {}\n",
    "test = {}\n",
    "iftrue = {}\n",
    "iffalse = {}\n",
    "n = 0\n",
    "\n",
    "for l in ls:\n",
    "    if 'Monkey' in l:\n",
    "        n = int(l.split(' ')[1].split(':')[0])\n",
    "        monkeys.append(n)\n",
    "    if 'Starting' in l:\n",
    "        i = l.replace('\\n', '').split(':')[1].split(',')\n",
    "        i = [int(x) for x in i]\n",
    "        items[n] = i\n",
    "    if 'Operation' in l:\n",
    "        i = l.replace('\\n','').split(':')[1].strip()\n",
    "        inspect[n] = i\n",
    "    if 'Test' in l:\n",
    "        i = int(l.replace('\\n','').split('Test: divisible by ')[1].strip())\n",
    "        test[n] = i\n",
    "    if 'If true' in l:\n",
    "        i = int(l.replace('\\n','').split('If true: throw to monkey ')[1].strip())\n",
    "        iftrue[n] = i\n",
    "    if 'If false' in l:\n",
    "        i = int(l.replace('\\n','').split('If false: throw to monkey ')[1].strip())\n",
    "        iffalse[n] = i\n",
    "\n",
    "# items[0] = [79]\n",
    "# items[1] = []\n",
    "# items[2] = []\n",
    "# items[3] = []\n",
    "\n",
    "print(monkeys)\n",
    "print(items)\n",
    "print(inspect)\n",
    "print(test)\n",
    "print(iftrue)\n",
    "print(iffalse)\n",
    "\n"
   ]
  },
  {
   "attachments": {},
   "cell_type": "markdown",
   "metadata": {},
   "source": [
    "# Worry value grows too large, need to find a way to reduce that maintains the order of operations"
   ]
  },
  {
   "cell_type": "code",
   "execution_count": 4,
   "metadata": {},
   "outputs": [
    {
     "name": "stdout",
     "output_type": "stream",
     "text": [
      "defaultdict(<class 'int'>, {0: 99, 1: 97, 2: 8, 3: 103})\n"
     ]
    }
   ],
   "source": [
    "inspections = defaultdict(int)\n",
    "# passed_to = []\n",
    "\n",
    "for r in range(20):\n",
    "    for m in monkeys:\n",
    "        # print(items[m])\n",
    "        for i in range(len(items[m])):\n",
    "            # passed_to.append(m)\n",
    "            old = items[m].pop(0)\n",
    "            inspections[m] += 1\n",
    "            new = None\n",
    "            exec(inspect[m])\n",
    "            # print(old, new)\n",
    "            # if new % 96577 == 0:\n",
    "            #     print(r)\n",
    "            #     new = new / 96577\n",
    "            if new % test[m] == 0:\n",
    "                items[iftrue[m]].append(new)\n",
    "            else:\n",
    "                items[iffalse[m]].append(new)\n",
    "# print(items)\n",
    "print(inspections)\n",
    "# print(Counter(passed_to))"
   ]
  },
  {
   "cell_type": "code",
   "execution_count": 5,
   "metadata": {},
   "outputs": [
    {
     "name": "stdout",
     "output_type": "stream",
     "text": [
      "10197\n"
     ]
    }
   ],
   "source": [
    "mb = list(inspections.values())\n",
    "mb.sort(reverse=True)\n",
    "print(mb[0] * mb[1])"
   ]
  }
 ],
 "metadata": {
  "kernelspec": {
   "display_name": "Python 3",
   "language": "python",
   "name": "python3"
  },
  "language_info": {
   "codemirror_mode": {
    "name": "ipython",
    "version": 3
   },
   "file_extension": ".py",
   "mimetype": "text/x-python",
   "name": "python",
   "nbconvert_exporter": "python",
   "pygments_lexer": "ipython3",
   "version": "3.8.5"
  },
  "orig_nbformat": 4,
  "vscode": {
   "interpreter": {
    "hash": "e949ccd788bb9c3a352ca3b519f08a10b81435dced42a385a6f33eb27afa8742"
   }
  }
 },
 "nbformat": 4,
 "nbformat_minor": 2
}
