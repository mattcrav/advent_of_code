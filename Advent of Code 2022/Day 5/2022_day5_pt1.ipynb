{
 "cells": [
  {
   "cell_type": "code",
   "execution_count": 112,
   "metadata": {},
   "outputs": [],
   "source": [
    "import numpy as np\n",
    "import re"
   ]
  },
  {
   "cell_type": "code",
   "execution_count": 107,
   "metadata": {},
   "outputs": [
    {
     "name": "stdout",
     "output_type": "stream",
     "text": [
      "['    [W]         [J]     [J]        \\n', '    [V]     [F] [F] [S] [S]        \\n', '    [S] [M] [R] [W] [M] [C]        \\n', '    [M] [G] [W] [S] [F] [G]     [C]\\n', '[W] [P] [S] [M] [H] [N] [F]     [L]\\n', '[R] [H] [T] [D] [L] [D] [D] [B] [W]\\n', '[T] [C] [L] [H] [Q] [J] [B] [T] [N]\\n', '[G] [G] [C] [J] [P] [P] [Z] [R] [H]\\n', ' 1   2   3   4   5   6   7   8   9 \\n', '\\n', 'move 3 from 4 to 3\\n', 'move 3 from 8 to 6\\n', 'move 2 from 3 to 8\\n', 'move 3 from 7 to 2\\n', 'move 1 from 1 to 3\\n', 'move 6 from 2 to 7\\n', 'move 5 from 3 to 6\\n', 'move 1 from 8 to 6\\n', 'move 4 from 4 to 3\\n', 'move 2 from 1 to 2\\n', 'move 10 from 7 to 3\\n', 'move 1 from 7 to 2\\n', 'move 6 from 5 to 8\\n', 'move 1 from 1 to 4\\n', 'move 7 from 6 to 3\\n', 'move 22 from 3 to 4\\n', 'move 3 from 2 to 8\\n', 'move 4 from 6 to 8\\n', 'move 5 from 2 to 1\\n', 'move 3 from 9 to 4\\n', 'move 2 from 4 to 3\\n', 'move 1 from 9 to 2\\n', 'move 1 from 5 to 3\\n', 'move 1 from 2 to 6\\n', 'move 1 from 5 to 2\\n', 'move 1 from 2 to 7\\n', 'move 4 from 4 to 5\\n', 'move 2 from 1 to 9\\n', 'move 1 from 1 to 3\\n', 'move 2 from 5 to 9\\n', 'move 5 from 9 to 8\\n', 'move 1 from 5 to 9\\n', 'move 1 from 7 to 2\\n', 'move 1 from 9 to 4\\n', 'move 5 from 6 to 7\\n', 'move 1 from 5 to 2\\n', 'move 2 from 2 to 4\\n', 'move 2 from 7 to 4\\n', 'move 2 from 7 to 8\\n', 'move 21 from 8 to 6\\n', 'move 6 from 3 to 1\\n', 'move 1 from 7 to 9\\n', 'move 1 from 1 to 7\\n', 'move 7 from 6 to 8\\n', 'move 3 from 1 to 9\\n', 'move 24 from 4 to 8\\n', 'move 3 from 1 to 3\\n', 'move 10 from 6 to 8\\n', 'move 1 from 4 to 5\\n', 'move 1 from 3 to 9\\n', 'move 5 from 9 to 8\\n', 'move 11 from 8 to 3\\n', 'move 1 from 5 to 7\\n', 'move 1 from 1 to 8\\n', 'move 1 from 6 to 1\\n', 'move 19 from 8 to 1\\n', 'move 1 from 7 to 9\\n', 'move 10 from 3 to 1\\n', 'move 3 from 3 to 8\\n', 'move 1 from 7 to 3\\n', 'move 1 from 9 to 2\\n', 'move 23 from 1 to 7\\n', 'move 1 from 1 to 9\\n', 'move 1 from 3 to 6\\n', 'move 2 from 6 to 9\\n', 'move 7 from 8 to 1\\n', 'move 8 from 8 to 1\\n', 'move 11 from 7 to 2\\n', 'move 2 from 6 to 8\\n', 'move 1 from 6 to 8\\n', 'move 7 from 8 to 6\\n', 'move 1 from 9 to 4\\n', 'move 1 from 8 to 1\\n', 'move 10 from 7 to 1\\n', 'move 6 from 2 to 5\\n', 'move 5 from 2 to 9\\n', 'move 4 from 5 to 8\\n', 'move 1 from 5 to 8\\n', 'move 13 from 1 to 6\\n', 'move 1 from 2 to 4\\n', 'move 1 from 4 to 5\\n', 'move 2 from 9 to 4\\n', 'move 3 from 9 to 4\\n', 'move 2 from 5 to 3\\n', 'move 1 from 3 to 9\\n', 'move 2 from 8 to 5\\n', 'move 2 from 5 to 7\\n', 'move 2 from 8 to 6\\n', 'move 2 from 7 to 3\\n', 'move 2 from 7 to 8\\n', 'move 4 from 1 to 3\\n', 'move 3 from 8 to 4\\n', 'move 8 from 4 to 9\\n', 'move 1 from 9 to 8\\n', 'move 3 from 3 to 6\\n', 'move 4 from 3 to 9\\n', 'move 1 from 8 to 2\\n', 'move 12 from 1 to 5\\n', 'move 9 from 6 to 8\\n', 'move 1 from 4 to 8\\n', 'move 3 from 1 to 3\\n', 'move 12 from 5 to 8\\n', 'move 1 from 2 to 6\\n', 'move 1 from 3 to 1\\n', 'move 1 from 3 to 2\\n', 'move 1 from 1 to 2\\n', 'move 16 from 6 to 1\\n', 'move 1 from 6 to 3\\n', 'move 2 from 3 to 8\\n', 'move 7 from 8 to 5\\n', 'move 1 from 2 to 6\\n', 'move 1 from 2 to 1\\n', 'move 2 from 9 to 4\\n', 'move 1 from 6 to 7\\n', 'move 8 from 9 to 8\\n', 'move 5 from 5 to 6\\n', 'move 9 from 8 to 7\\n', 'move 12 from 1 to 3\\n', 'move 2 from 6 to 3\\n', 'move 6 from 8 to 9\\n', 'move 5 from 1 to 4\\n', 'move 2 from 5 to 7\\n', 'move 11 from 7 to 3\\n', 'move 1 from 7 to 4\\n', 'move 2 from 6 to 8\\n', 'move 7 from 4 to 6\\n', 'move 3 from 8 to 7\\n', 'move 3 from 8 to 2\\n', 'move 19 from 3 to 2\\n', 'move 4 from 8 to 7\\n', 'move 2 from 9 to 8\\n', 'move 1 from 4 to 5\\n', 'move 1 from 6 to 8\\n', 'move 1 from 5 to 7\\n', 'move 8 from 9 to 4\\n', 'move 1 from 8 to 5\\n', 'move 1 from 5 to 6\\n', 'move 4 from 2 to 7\\n', 'move 8 from 6 to 9\\n', 'move 6 from 7 to 3\\n', 'move 4 from 3 to 8\\n', 'move 5 from 8 to 7\\n', 'move 15 from 2 to 8\\n', 'move 8 from 3 to 4\\n', 'move 7 from 9 to 7\\n', 'move 3 from 2 to 4\\n', 'move 2 from 7 to 4\\n', 'move 2 from 4 to 3\\n', 'move 1 from 9 to 4\\n', 'move 9 from 7 to 5\\n', 'move 4 from 5 to 9\\n', 'move 2 from 5 to 3\\n', 'move 2 from 9 to 1\\n', 'move 3 from 5 to 2\\n', 'move 4 from 3 to 1\\n', 'move 7 from 7 to 4\\n', 'move 3 from 2 to 6\\n', 'move 4 from 4 to 5\\n', 'move 2 from 1 to 6\\n', 'move 8 from 4 to 1\\n', 'move 1 from 8 to 2\\n', 'move 1 from 2 to 8\\n', 'move 11 from 8 to 7\\n', 'move 3 from 5 to 9\\n', 'move 1 from 5 to 9\\n', 'move 11 from 7 to 1\\n', 'move 7 from 8 to 9\\n', 'move 11 from 1 to 3\\n', 'move 6 from 4 to 5\\n', 'move 8 from 1 to 7\\n', 'move 4 from 6 to 5\\n', 'move 3 from 5 to 8\\n', 'move 8 from 7 to 3\\n', 'move 7 from 4 to 7\\n', 'move 7 from 5 to 6\\n', 'move 3 from 3 to 8\\n', 'move 2 from 4 to 9\\n', 'move 16 from 3 to 1\\n', 'move 7 from 7 to 1\\n', 'move 2 from 8 to 7\\n', 'move 2 from 8 to 1\\n', 'move 1 from 8 to 4\\n', 'move 1 from 7 to 4\\n', 'move 2 from 4 to 2\\n', 'move 1 from 8 to 7\\n', 'move 1 from 2 to 3\\n', 'move 1 from 2 to 4\\n', 'move 1 from 7 to 8\\n', 'move 8 from 6 to 7\\n', 'move 1 from 3 to 5\\n', 'move 15 from 1 to 2\\n', 'move 4 from 9 to 1\\n', 'move 1 from 8 to 1\\n', 'move 11 from 9 to 2\\n', 'move 21 from 2 to 6\\n', 'move 1 from 4 to 2\\n', 'move 4 from 2 to 7\\n', 'move 1 from 5 to 9\\n', 'move 1 from 9 to 4\\n', 'move 19 from 1 to 2\\n', 'move 5 from 2 to 4\\n', 'move 8 from 7 to 6\\n', 'move 10 from 6 to 2\\n', 'move 5 from 7 to 5\\n', 'move 2 from 4 to 1\\n', 'move 3 from 6 to 9\\n', 'move 3 from 9 to 2\\n', 'move 1 from 5 to 2\\n', 'move 13 from 6 to 3\\n', 'move 2 from 6 to 9\\n', 'move 17 from 2 to 3\\n', 'move 1 from 6 to 2\\n', 'move 2 from 2 to 1\\n', 'move 2 from 1 to 5\\n', 'move 5 from 5 to 3\\n', 'move 2 from 2 to 8\\n', 'move 10 from 2 to 1\\n', 'move 18 from 3 to 8\\n', 'move 13 from 8 to 1\\n', 'move 7 from 8 to 2\\n', 'move 2 from 2 to 1\\n', 'move 4 from 3 to 8\\n', 'move 1 from 2 to 7\\n', 'move 1 from 2 to 8\\n', 'move 2 from 4 to 1\\n', 'move 1 from 5 to 4\\n', 'move 1 from 9 to 6\\n', 'move 1 from 1 to 7\\n', 'move 11 from 3 to 4\\n', 'move 1 from 6 to 2\\n', 'move 7 from 1 to 2\\n', 'move 5 from 8 to 5\\n', 'move 1 from 7 to 5\\n', 'move 3 from 5 to 1\\n', 'move 7 from 1 to 6\\n', 'move 6 from 1 to 6\\n', 'move 6 from 1 to 8\\n', 'move 2 from 1 to 3\\n', 'move 5 from 2 to 5\\n', 'move 1 from 7 to 6\\n', 'move 1 from 4 to 2\\n', 'move 4 from 2 to 4\\n', 'move 1 from 1 to 9\\n', 'move 1 from 3 to 8\\n', 'move 7 from 8 to 5\\n', 'move 1 from 9 to 7\\n', 'move 1 from 9 to 4\\n', 'move 8 from 5 to 7\\n', 'move 5 from 4 to 1\\n', 'move 4 from 1 to 6\\n', 'move 3 from 1 to 6\\n', 'move 3 from 3 to 6\\n', 'move 1 from 5 to 6\\n', 'move 3 from 7 to 5\\n', 'move 15 from 6 to 7\\n', 'move 12 from 7 to 4\\n', 'move 8 from 5 to 2\\n', 'move 3 from 4 to 9\\n', 'move 3 from 9 to 7\\n', 'move 1 from 6 to 2\\n', 'move 9 from 4 to 9\\n', 'move 4 from 9 to 1\\n', 'move 2 from 1 to 7\\n', 'move 3 from 6 to 4\\n', 'move 3 from 6 to 4\\n', 'move 2 from 1 to 2\\n', 'move 1 from 5 to 6\\n', 'move 2 from 9 to 4\\n', 'move 13 from 4 to 2\\n', 'move 22 from 2 to 3\\n', 'move 3 from 7 to 8\\n', 'move 1 from 9 to 6\\n', 'move 1 from 9 to 3\\n', 'move 2 from 8 to 9\\n', 'move 3 from 9 to 8\\n', 'move 5 from 6 to 4\\n', 'move 2 from 8 to 6\\n', 'move 4 from 7 to 8\\n', 'move 2 from 2 to 5\\n', 'move 4 from 8 to 7\\n', 'move 2 from 5 to 7\\n', 'move 7 from 7 to 2\\n', 'move 9 from 4 to 7\\n', 'move 4 from 2 to 1\\n', 'move 3 from 7 to 6\\n', 'move 12 from 3 to 5\\n', 'move 5 from 2 to 5\\n', 'move 1 from 8 to 2\\n', 'move 1 from 3 to 5\\n', 'move 4 from 3 to 1\\n', 'move 2 from 6 to 1\\n', 'move 11 from 5 to 3\\n', 'move 3 from 6 to 1\\n', 'move 8 from 1 to 9\\n', 'move 5 from 9 to 8\\n', 'move 2 from 9 to 7\\n', 'move 1 from 1 to 8\\n', 'move 4 from 7 to 6\\n', 'move 6 from 3 to 1\\n', 'move 1 from 9 to 7\\n', 'move 5 from 7 to 4\\n', 'move 3 from 8 to 3\\n', 'move 1 from 6 to 5\\n', 'move 2 from 2 to 1\\n', 'move 4 from 7 to 9\\n', 'move 3 from 8 to 6\\n', 'move 6 from 3 to 8\\n', 'move 6 from 8 to 7\\n', 'move 4 from 6 to 5\\n', 'move 6 from 5 to 8\\n', 'move 2 from 9 to 5\\n', 'move 2 from 9 to 8\\n', 'move 4 from 7 to 4\\n', 'move 1 from 6 to 3\\n', 'move 5 from 8 to 4\\n', 'move 1 from 6 to 9\\n', 'move 1 from 7 to 3\\n', 'move 7 from 3 to 8\\n', 'move 6 from 1 to 4\\n', 'move 6 from 1 to 2\\n', 'move 17 from 4 to 6\\n', 'move 4 from 8 to 5\\n', 'move 3 from 3 to 1\\n', 'move 5 from 4 to 1\\n', 'move 5 from 2 to 7\\n', 'move 7 from 8 to 1\\n', 'move 7 from 7 to 2\\n', 'move 4 from 6 to 3\\n', 'move 6 from 1 to 8\\n', 'move 2 from 4 to 9\\n', 'move 2 from 5 to 4\\n', 'move 1 from 4 to 3\\n', 'move 1 from 4 to 7\\n', 'move 2 from 7 to 5\\n', 'move 4 from 5 to 3\\n', 'move 1 from 9 to 1\\n', 'move 5 from 5 to 3\\n', 'move 1 from 8 to 5\\n', 'move 7 from 6 to 1\\n', 'move 6 from 6 to 8\\n', 'move 11 from 3 to 7\\n', 'move 2 from 9 to 1\\n', 'move 8 from 8 to 2\\n', 'move 5 from 7 to 5\\n', 'move 5 from 7 to 4\\n', 'move 1 from 2 to 6\\n', 'move 2 from 4 to 6\\n', 'move 1 from 7 to 5\\n', 'move 2 from 6 to 4\\n', 'move 10 from 2 to 6\\n', 'move 3 from 4 to 5\\n', 'move 1 from 6 to 4\\n', 'move 4 from 6 to 4\\n', 'move 6 from 6 to 9\\n', 'move 3 from 3 to 8\\n', 'move 19 from 1 to 8\\n', 'move 23 from 8 to 9\\n', 'move 1 from 8 to 1\\n', 'move 1 from 1 to 7\\n', 'move 1 from 7 to 1\\n', 'move 1 from 1 to 6\\n', 'move 5 from 9 to 5\\n', 'move 1 from 8 to 5\\n', 'move 5 from 4 to 5\\n', 'move 4 from 5 to 4\\n', 'move 1 from 9 to 1\\n', 'move 6 from 9 to 3\\n', 'move 2 from 2 to 8\\n', 'move 1 from 1 to 3\\n', 'move 1 from 6 to 7\\n', 'move 1 from 7 to 3\\n', 'move 1 from 2 to 5\\n', 'move 6 from 9 to 8\\n', 'move 5 from 4 to 5\\n', 'move 10 from 5 to 2\\n', 'move 10 from 5 to 2\\n', 'move 11 from 9 to 1\\n', 'move 4 from 2 to 6\\n', 'move 18 from 2 to 9\\n', 'move 2 from 6 to 9\\n', 'move 3 from 3 to 9\\n', 'move 1 from 4 to 3\\n', 'move 1 from 6 to 8\\n', 'move 6 from 8 to 4\\n', 'move 6 from 5 to 7\\n', 'move 19 from 9 to 4\\n', 'move 7 from 1 to 3\\n', 'move 1 from 6 to 8\\n', 'move 4 from 8 to 7\\n', 'move 2 from 3 to 6\\n', 'move 3 from 1 to 8\\n', 'move 1 from 1 to 5\\n', 'move 7 from 7 to 3\\n', 'move 8 from 3 to 1\\n', 'move 1 from 5 to 7\\n', 'move 2 from 6 to 2\\n', 'move 3 from 1 to 8\\n', 'move 1 from 2 to 6\\n', 'move 3 from 1 to 7\\n', 'move 4 from 8 to 9\\n', 'move 4 from 7 to 6\\n', 'move 3 from 9 to 7\\n', 'move 3 from 9 to 3\\n', 'move 6 from 7 to 3\\n', 'move 13 from 3 to 1\\n', 'move 5 from 3 to 4\\n', 'move 1 from 8 to 7\\n', 'move 1 from 7 to 9\\n', 'move 1 from 8 to 5\\n', 'move 1 from 9 to 4\\n', 'move 1 from 5 to 2\\n', 'move 2 from 9 to 2\\n', 'move 3 from 6 to 2\\n', 'move 1 from 3 to 7\\n', 'move 13 from 4 to 8\\n', 'move 14 from 1 to 5\\n', 'move 6 from 2 to 7\\n', 'move 4 from 8 to 7\\n', 'move 1 from 1 to 3\\n', 'move 1 from 2 to 6\\n', 'move 5 from 4 to 2\\n', 'move 4 from 8 to 4\\n', 'move 12 from 5 to 4\\n', 'move 1 from 3 to 8\\n', 'move 9 from 4 to 2\\n', 'move 9 from 4 to 5\\n', 'move 1 from 4 to 5\\n', 'move 6 from 4 to 3\\n', 'move 5 from 8 to 4\\n', 'move 9 from 4 to 7\\n', 'move 4 from 2 to 3\\n', 'move 8 from 7 to 1\\n', 'move 2 from 7 to 1\\n', 'move 2 from 2 to 9\\n', 'move 1 from 6 to 7\\n', 'move 2 from 6 to 3\\n', 'move 1 from 2 to 3\\n', 'move 2 from 7 to 3\\n', 'move 3 from 3 to 7\\n', 'move 8 from 1 to 2\\n', 'move 9 from 5 to 3\\n', 'move 15 from 2 to 7\\n', 'move 20 from 7 to 5\\n', 'move 23 from 5 to 6\\n', 'move 20 from 6 to 8\\n', 'move 1 from 6 to 4\\n', 'move 2 from 9 to 7\\n', 'move 1 from 4 to 6\\n', 'move 3 from 7 to 6\\n', 'move 2 from 7 to 5\\n', 'move 13 from 3 to 5\\n', 'move 3 from 7 to 1\\n', 'move 13 from 5 to 4\\n', 'move 3 from 1 to 4\\n', 'move 5 from 6 to 1\\n', 'move 6 from 4 to 3\\n', 'move 1 from 7 to 4\\n', 'move 11 from 8 to 6\\n', 'move 1 from 8 to 6\\n', 'move 2 from 1 to 5\\n', 'move 2 from 5 to 3\\n', 'move 11 from 6 to 5\\n', 'move 3 from 8 to 3\\n', 'move 4 from 3 to 5\\n', 'move 15 from 5 to 1\\n', 'move 1 from 3 to 5\\n', 'move 3 from 8 to 5\\n', 'move 1 from 5 to 9\\n', 'move 1 from 5 to 3\\n', 'move 9 from 4 to 6\\n', 'move 7 from 6 to 8\\n', 'move 2 from 4 to 6\\n', 'move 2 from 5 to 1\\n', 'move 8 from 8 to 7\\n', 'move 6 from 6 to 2\\n', 'move 1 from 5 to 2\\n', 'move 4 from 3 to 4\\n', 'move 6 from 1 to 5\\n', 'move 7 from 3 to 4\\n', 'move 2 from 3 to 2\\n', 'move 2 from 8 to 9\\n', 'move 9 from 2 to 5\\n', 'move 9 from 5 to 4\\n', 'move 2 from 3 to 6\\n', 'move 14 from 1 to 7\\n', 'move 15 from 7 to 2\\n', 'move 1 from 1 to 7\\n', 'move 7 from 5 to 1\\n', 'move 2 from 9 to 2\\n', 'move 2 from 1 to 7\\n', 'move 1 from 1 to 4\\n', 'move 2 from 6 to 8\\n', 'move 7 from 2 to 8\\n', 'move 1 from 9 to 6\\n', 'move 7 from 8 to 3\\n', 'move 1 from 6 to 4\\n', 'move 1 from 8 to 2\\n', 'move 6 from 4 to 6\\n', 'move 9 from 2 to 1\\n', 'move 1 from 3 to 9\\n', 'move 3 from 7 to 5']\n"
     ]
    }
   ],
   "source": [
    "# with open('2022_day5_sample.csv', 'r') as f:\n",
    "with open('2022_day5.csv', 'r') as f:\n",
    "    l = f.readlines()\n",
    "print(l)"
   ]
  },
  {
   "cell_type": "code",
   "execution_count": 108,
   "metadata": {},
   "outputs": [
    {
     "name": "stdout",
     "output_type": "stream",
     "text": [
      "[[' ' 'W' ' ' ' ' 'J' ' ' 'J' ' ' ' ']\n",
      " [' ' 'V' ' ' 'F' 'F' 'S' 'S' ' ' ' ']\n",
      " [' ' 'S' 'M' 'R' 'W' 'M' 'C' ' ' ' ']\n",
      " [' ' 'M' 'G' 'W' 'S' 'F' 'G' ' ' 'C']\n",
      " ['W' 'P' 'S' 'M' 'H' 'N' 'F' ' ' 'L']\n",
      " ['R' 'H' 'T' 'D' 'L' 'D' 'D' 'B' 'W']\n",
      " ['T' 'C' 'L' 'H' 'Q' 'J' 'B' 'T' 'N']\n",
      " ['G' 'G' 'C' 'J' 'P' 'P' 'Z' 'R' 'H']]\n",
      "['move 3 from 4 to 3', 'move 3 from 8 to 6', 'move 2 from 3 to 8', 'move 3 from 7 to 2', 'move 1 from 1 to 3', 'move 6 from 2 to 7', 'move 5 from 3 to 6', 'move 1 from 8 to 6', 'move 4 from 4 to 3', 'move 2 from 1 to 2', 'move 10 from 7 to 3', 'move 1 from 7 to 2', 'move 6 from 5 to 8', 'move 1 from 1 to 4', 'move 7 from 6 to 3', 'move 22 from 3 to 4', 'move 3 from 2 to 8', 'move 4 from 6 to 8', 'move 5 from 2 to 1', 'move 3 from 9 to 4', 'move 2 from 4 to 3', 'move 1 from 9 to 2', 'move 1 from 5 to 3', 'move 1 from 2 to 6', 'move 1 from 5 to 2', 'move 1 from 2 to 7', 'move 4 from 4 to 5', 'move 2 from 1 to 9', 'move 1 from 1 to 3', 'move 2 from 5 to 9', 'move 5 from 9 to 8', 'move 1 from 5 to 9', 'move 1 from 7 to 2', 'move 1 from 9 to 4', 'move 5 from 6 to 7', 'move 1 from 5 to 2', 'move 2 from 2 to 4', 'move 2 from 7 to 4', 'move 2 from 7 to 8', 'move 21 from 8 to 6', 'move 6 from 3 to 1', 'move 1 from 7 to 9', 'move 1 from 1 to 7', 'move 7 from 6 to 8', 'move 3 from 1 to 9', 'move 24 from 4 to 8', 'move 3 from 1 to 3', 'move 10 from 6 to 8', 'move 1 from 4 to 5', 'move 1 from 3 to 9', 'move 5 from 9 to 8', 'move 11 from 8 to 3', 'move 1 from 5 to 7', 'move 1 from 1 to 8', 'move 1 from 6 to 1', 'move 19 from 8 to 1', 'move 1 from 7 to 9', 'move 10 from 3 to 1', 'move 3 from 3 to 8', 'move 1 from 7 to 3', 'move 1 from 9 to 2', 'move 23 from 1 to 7', 'move 1 from 1 to 9', 'move 1 from 3 to 6', 'move 2 from 6 to 9', 'move 7 from 8 to 1', 'move 8 from 8 to 1', 'move 11 from 7 to 2', 'move 2 from 6 to 8', 'move 1 from 6 to 8', 'move 7 from 8 to 6', 'move 1 from 9 to 4', 'move 1 from 8 to 1', 'move 10 from 7 to 1', 'move 6 from 2 to 5', 'move 5 from 2 to 9', 'move 4 from 5 to 8', 'move 1 from 5 to 8', 'move 13 from 1 to 6', 'move 1 from 2 to 4', 'move 1 from 4 to 5', 'move 2 from 9 to 4', 'move 3 from 9 to 4', 'move 2 from 5 to 3', 'move 1 from 3 to 9', 'move 2 from 8 to 5', 'move 2 from 5 to 7', 'move 2 from 8 to 6', 'move 2 from 7 to 3', 'move 2 from 7 to 8', 'move 4 from 1 to 3', 'move 3 from 8 to 4', 'move 8 from 4 to 9', 'move 1 from 9 to 8', 'move 3 from 3 to 6', 'move 4 from 3 to 9', 'move 1 from 8 to 2', 'move 12 from 1 to 5', 'move 9 from 6 to 8', 'move 1 from 4 to 8', 'move 3 from 1 to 3', 'move 12 from 5 to 8', 'move 1 from 2 to 6', 'move 1 from 3 to 1', 'move 1 from 3 to 2', 'move 1 from 1 to 2', 'move 16 from 6 to 1', 'move 1 from 6 to 3', 'move 2 from 3 to 8', 'move 7 from 8 to 5', 'move 1 from 2 to 6', 'move 1 from 2 to 1', 'move 2 from 9 to 4', 'move 1 from 6 to 7', 'move 8 from 9 to 8', 'move 5 from 5 to 6', 'move 9 from 8 to 7', 'move 12 from 1 to 3', 'move 2 from 6 to 3', 'move 6 from 8 to 9', 'move 5 from 1 to 4', 'move 2 from 5 to 7', 'move 11 from 7 to 3', 'move 1 from 7 to 4', 'move 2 from 6 to 8', 'move 7 from 4 to 6', 'move 3 from 8 to 7', 'move 3 from 8 to 2', 'move 19 from 3 to 2', 'move 4 from 8 to 7', 'move 2 from 9 to 8', 'move 1 from 4 to 5', 'move 1 from 6 to 8', 'move 1 from 5 to 7', 'move 8 from 9 to 4', 'move 1 from 8 to 5', 'move 1 from 5 to 6', 'move 4 from 2 to 7', 'move 8 from 6 to 9', 'move 6 from 7 to 3', 'move 4 from 3 to 8', 'move 5 from 8 to 7', 'move 15 from 2 to 8', 'move 8 from 3 to 4', 'move 7 from 9 to 7', 'move 3 from 2 to 4', 'move 2 from 7 to 4', 'move 2 from 4 to 3', 'move 1 from 9 to 4', 'move 9 from 7 to 5', 'move 4 from 5 to 9', 'move 2 from 5 to 3', 'move 2 from 9 to 1', 'move 3 from 5 to 2', 'move 4 from 3 to 1', 'move 7 from 7 to 4', 'move 3 from 2 to 6', 'move 4 from 4 to 5', 'move 2 from 1 to 6', 'move 8 from 4 to 1', 'move 1 from 8 to 2', 'move 1 from 2 to 8', 'move 11 from 8 to 7', 'move 3 from 5 to 9', 'move 1 from 5 to 9', 'move 11 from 7 to 1', 'move 7 from 8 to 9', 'move 11 from 1 to 3', 'move 6 from 4 to 5', 'move 8 from 1 to 7', 'move 4 from 6 to 5', 'move 3 from 5 to 8', 'move 8 from 7 to 3', 'move 7 from 4 to 7', 'move 7 from 5 to 6', 'move 3 from 3 to 8', 'move 2 from 4 to 9', 'move 16 from 3 to 1', 'move 7 from 7 to 1', 'move 2 from 8 to 7', 'move 2 from 8 to 1', 'move 1 from 8 to 4', 'move 1 from 7 to 4', 'move 2 from 4 to 2', 'move 1 from 8 to 7', 'move 1 from 2 to 3', 'move 1 from 2 to 4', 'move 1 from 7 to 8', 'move 8 from 6 to 7', 'move 1 from 3 to 5', 'move 15 from 1 to 2', 'move 4 from 9 to 1', 'move 1 from 8 to 1', 'move 11 from 9 to 2', 'move 21 from 2 to 6', 'move 1 from 4 to 2', 'move 4 from 2 to 7', 'move 1 from 5 to 9', 'move 1 from 9 to 4', 'move 19 from 1 to 2', 'move 5 from 2 to 4', 'move 8 from 7 to 6', 'move 10 from 6 to 2', 'move 5 from 7 to 5', 'move 2 from 4 to 1', 'move 3 from 6 to 9', 'move 3 from 9 to 2', 'move 1 from 5 to 2', 'move 13 from 6 to 3', 'move 2 from 6 to 9', 'move 17 from 2 to 3', 'move 1 from 6 to 2', 'move 2 from 2 to 1', 'move 2 from 1 to 5', 'move 5 from 5 to 3', 'move 2 from 2 to 8', 'move 10 from 2 to 1', 'move 18 from 3 to 8', 'move 13 from 8 to 1', 'move 7 from 8 to 2', 'move 2 from 2 to 1', 'move 4 from 3 to 8', 'move 1 from 2 to 7', 'move 1 from 2 to 8', 'move 2 from 4 to 1', 'move 1 from 5 to 4', 'move 1 from 9 to 6', 'move 1 from 1 to 7', 'move 11 from 3 to 4', 'move 1 from 6 to 2', 'move 7 from 1 to 2', 'move 5 from 8 to 5', 'move 1 from 7 to 5', 'move 3 from 5 to 1', 'move 7 from 1 to 6', 'move 6 from 1 to 6', 'move 6 from 1 to 8', 'move 2 from 1 to 3', 'move 5 from 2 to 5', 'move 1 from 7 to 6', 'move 1 from 4 to 2', 'move 4 from 2 to 4', 'move 1 from 1 to 9', 'move 1 from 3 to 8', 'move 7 from 8 to 5', 'move 1 from 9 to 7', 'move 1 from 9 to 4', 'move 8 from 5 to 7', 'move 5 from 4 to 1', 'move 4 from 1 to 6', 'move 3 from 1 to 6', 'move 3 from 3 to 6', 'move 1 from 5 to 6', 'move 3 from 7 to 5', 'move 15 from 6 to 7', 'move 12 from 7 to 4', 'move 8 from 5 to 2', 'move 3 from 4 to 9', 'move 3 from 9 to 7', 'move 1 from 6 to 2', 'move 9 from 4 to 9', 'move 4 from 9 to 1', 'move 2 from 1 to 7', 'move 3 from 6 to 4', 'move 3 from 6 to 4', 'move 2 from 1 to 2', 'move 1 from 5 to 6', 'move 2 from 9 to 4', 'move 13 from 4 to 2', 'move 22 from 2 to 3', 'move 3 from 7 to 8', 'move 1 from 9 to 6', 'move 1 from 9 to 3', 'move 2 from 8 to 9', 'move 3 from 9 to 8', 'move 5 from 6 to 4', 'move 2 from 8 to 6', 'move 4 from 7 to 8', 'move 2 from 2 to 5', 'move 4 from 8 to 7', 'move 2 from 5 to 7', 'move 7 from 7 to 2', 'move 9 from 4 to 7', 'move 4 from 2 to 1', 'move 3 from 7 to 6', 'move 12 from 3 to 5', 'move 5 from 2 to 5', 'move 1 from 8 to 2', 'move 1 from 3 to 5', 'move 4 from 3 to 1', 'move 2 from 6 to 1', 'move 11 from 5 to 3', 'move 3 from 6 to 1', 'move 8 from 1 to 9', 'move 5 from 9 to 8', 'move 2 from 9 to 7', 'move 1 from 1 to 8', 'move 4 from 7 to 6', 'move 6 from 3 to 1', 'move 1 from 9 to 7', 'move 5 from 7 to 4', 'move 3 from 8 to 3', 'move 1 from 6 to 5', 'move 2 from 2 to 1', 'move 4 from 7 to 9', 'move 3 from 8 to 6', 'move 6 from 3 to 8', 'move 6 from 8 to 7', 'move 4 from 6 to 5', 'move 6 from 5 to 8', 'move 2 from 9 to 5', 'move 2 from 9 to 8', 'move 4 from 7 to 4', 'move 1 from 6 to 3', 'move 5 from 8 to 4', 'move 1 from 6 to 9', 'move 1 from 7 to 3', 'move 7 from 3 to 8', 'move 6 from 1 to 4', 'move 6 from 1 to 2', 'move 17 from 4 to 6', 'move 4 from 8 to 5', 'move 3 from 3 to 1', 'move 5 from 4 to 1', 'move 5 from 2 to 7', 'move 7 from 8 to 1', 'move 7 from 7 to 2', 'move 4 from 6 to 3', 'move 6 from 1 to 8', 'move 2 from 4 to 9', 'move 2 from 5 to 4', 'move 1 from 4 to 3', 'move 1 from 4 to 7', 'move 2 from 7 to 5', 'move 4 from 5 to 3', 'move 1 from 9 to 1', 'move 5 from 5 to 3', 'move 1 from 8 to 5', 'move 7 from 6 to 1', 'move 6 from 6 to 8', 'move 11 from 3 to 7', 'move 2 from 9 to 1', 'move 8 from 8 to 2', 'move 5 from 7 to 5', 'move 5 from 7 to 4', 'move 1 from 2 to 6', 'move 2 from 4 to 6', 'move 1 from 7 to 5', 'move 2 from 6 to 4', 'move 10 from 2 to 6', 'move 3 from 4 to 5', 'move 1 from 6 to 4', 'move 4 from 6 to 4', 'move 6 from 6 to 9', 'move 3 from 3 to 8', 'move 19 from 1 to 8', 'move 23 from 8 to 9', 'move 1 from 8 to 1', 'move 1 from 1 to 7', 'move 1 from 7 to 1', 'move 1 from 1 to 6', 'move 5 from 9 to 5', 'move 1 from 8 to 5', 'move 5 from 4 to 5', 'move 4 from 5 to 4', 'move 1 from 9 to 1', 'move 6 from 9 to 3', 'move 2 from 2 to 8', 'move 1 from 1 to 3', 'move 1 from 6 to 7', 'move 1 from 7 to 3', 'move 1 from 2 to 5', 'move 6 from 9 to 8', 'move 5 from 4 to 5', 'move 10 from 5 to 2', 'move 10 from 5 to 2', 'move 11 from 9 to 1', 'move 4 from 2 to 6', 'move 18 from 2 to 9', 'move 2 from 6 to 9', 'move 3 from 3 to 9', 'move 1 from 4 to 3', 'move 1 from 6 to 8', 'move 6 from 8 to 4', 'move 6 from 5 to 7', 'move 19 from 9 to 4', 'move 7 from 1 to 3', 'move 1 from 6 to 8', 'move 4 from 8 to 7', 'move 2 from 3 to 6', 'move 3 from 1 to 8', 'move 1 from 1 to 5', 'move 7 from 7 to 3', 'move 8 from 3 to 1', 'move 1 from 5 to 7', 'move 2 from 6 to 2', 'move 3 from 1 to 8', 'move 1 from 2 to 6', 'move 3 from 1 to 7', 'move 4 from 8 to 9', 'move 4 from 7 to 6', 'move 3 from 9 to 7', 'move 3 from 9 to 3', 'move 6 from 7 to 3', 'move 13 from 3 to 1', 'move 5 from 3 to 4', 'move 1 from 8 to 7', 'move 1 from 7 to 9', 'move 1 from 8 to 5', 'move 1 from 9 to 4', 'move 1 from 5 to 2', 'move 2 from 9 to 2', 'move 3 from 6 to 2', 'move 1 from 3 to 7', 'move 13 from 4 to 8', 'move 14 from 1 to 5', 'move 6 from 2 to 7', 'move 4 from 8 to 7', 'move 1 from 1 to 3', 'move 1 from 2 to 6', 'move 5 from 4 to 2', 'move 4 from 8 to 4', 'move 12 from 5 to 4', 'move 1 from 3 to 8', 'move 9 from 4 to 2', 'move 9 from 4 to 5', 'move 1 from 4 to 5', 'move 6 from 4 to 3', 'move 5 from 8 to 4', 'move 9 from 4 to 7', 'move 4 from 2 to 3', 'move 8 from 7 to 1', 'move 2 from 7 to 1', 'move 2 from 2 to 9', 'move 1 from 6 to 7', 'move 2 from 6 to 3', 'move 1 from 2 to 3', 'move 2 from 7 to 3', 'move 3 from 3 to 7', 'move 8 from 1 to 2', 'move 9 from 5 to 3', 'move 15 from 2 to 7', 'move 20 from 7 to 5', 'move 23 from 5 to 6', 'move 20 from 6 to 8', 'move 1 from 6 to 4', 'move 2 from 9 to 7', 'move 1 from 4 to 6', 'move 3 from 7 to 6', 'move 2 from 7 to 5', 'move 13 from 3 to 5', 'move 3 from 7 to 1', 'move 13 from 5 to 4', 'move 3 from 1 to 4', 'move 5 from 6 to 1', 'move 6 from 4 to 3', 'move 1 from 7 to 4', 'move 11 from 8 to 6', 'move 1 from 8 to 6', 'move 2 from 1 to 5', 'move 2 from 5 to 3', 'move 11 from 6 to 5', 'move 3 from 8 to 3', 'move 4 from 3 to 5', 'move 15 from 5 to 1', 'move 1 from 3 to 5', 'move 3 from 8 to 5', 'move 1 from 5 to 9', 'move 1 from 5 to 3', 'move 9 from 4 to 6', 'move 7 from 6 to 8', 'move 2 from 4 to 6', 'move 2 from 5 to 1', 'move 8 from 8 to 7', 'move 6 from 6 to 2', 'move 1 from 5 to 2', 'move 4 from 3 to 4', 'move 6 from 1 to 5', 'move 7 from 3 to 4', 'move 2 from 3 to 2', 'move 2 from 8 to 9', 'move 9 from 2 to 5', 'move 9 from 5 to 4', 'move 2 from 3 to 6', 'move 14 from 1 to 7', 'move 15 from 7 to 2', 'move 1 from 1 to 7', 'move 7 from 5 to 1', 'move 2 from 9 to 2', 'move 2 from 1 to 7', 'move 1 from 1 to 4', 'move 2 from 6 to 8', 'move 7 from 2 to 8', 'move 1 from 9 to 6', 'move 7 from 8 to 3', 'move 1 from 6 to 4', 'move 1 from 8 to 2', 'move 6 from 4 to 6', 'move 9 from 2 to 1', 'move 1 from 3 to 9', 'move 3 from 7 to 5']\n"
     ]
    }
   ],
   "source": [
    "crates = [x.replace('\\n','') for x in l[:l.index('\\n')]][:-1]\n",
    "crates = np.array([list(x[1::4]) for x in crates])\n",
    "instr = [x.replace('\\n','') for x in l[l.index('\\n') + 1:]]\n",
    "\n",
    "print(crates)\n",
    "print(instr)"
   ]
  },
  {
   "cell_type": "code",
   "execution_count": 117,
   "metadata": {},
   "outputs": [
    {
     "name": "stdout",
     "output_type": "stream",
     "text": [
      "[[' ' ' ' ' ' ' ' ' ' ' ' ' ' ' ' ' ']\n",
      " [' ' ' ' ' ' ' ' ' ' ' ' ' ' ' ' ' ']\n",
      " [' ' ' ' ' ' ' ' ' ' ' ' ' ' ' ' ' ']\n",
      " [' ' ' ' ' ' ' ' ' ' ' ' ' ' ' ' ' ']\n",
      " [' ' ' ' ' ' ' ' ' ' ' ' ' ' ' ' ' ']\n",
      " [' ' ' ' ' ' ' ' ' ' ' ' ' ' ' ' ' ']\n",
      " [' ' ' ' ' ' ' ' ' ' ' ' ' ' ' ' ' ']\n",
      " [' ' ' ' ' ' ' ' ' ' ' ' ' ' ' ' ' ']\n",
      " [' ' ' ' ' ' ' ' ' ' ' ' ' ' ' ' ' ']\n",
      " [' ' ' ' ' ' ' ' ' ' ' ' ' ' ' ' ' ']\n",
      " [' ' ' ' ' ' ' ' ' ' ' ' ' ' ' ' ' ']\n",
      " [' ' ' ' ' ' ' ' ' ' ' ' ' ' ' ' ' ']\n",
      " [' ' ' ' ' ' ' ' ' ' ' ' ' ' ' ' ' ']\n",
      " [' ' ' ' ' ' ' ' ' ' ' ' ' ' ' ' ' ']\n",
      " [' ' ' ' ' ' ' ' ' ' ' ' ' ' ' ' ' ']\n",
      " [' ' ' ' ' ' ' ' ' ' ' ' ' ' ' ' ' ']\n",
      " [' ' ' ' ' ' ' ' ' ' ' ' ' ' ' ' ' ']\n",
      " [' ' ' ' ' ' ' ' ' ' ' ' ' ' ' ' ' ']\n",
      " [' ' ' ' ' ' ' ' ' ' ' ' ' ' ' ' ' ']\n",
      " [' ' ' ' ' ' ' ' ' ' ' ' ' ' ' ' ' ']\n",
      " [' ' ' ' ' ' ' ' ' ' ' ' ' ' ' ' ' ']\n",
      " [' ' ' ' ' ' ' ' ' ' ' ' ' ' ' ' ' ']\n",
      " [' ' ' ' ' ' ' ' ' ' ' ' ' ' ' ' ' ']\n",
      " [' ' ' ' ' ' ' ' ' ' ' ' ' ' ' ' ' ']\n",
      " [' ' ' ' ' ' ' ' ' ' ' ' ' ' ' ' ' ']\n",
      " [' ' ' ' ' ' ' ' ' ' ' ' ' ' ' ' ' ']\n",
      " [' ' ' ' ' ' ' ' ' ' ' ' ' ' ' ' ' ']\n",
      " [' ' ' ' ' ' ' ' ' ' ' ' ' ' ' ' ' ']\n",
      " [' ' ' ' ' ' ' ' ' ' ' ' ' ' ' ' ' ']\n",
      " [' ' ' ' ' ' ' ' ' ' ' ' ' ' ' ' ' ']\n",
      " [' ' ' ' ' ' ' ' ' ' ' ' ' ' ' ' ' ']\n",
      " [' ' ' ' ' ' ' ' ' ' ' ' ' ' ' ' ' ']\n",
      " [' ' ' ' ' ' ' ' ' ' ' ' ' ' ' ' ' ']\n",
      " [' ' ' ' ' ' ' ' ' ' ' ' ' ' ' ' ' ']\n",
      " [' ' ' ' ' ' ' ' ' ' ' ' ' ' ' ' ' ']\n",
      " [' ' ' ' ' ' ' ' ' ' ' ' ' ' ' ' ' ']\n",
      " [' ' ' ' ' ' ' ' ' ' ' ' ' ' ' ' ' ']\n",
      " [' ' ' ' ' ' ' ' ' ' ' ' ' ' ' ' ' ']\n",
      " [' ' ' ' ' ' ' ' ' ' ' ' ' ' ' ' ' ']\n",
      " [' ' ' ' ' ' ' ' ' ' ' ' ' ' ' ' ' ']\n",
      " [' ' ' ' ' ' ' ' ' ' ' ' ' ' ' ' ' ']\n",
      " [' ' ' ' ' ' ' ' ' ' ' ' ' ' ' ' ' ']\n",
      " [' ' ' ' ' ' ' ' ' ' ' ' ' ' ' ' ' ']\n",
      " [' ' ' ' ' ' ' ' ' ' ' ' ' ' ' ' ' ']\n",
      " [' ' ' ' ' ' ' ' ' ' ' ' ' ' ' ' ' ']\n",
      " [' ' ' ' ' ' ' ' ' ' ' ' ' ' ' ' ' ']\n",
      " [' ' ' ' ' ' ' ' ' ' ' ' ' ' ' ' ' ']\n",
      " [' ' ' ' ' ' ' ' ' ' ' ' ' ' ' ' ' ']\n",
      " [' ' ' ' ' ' ' ' ' ' ' ' ' ' ' ' ' ']\n",
      " [' ' ' ' ' ' ' ' ' ' ' ' ' ' ' ' ' ']\n",
      " [' ' ' ' ' ' ' ' ' ' ' ' ' ' ' ' ' ']\n",
      " [' ' ' ' ' ' ' ' ' ' ' ' ' ' ' ' ' ']\n",
      " [' ' ' ' ' ' ' ' ' ' ' ' ' ' ' ' ' ']\n",
      " [' ' ' ' ' ' ' ' ' ' ' ' ' ' ' ' ' ']\n",
      " [' ' ' ' ' ' ' ' ' ' ' ' ' ' ' ' ' ']\n",
      " [' ' ' ' ' ' ' ' ' ' ' ' ' ' ' ' ' ']\n",
      " [' ' ' ' ' ' ' ' ' ' ' ' ' ' ' ' ' ']\n",
      " [' ' ' ' ' ' ' ' ' ' ' ' ' ' ' ' ' ']\n",
      " [' ' ' ' ' ' ' ' ' ' ' ' ' ' ' ' ' ']\n",
      " [' ' ' ' ' ' ' ' ' ' ' ' ' ' ' ' ' ']\n",
      " [' ' ' ' ' ' ' ' ' ' ' ' ' ' ' ' ' ']\n",
      " [' ' ' ' ' ' ' ' ' ' ' ' ' ' ' ' ' ']\n",
      " [' ' ' ' ' ' ' ' ' ' ' ' ' ' ' ' ' ']\n",
      " [' ' ' ' ' ' ' ' ' ' ' ' ' ' ' ' ' ']\n",
      " [' ' ' ' ' ' ' ' ' ' ' ' ' ' ' ' ' ']\n",
      " [' ' ' ' ' ' ' ' ' ' ' ' ' ' ' ' ' ']\n",
      " [' ' ' ' ' ' ' ' ' ' ' ' ' ' ' ' ' ']\n",
      " [' ' ' ' ' ' ' ' ' ' ' ' ' ' ' ' ' ']\n",
      " [' ' ' ' ' ' ' ' ' ' ' ' ' ' ' ' ' ']\n",
      " [' ' ' ' ' ' ' ' ' ' ' ' ' ' ' ' ' ']\n",
      " [' ' ' ' ' ' ' ' ' ' ' ' ' ' ' ' ' ']\n",
      " [' ' ' ' ' ' ' ' ' ' ' ' ' ' ' ' ' ']\n",
      " [' ' ' ' ' ' ' ' ' ' ' ' ' ' ' ' ' ']\n",
      " [' ' ' ' ' ' ' ' ' ' ' ' ' ' ' ' ' ']\n",
      " [' ' ' ' ' ' ' ' ' ' ' ' ' ' ' ' ' ']\n",
      " [' ' ' ' ' ' ' ' ' ' ' ' ' ' ' ' ' ']\n",
      " [' ' ' ' ' ' ' ' ' ' ' ' ' ' ' ' ' ']\n",
      " [' ' ' ' ' ' ' ' ' ' ' ' ' ' ' ' ' ']\n",
      " [' ' ' ' ' ' ' ' ' ' ' ' ' ' ' ' ' ']\n",
      " [' ' ' ' ' ' ' ' ' ' ' ' ' ' ' ' ' ']\n",
      " [' ' ' ' ' ' ' ' ' ' ' ' ' ' ' ' ' ']\n",
      " [' ' ' ' ' ' ' ' ' ' ' ' ' ' ' ' ' ']\n",
      " [' ' ' ' ' ' ' ' ' ' ' ' ' ' ' ' ' ']\n",
      " [' ' ' ' ' ' ' ' ' ' ' ' ' ' ' ' ' ']\n",
      " [' ' ' ' ' ' ' ' ' ' ' ' ' ' ' ' ' ']\n",
      " [' ' ' ' ' ' ' ' ' ' ' ' ' ' ' ' ' ']\n",
      " [' ' ' ' ' ' ' ' ' ' ' ' ' ' ' ' ' ']\n",
      " [' ' ' ' ' ' ' ' ' ' ' ' ' ' ' ' ' ']\n",
      " [' ' ' ' ' ' ' ' ' ' ' ' ' ' ' ' ' ']\n",
      " [' ' ' ' ' ' ' ' ' ' ' ' ' ' ' ' ' ']\n",
      " [' ' ' ' ' ' ' ' ' ' ' ' ' ' ' ' ' ']\n",
      " [' ' ' ' ' ' ' ' ' ' ' ' ' ' ' ' ' ']\n",
      " [' ' ' ' ' ' 'H' ' ' ' ' ' ' ' ' ' ']\n",
      " [' ' ' ' ' ' 'B' ' ' ' ' ' ' ' ' ' ']\n",
      " ['J' ' ' ' ' 'H' ' ' ' ' ' ' ' ' ' ']\n",
      " ['P' ' ' ' ' 'L' ' ' ' ' ' ' ' ' ' ']\n",
      " ['P' ' ' ' ' 'F' ' ' ' ' ' ' ' ' ' ']\n",
      " ['B' ' ' ' ' 'W' ' ' ' ' ' ' ' ' ' ']\n",
      " ['F' ' ' ' ' 'D' ' ' ' ' ' ' ' ' ' ']\n",
      " ['S' ' ' ' ' 'J' ' ' ' ' ' ' ' ' ' ']\n",
      " ['H' ' ' ' ' 'C' ' ' ' ' ' ' ' ' ' ']\n",
      " ['W' ' ' ' ' 'N' ' ' ' ' 'G' ' ' ' ']\n",
      " ['T' ' ' 'M' 'M' ' ' 'V' 'R' ' ' ' ']\n",
      " ['S' ' ' 'S' 'W' ' ' 'F' 'G' ' ' ' ']\n",
      " ['J' ' ' 'W' 'R' ' ' 'Z' 'R' ' ' ' ']\n",
      " ['D' ' ' 'J' 'T' 'L' 'T' 'P' ' ' ' ']\n",
      " ['G' 'C' 'Q' 'F' 'N' 'M' 'W' ' ' ' ']\n",
      " ['C' 'D' 'L' 'C' 'S' 'S' 'H' 'M' 'G']]\n"
     ]
    }
   ],
   "source": [
    "c = crates.copy()\n",
    "space = np.repeat(np.repeat(' ', crates.shape[1])[np.newaxis], 100, 0)\n",
    "c = np.concatenate([space, crates])\n",
    "for i in instr:\n",
    "    nums = re.findall(r'\\d+', i)\n",
    "    num = int(nums[0])\n",
    "    from_col = int(nums[1]) - 1\n",
    "    to_col = int(nums[2]) - 1\n",
    "    # num = 1\n",
    "    # to_col = 1\n",
    "    # from_col = 0\n",
    "    for o in range(num):\n",
    "        from_row = np.nonzero(c[:,from_col] != ' ')[0][0]\n",
    "        to_row = np.nonzero(c[:,to_col] == ' ')[0][-1]\n",
    "        val = c[from_row, from_col]\n",
    "        c[from_row, from_col] = ' '\n",
    "        c[to_row, to_col] = val\n",
    "print(c)\n",
    "        "
   ]
  },
  {
   "cell_type": "code",
   "execution_count": 118,
   "metadata": {},
   "outputs": [
    {
     "name": "stdout",
     "output_type": "stream",
     "text": [
      "JCMHLVGMG\n"
     ]
    }
   ],
   "source": [
    "tops = []\n",
    "for from_col in range(c.shape[1]):\n",
    "    from_row = np.nonzero(c[:,from_col] != ' ')[0][0]\n",
    "    val = c[from_row, from_col]\n",
    "    tops.append(val)\n",
    "print(''.join(tops))"
   ]
  }
 ],
 "metadata": {
  "kernelspec": {
   "display_name": "Python 3.8.5 64-bit",
   "language": "python",
   "name": "python3"
  },
  "language_info": {
   "codemirror_mode": {
    "name": "ipython",
    "version": 3
   },
   "file_extension": ".py",
   "mimetype": "text/x-python",
   "name": "python",
   "nbconvert_exporter": "python",
   "pygments_lexer": "ipython3",
   "version": "3.8.5"
  },
  "orig_nbformat": 4,
  "vscode": {
   "interpreter": {
    "hash": "e949ccd788bb9c3a352ca3b519f08a10b81435dced42a385a6f33eb27afa8742"
   }
  }
 },
 "nbformat": 4,
 "nbformat_minor": 2
}
