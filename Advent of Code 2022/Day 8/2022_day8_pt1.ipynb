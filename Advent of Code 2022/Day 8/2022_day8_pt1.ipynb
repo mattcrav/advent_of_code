{
 "cells": [
  {
   "cell_type": "code",
   "execution_count": 32,
   "metadata": {},
   "outputs": [],
   "source": [
    "import numpy as np\n",
    "import pandas as pd"
   ]
  },
  {
   "cell_type": "code",
   "execution_count": 33,
   "metadata": {},
   "outputs": [
    {
     "name": "stdout",
     "output_type": "stream",
     "text": [
      "[[2 0 2 ... 3 0 0]\n",
      " [2 1 2 ... 1 1 0]\n",
      " [3 3 2 ... 2 0 1]\n",
      " ...\n",
      " [2 0 1 ... 0 3 3]\n",
      " [0 3 0 ... 1 0 1]\n",
      " [3 0 1 ... 1 3 3]]\n"
     ]
    }
   ],
   "source": [
    "# df = pd.read_csv('2022_day8_sample.csv', header=None)\n",
    "df = pd.read_csv('2022_day8.csv', header=None)\n",
    "na = df[0].astype(str).str.split('', expand=True).to_numpy()[:,1:-1].astype(int)\n",
    "print(na)"
   ]
  },
  {
   "cell_type": "code",
   "execution_count": 34,
   "metadata": {},
   "outputs": [
    {
     "name": "stdout",
     "output_type": "stream",
     "text": [
      "[[1. 1. 1. ... 1. 1. 1.]\n",
      " [1. 0. 0. ... 0. 0. 1.]\n",
      " [1. 0. 0. ... 0. 0. 1.]\n",
      " ...\n",
      " [1. 0. 0. ... 0. 0. 1.]\n",
      " [1. 0. 0. ... 0. 0. 1.]\n",
      " [1. 1. 1. ... 1. 1. 1.]]\n"
     ]
    }
   ],
   "source": [
    "res = np.ones(na.shape)\n",
    "res[1:-1, 1:-1] = 0\n",
    "print(res)"
   ]
  },
  {
   "cell_type": "code",
   "execution_count": 35,
   "metadata": {},
   "outputs": [],
   "source": [
    "for x in range(na.shape[0])[1:-1]:\n",
    "    for y in range(na.shape[1])[1:-1]:\n",
    "        res[x,y] = na[x,y] > min([max(na[x,:y]), max(na[x,y+1:]), max(na[:x,y]), max(na[x+1:,y])])"
   ]
  },
  {
   "cell_type": "code",
   "execution_count": 36,
   "metadata": {},
   "outputs": [
    {
     "name": "stdout",
     "output_type": "stream",
     "text": [
      "1669.0\n",
      "[[1. 1. 1. ... 1. 1. 1.]\n",
      " [1. 1. 0. ... 0. 1. 1.]\n",
      " [1. 1. 0. ... 1. 0. 1.]\n",
      " ...\n",
      " [1. 0. 0. ... 0. 0. 1.]\n",
      " [1. 1. 0. ... 0. 0. 1.]\n",
      " [1. 1. 1. ... 1. 1. 1.]]\n"
     ]
    }
   ],
   "source": [
    "print(res.sum())\n",
    "print(res)"
   ]
  }
 ],
 "metadata": {
  "kernelspec": {
   "display_name": "Python 3.8.5 64-bit",
   "language": "python",
   "name": "python3"
  },
  "language_info": {
   "codemirror_mode": {
    "name": "ipython",
    "version": 3
   },
   "file_extension": ".py",
   "mimetype": "text/x-python",
   "name": "python",
   "nbconvert_exporter": "python",
   "pygments_lexer": "ipython3",
   "version": "3.8.5"
  },
  "orig_nbformat": 4,
  "vscode": {
   "interpreter": {
    "hash": "e949ccd788bb9c3a352ca3b519f08a10b81435dced42a385a6f33eb27afa8742"
   }
  }
 },
 "nbformat": 4,
 "nbformat_minor": 2
}
