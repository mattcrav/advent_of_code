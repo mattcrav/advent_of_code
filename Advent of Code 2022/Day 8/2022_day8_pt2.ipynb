{
 "cells": [
  {
   "cell_type": "code",
   "execution_count": 7,
   "metadata": {},
   "outputs": [],
   "source": [
    "import numpy as np\n",
    "import pandas as pd"
   ]
  },
  {
   "cell_type": "code",
   "execution_count": 8,
   "metadata": {},
   "outputs": [
    {
     "name": "stdout",
     "output_type": "stream",
     "text": [
      "[[2 0 2 ... 3 0 0]\n",
      " [2 1 2 ... 1 1 0]\n",
      " [3 3 2 ... 2 0 1]\n",
      " ...\n",
      " [2 0 1 ... 0 3 3]\n",
      " [0 3 0 ... 1 0 1]\n",
      " [3 0 1 ... 1 3 3]]\n"
     ]
    }
   ],
   "source": [
    "# df = pd.read_csv('2022_day8_sample.csv', header=None)\n",
    "df = pd.read_csv('2022_day8.csv', header=None)\n",
    "na = df[0].astype(str).str.split('', expand=True).to_numpy()[:,1:-1].astype(int)\n",
    "print(na)"
   ]
  },
  {
   "cell_type": "code",
   "execution_count": 9,
   "metadata": {},
   "outputs": [
    {
     "name": "stdout",
     "output_type": "stream",
     "text": [
      "[[0. 0. 0. ... 0. 0. 0.]\n",
      " [0. 0. 0. ... 0. 0. 0.]\n",
      " [0. 0. 0. ... 0. 0. 0.]\n",
      " ...\n",
      " [0. 0. 0. ... 0. 0. 0.]\n",
      " [0. 0. 0. ... 0. 0. 0.]\n",
      " [0. 0. 0. ... 0. 0. 0.]]\n"
     ]
    }
   ],
   "source": [
    "res = np.zeros(na.shape)\n",
    "print(res)"
   ]
  },
  {
   "cell_type": "code",
   "execution_count": 10,
   "metadata": {},
   "outputs": [],
   "source": [
    "for x in range(na.shape[0])[1:-1]:\n",
    "    for y in range(na.shape[1])[1:-1]:\n",
    "        l = na[x,:y][::-1]\n",
    "        r = na[x,y+1:]\n",
    "        u = na[:x,y][::-1]\n",
    "        d = na[x+1:,y]\n",
    "        lz = np.nonzero(l >= na[x,y])[0]\n",
    "        rz = np.nonzero(r >= na[x,y])[0]\n",
    "        uz = np.nonzero(u >= na[x,y])[0]\n",
    "        dz = np.nonzero(d >= na[x,y])[0]\n",
    "        if len(lz) == 0:\n",
    "            ls = len(l)\n",
    "        else:\n",
    "            ls = lz.min() + 1\n",
    "        if len(rz) == 0:\n",
    "            rs = len(r)\n",
    "        else:\n",
    "            rs = rz.min() + 1\n",
    "        if len(uz) == 0:\n",
    "            us = len(u)\n",
    "        else:\n",
    "            us = uz.min() + 1\n",
    "        if len(dz) == 0:\n",
    "            ds = len(d)\n",
    "        else:\n",
    "            ds = dz.min() + 1\n",
    "        res[x,y] = ls * rs * ds * us"
   ]
  },
  {
   "cell_type": "code",
   "execution_count": 11,
   "metadata": {},
   "outputs": [
    {
     "name": "stdout",
     "output_type": "stream",
     "text": [
      "331344.0\n",
      "[[ 0.  0.  0. ...  0.  0.  0.]\n",
      " [ 0.  1.  2. ...  1.  2.  0.]\n",
      " [ 0. 84. 20. ... 16.  1.  0.]\n",
      " ...\n",
      " [ 0.  1.  8. ...  1.  4.  0.]\n",
      " [ 0.  9.  1. ...  4.  1.  0.]\n",
      " [ 0.  0.  0. ...  0.  0.  0.]]\n"
     ]
    }
   ],
   "source": [
    "print(res.max())\n",
    "print(res)"
   ]
  }
 ],
 "metadata": {
  "kernelspec": {
   "display_name": "Python 3.8.5 64-bit",
   "language": "python",
   "name": "python3"
  },
  "language_info": {
   "codemirror_mode": {
    "name": "ipython",
    "version": 3
   },
   "file_extension": ".py",
   "mimetype": "text/x-python",
   "name": "python",
   "nbconvert_exporter": "python",
   "pygments_lexer": "ipython3",
   "version": "3.8.5"
  },
  "orig_nbformat": 4,
  "vscode": {
   "interpreter": {
    "hash": "e949ccd788bb9c3a352ca3b519f08a10b81435dced42a385a6f33eb27afa8742"
   }
  }
 },
 "nbformat": 4,
 "nbformat_minor": 2
}
