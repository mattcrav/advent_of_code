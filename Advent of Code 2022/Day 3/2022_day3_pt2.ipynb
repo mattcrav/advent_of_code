{
 "cells": [
  {
   "cell_type": "code",
   "execution_count": 17,
   "metadata": {},
   "outputs": [],
   "source": [
    "import pandas as pd\n",
    "import numpy as np\n",
    "import string"
   ]
  },
  {
   "cell_type": "code",
   "execution_count": 18,
   "metadata": {},
   "outputs": [
    {
     "data": {
      "text/html": [
       "<div>\n",
       "<style scoped>\n",
       "    .dataframe tbody tr th:only-of-type {\n",
       "        vertical-align: middle;\n",
       "    }\n",
       "\n",
       "    .dataframe tbody tr th {\n",
       "        vertical-align: top;\n",
       "    }\n",
       "\n",
       "    .dataframe thead th {\n",
       "        text-align: right;\n",
       "    }\n",
       "</style>\n",
       "<table border=\"1\" class=\"dataframe\">\n",
       "  <thead>\n",
       "    <tr style=\"text-align: right;\">\n",
       "      <th></th>\n",
       "      <th>list</th>\n",
       "    </tr>\n",
       "  </thead>\n",
       "  <tbody>\n",
       "    <tr>\n",
       "      <th>0</th>\n",
       "      <td>hqBqJsqHhHvhHHqlBvlfpHQQwLVzVwtVzjzttjQVSjMjwL</td>\n",
       "    </tr>\n",
       "    <tr>\n",
       "      <th>1</th>\n",
       "      <td>gRTRnCRsFNGbTzLjwcSTMmSz</td>\n",
       "    </tr>\n",
       "    <tr>\n",
       "      <th>2</th>\n",
       "      <td>dGgsRWPGdWgZJqBBqhfpPq</td>\n",
       "    </tr>\n",
       "    <tr>\n",
       "      <th>3</th>\n",
       "      <td>HNCNJHCWJRRLqNJWlfrrrwsmlwGmmf</td>\n",
       "    </tr>\n",
       "    <tr>\n",
       "      <th>4</th>\n",
       "      <td>dddvLdLjdDvjvswlmGwlZQtjrt</td>\n",
       "    </tr>\n",
       "  </tbody>\n",
       "</table>\n",
       "</div>"
      ],
      "text/plain": [
       "                                             list\n",
       "0  hqBqJsqHhHvhHHqlBvlfpHQQwLVzVwtVzjzttjQVSjMjwL\n",
       "1                        gRTRnCRsFNGbTzLjwcSTMmSz\n",
       "2                          dGgsRWPGdWgZJqBBqhfpPq\n",
       "3                  HNCNJHCWJRRLqNJWlfrrrwsmlwGmmf\n",
       "4                      dddvLdLjdDvjvswlmGwlZQtjrt"
      ]
     },
     "execution_count": 18,
     "metadata": {},
     "output_type": "execute_result"
    }
   ],
   "source": [
    "# df = pd.read_csv('2022_day3_sample.csv', header=None, names=['list'])\n",
    "df = pd.read_csv('2022_day3.csv', header=None, names=['list'])\n",
    "df.head()"
   ]
  },
  {
   "cell_type": "code",
   "execution_count": 19,
   "metadata": {},
   "outputs": [
    {
     "data": {
      "text/html": [
       "<div>\n",
       "<style scoped>\n",
       "    .dataframe tbody tr th:only-of-type {\n",
       "        vertical-align: middle;\n",
       "    }\n",
       "\n",
       "    .dataframe tbody tr th {\n",
       "        vertical-align: top;\n",
       "    }\n",
       "\n",
       "    .dataframe thead th {\n",
       "        text-align: right;\n",
       "    }\n",
       "</style>\n",
       "<table border=\"1\" class=\"dataframe\">\n",
       "  <thead>\n",
       "    <tr style=\"text-align: right;\">\n",
       "      <th></th>\n",
       "      <th>list</th>\n",
       "      <th>group</th>\n",
       "    </tr>\n",
       "  </thead>\n",
       "  <tbody>\n",
       "    <tr>\n",
       "      <th>0</th>\n",
       "      <td>hqBqJsqHhHvhHHqlBvlfpHQQwLVzVwtVzjzttjQVSjMjwL</td>\n",
       "      <td>1</td>\n",
       "    </tr>\n",
       "    <tr>\n",
       "      <th>1</th>\n",
       "      <td>gRTRnCRsFNGbTzLjwcSTMmSz</td>\n",
       "      <td>1</td>\n",
       "    </tr>\n",
       "    <tr>\n",
       "      <th>2</th>\n",
       "      <td>dGgsRWPGdWgZJqBBqhfpPq</td>\n",
       "      <td>1</td>\n",
       "    </tr>\n",
       "    <tr>\n",
       "      <th>3</th>\n",
       "      <td>HNCNJHCWJRRLqNJWlfrrrwsmlwGmmf</td>\n",
       "      <td>2</td>\n",
       "    </tr>\n",
       "    <tr>\n",
       "      <th>4</th>\n",
       "      <td>dddvLdLjdDvjvswlmGwlZQtjrt</td>\n",
       "      <td>2</td>\n",
       "    </tr>\n",
       "  </tbody>\n",
       "</table>\n",
       "</div>"
      ],
      "text/plain": [
       "                                             list  group\n",
       "0  hqBqJsqHhHvhHHqlBvlfpHQQwLVzVwtVzjzttjQVSjMjwL      1\n",
       "1                        gRTRnCRsFNGbTzLjwcSTMmSz      1\n",
       "2                          dGgsRWPGdWgZJqBBqhfpPq      1\n",
       "3                  HNCNJHCWJRRLqNJWlfrrrwsmlwGmmf      2\n",
       "4                      dddvLdLjdDvjvswlmGwlZQtjrt      2"
      ]
     },
     "execution_count": 19,
     "metadata": {},
     "output_type": "execute_result"
    }
   ],
   "source": [
    "grp_cnt = int(len(df) / 3)\n",
    "df['group'] = np.repeat(range(1, grp_cnt + 1), 3)\n",
    "df.head()"
   ]
  },
  {
   "cell_type": "code",
   "execution_count": 20,
   "metadata": {},
   "outputs": [
    {
     "data": {
      "text/html": [
       "<div>\n",
       "<style scoped>\n",
       "    .dataframe tbody tr th:only-of-type {\n",
       "        vertical-align: middle;\n",
       "    }\n",
       "\n",
       "    .dataframe tbody tr th {\n",
       "        vertical-align: top;\n",
       "    }\n",
       "\n",
       "    .dataframe thead th {\n",
       "        text-align: right;\n",
       "    }\n",
       "</style>\n",
       "<table border=\"1\" class=\"dataframe\">\n",
       "  <thead>\n",
       "    <tr style=\"text-align: right;\">\n",
       "      <th></th>\n",
       "      <th>1</th>\n",
       "      <th>2</th>\n",
       "      <th>3</th>\n",
       "    </tr>\n",
       "  </thead>\n",
       "  <tbody>\n",
       "    <tr>\n",
       "      <th>0</th>\n",
       "      <td>hqBqJsqHhHvhHHqlBvlfpHQQwLVzVwtVzjzttjQVSjMjwL</td>\n",
       "      <td>gRTRnCRsFNGbTzLjwcSTMmSz</td>\n",
       "      <td>dGgsRWPGdWgZJqBBqhfpPq</td>\n",
       "    </tr>\n",
       "    <tr>\n",
       "      <th>1</th>\n",
       "      <td>HNCNJHCWJRRLqNJWlfrrrwsmlwGmmf</td>\n",
       "      <td>dddvLdLjdDvjvswlmGwlZQtjrt</td>\n",
       "      <td>dvcpbLVcvNJJHNPHSp</td>\n",
       "    </tr>\n",
       "    <tr>\n",
       "      <th>2</th>\n",
       "      <td>QDprSpLQRLQrQDmQcQFZjbbhZwdRsRFbbBss</td>\n",
       "      <td>gWGGPgNvJlgJzDlNGHCGPNZZgFBbsjbFFBwZwfhdZbZB</td>\n",
       "      <td>lHTlGMHlGCPNvClzGzJHvGcrMcVtLqMLcrrQVcVDrqrm</td>\n",
       "    </tr>\n",
       "    <tr>\n",
       "      <th>3</th>\n",
       "      <td>SrBpJFfldlFNslFJBZwsmwgVGGsCCVmZZD</td>\n",
       "      <td>jLtjvzLQMtWjbbQvDZZwGRJGgwggGZgv</td>\n",
       "      <td>MzqqjznQPqnnjznnctnFlSddPfHflhfBJFNdHd</td>\n",
       "    </tr>\n",
       "    <tr>\n",
       "      <th>4</th>\n",
       "      <td>mPNNGVCRngnSbgNw</td>\n",
       "      <td>WqsqlTssgvqvZWZzhsTzWhScdHtfJJnfbtSJwfczdtSS</td>\n",
       "      <td>sqTvhpqQvWZQLmDpDGMDGrgL</td>\n",
       "    </tr>\n",
       "  </tbody>\n",
       "</table>\n",
       "</div>"
      ],
      "text/plain": [
       "                                                1  \\\n",
       "0  hqBqJsqHhHvhHHqlBvlfpHQQwLVzVwtVzjzttjQVSjMjwL   \n",
       "1                  HNCNJHCWJRRLqNJWlfrrrwsmlwGmmf   \n",
       "2            QDprSpLQRLQrQDmQcQFZjbbhZwdRsRFbbBss   \n",
       "3              SrBpJFfldlFNslFJBZwsmwgVGGsCCVmZZD   \n",
       "4                                mPNNGVCRngnSbgNw   \n",
       "\n",
       "                                              2  \\\n",
       "0                      gRTRnCRsFNGbTzLjwcSTMmSz   \n",
       "1                    dddvLdLjdDvjvswlmGwlZQtjrt   \n",
       "2  gWGGPgNvJlgJzDlNGHCGPNZZgFBbsjbFFBwZwfhdZbZB   \n",
       "3              jLtjvzLQMtWjbbQvDZZwGRJGgwggGZgv   \n",
       "4  WqsqlTssgvqvZWZzhsTzWhScdHtfJJnfbtSJwfczdtSS   \n",
       "\n",
       "                                              3  \n",
       "0                        dGgsRWPGdWgZJqBBqhfpPq  \n",
       "1                            dvcpbLVcvNJJHNPHSp  \n",
       "2  lHTlGMHlGCPNvClzGzJHvGcrMcVtLqMLcrrQVcVDrqrm  \n",
       "3        MzqqjznQPqnnjznnctnFlSddPfHflhfBJFNdHd  \n",
       "4                      sqTvhpqQvWZQLmDpDGMDGrgL  "
      ]
     },
     "execution_count": 20,
     "metadata": {},
     "output_type": "execute_result"
    }
   ],
   "source": [
    "g = df.groupby('group')['list'].apply(list)\n",
    "g = pd.DataFrame(g.to_list(), columns=[1,2,3])\n",
    "g.head()"
   ]
  },
  {
   "cell_type": "code",
   "execution_count": 21,
   "metadata": {},
   "outputs": [
    {
     "data": {
      "text/html": [
       "<div>\n",
       "<style scoped>\n",
       "    .dataframe tbody tr th:only-of-type {\n",
       "        vertical-align: middle;\n",
       "    }\n",
       "\n",
       "    .dataframe tbody tr th {\n",
       "        vertical-align: top;\n",
       "    }\n",
       "\n",
       "    .dataframe thead th {\n",
       "        text-align: right;\n",
       "    }\n",
       "</style>\n",
       "<table border=\"1\" class=\"dataframe\">\n",
       "  <thead>\n",
       "    <tr style=\"text-align: right;\">\n",
       "      <th></th>\n",
       "      <th>1</th>\n",
       "      <th>2</th>\n",
       "      <th>3</th>\n",
       "      <th>both</th>\n",
       "    </tr>\n",
       "  </thead>\n",
       "  <tbody>\n",
       "    <tr>\n",
       "      <th>0</th>\n",
       "      <td>hqBqJsqHhHvhHHqlBvlfpHQQwLVzVwtVzjzttjQVSjMjwL</td>\n",
       "      <td>gRTRnCRsFNGbTzLjwcSTMmSz</td>\n",
       "      <td>dGgsRWPGdWgZJqBBqhfpPq</td>\n",
       "      <td>s</td>\n",
       "    </tr>\n",
       "    <tr>\n",
       "      <th>1</th>\n",
       "      <td>HNCNJHCWJRRLqNJWlfrrrwsmlwGmmf</td>\n",
       "      <td>dddvLdLjdDvjvswlmGwlZQtjrt</td>\n",
       "      <td>dvcpbLVcvNJJHNPHSp</td>\n",
       "      <td>L</td>\n",
       "    </tr>\n",
       "    <tr>\n",
       "      <th>2</th>\n",
       "      <td>QDprSpLQRLQrQDmQcQFZjbbhZwdRsRFbbBss</td>\n",
       "      <td>gWGGPgNvJlgJzDlNGHCGPNZZgFBbsjbFFBwZwfhdZbZB</td>\n",
       "      <td>lHTlGMHlGCPNvClzGzJHvGcrMcVtLqMLcrrQVcVDrqrm</td>\n",
       "      <td>D</td>\n",
       "    </tr>\n",
       "    <tr>\n",
       "      <th>3</th>\n",
       "      <td>SrBpJFfldlFNslFJBZwsmwgVGGsCCVmZZD</td>\n",
       "      <td>jLtjvzLQMtWjbbQvDZZwGRJGgwggGZgv</td>\n",
       "      <td>MzqqjznQPqnnjznnctnFlSddPfHflhfBJFNdHd</td>\n",
       "      <td>J</td>\n",
       "    </tr>\n",
       "    <tr>\n",
       "      <th>4</th>\n",
       "      <td>mPNNGVCRngnSbgNw</td>\n",
       "      <td>WqsqlTssgvqvZWZzhsTzWhScdHtfJJnfbtSJwfczdtSS</td>\n",
       "      <td>sqTvhpqQvWZQLmDpDGMDGrgL</td>\n",
       "      <td>g</td>\n",
       "    </tr>\n",
       "  </tbody>\n",
       "</table>\n",
       "</div>"
      ],
      "text/plain": [
       "                                                1  \\\n",
       "0  hqBqJsqHhHvhHHqlBvlfpHQQwLVzVwtVzjzttjQVSjMjwL   \n",
       "1                  HNCNJHCWJRRLqNJWlfrrrwsmlwGmmf   \n",
       "2            QDprSpLQRLQrQDmQcQFZjbbhZwdRsRFbbBss   \n",
       "3              SrBpJFfldlFNslFJBZwsmwgVGGsCCVmZZD   \n",
       "4                                mPNNGVCRngnSbgNw   \n",
       "\n",
       "                                              2  \\\n",
       "0                      gRTRnCRsFNGbTzLjwcSTMmSz   \n",
       "1                    dddvLdLjdDvjvswlmGwlZQtjrt   \n",
       "2  gWGGPgNvJlgJzDlNGHCGPNZZgFBbsjbFFBwZwfhdZbZB   \n",
       "3              jLtjvzLQMtWjbbQvDZZwGRJGgwggGZgv   \n",
       "4  WqsqlTssgvqvZWZzhsTzWhScdHtfJJnfbtSJwfczdtSS   \n",
       "\n",
       "                                              3 both  \n",
       "0                        dGgsRWPGdWgZJqBBqhfpPq    s  \n",
       "1                            dvcpbLVcvNJJHNPHSp    L  \n",
       "2  lHTlGMHlGCPNvClzGzJHvGcrMcVtLqMLcrrQVcVDrqrm    D  \n",
       "3        MzqqjznQPqnnjznnctnFlSddPfHflhfBJFNdHd    J  \n",
       "4                      sqTvhpqQvWZQLmDpDGMDGrgL    g  "
      ]
     },
     "execution_count": 21,
     "metadata": {},
     "output_type": "execute_result"
    }
   ],
   "source": [
    "g['both'] = g.apply(lambda x: list(set(x[1]) & set(x[2]) & set(x[3]))[0], 1)\n",
    "g.head()"
   ]
  },
  {
   "cell_type": "code",
   "execution_count": 22,
   "metadata": {},
   "outputs": [
    {
     "name": "stdout",
     "output_type": "stream",
     "text": [
      "{'a': 1, 'b': 2, 'c': 3, 'd': 4, 'e': 5, 'f': 6, 'g': 7, 'h': 8, 'i': 9, 'j': 10, 'k': 11, 'l': 12, 'm': 13, 'n': 14, 'o': 15, 'p': 16, 'q': 17, 'r': 18, 's': 19, 't': 20, 'u': 21, 'v': 22, 'w': 23, 'x': 24, 'y': 25, 'z': 26, 'A': 27, 'B': 28, 'C': 29, 'D': 30, 'E': 31, 'F': 32, 'G': 33, 'H': 34, 'I': 35, 'J': 36, 'K': 37, 'L': 38, 'M': 39, 'N': 40, 'O': 41, 'P': 42, 'Q': 43, 'R': 44, 'S': 45, 'T': 46, 'U': 47, 'V': 48, 'W': 49, 'X': 50, 'Y': 51, 'Z': 52}\n"
     ]
    }
   ],
   "source": [
    "alpha = string.ascii_lowercase + string.ascii_uppercase\n",
    "scores = dict(zip(alpha, range(1, 53)))\n",
    "print(scores)"
   ]
  },
  {
   "cell_type": "code",
   "execution_count": 23,
   "metadata": {},
   "outputs": [
    {
     "data": {
      "text/html": [
       "<div>\n",
       "<style scoped>\n",
       "    .dataframe tbody tr th:only-of-type {\n",
       "        vertical-align: middle;\n",
       "    }\n",
       "\n",
       "    .dataframe tbody tr th {\n",
       "        vertical-align: top;\n",
       "    }\n",
       "\n",
       "    .dataframe thead th {\n",
       "        text-align: right;\n",
       "    }\n",
       "</style>\n",
       "<table border=\"1\" class=\"dataframe\">\n",
       "  <thead>\n",
       "    <tr style=\"text-align: right;\">\n",
       "      <th></th>\n",
       "      <th>1</th>\n",
       "      <th>2</th>\n",
       "      <th>3</th>\n",
       "      <th>both</th>\n",
       "      <th>score</th>\n",
       "    </tr>\n",
       "  </thead>\n",
       "  <tbody>\n",
       "    <tr>\n",
       "      <th>0</th>\n",
       "      <td>hqBqJsqHhHvhHHqlBvlfpHQQwLVzVwtVzjzttjQVSjMjwL</td>\n",
       "      <td>gRTRnCRsFNGbTzLjwcSTMmSz</td>\n",
       "      <td>dGgsRWPGdWgZJqBBqhfpPq</td>\n",
       "      <td>s</td>\n",
       "      <td>19</td>\n",
       "    </tr>\n",
       "    <tr>\n",
       "      <th>1</th>\n",
       "      <td>HNCNJHCWJRRLqNJWlfrrrwsmlwGmmf</td>\n",
       "      <td>dddvLdLjdDvjvswlmGwlZQtjrt</td>\n",
       "      <td>dvcpbLVcvNJJHNPHSp</td>\n",
       "      <td>L</td>\n",
       "      <td>38</td>\n",
       "    </tr>\n",
       "    <tr>\n",
       "      <th>2</th>\n",
       "      <td>QDprSpLQRLQrQDmQcQFZjbbhZwdRsRFbbBss</td>\n",
       "      <td>gWGGPgNvJlgJzDlNGHCGPNZZgFBbsjbFFBwZwfhdZbZB</td>\n",
       "      <td>lHTlGMHlGCPNvClzGzJHvGcrMcVtLqMLcrrQVcVDrqrm</td>\n",
       "      <td>D</td>\n",
       "      <td>30</td>\n",
       "    </tr>\n",
       "    <tr>\n",
       "      <th>3</th>\n",
       "      <td>SrBpJFfldlFNslFJBZwsmwgVGGsCCVmZZD</td>\n",
       "      <td>jLtjvzLQMtWjbbQvDZZwGRJGgwggGZgv</td>\n",
       "      <td>MzqqjznQPqnnjznnctnFlSddPfHflhfBJFNdHd</td>\n",
       "      <td>J</td>\n",
       "      <td>36</td>\n",
       "    </tr>\n",
       "    <tr>\n",
       "      <th>4</th>\n",
       "      <td>mPNNGVCRngnSbgNw</td>\n",
       "      <td>WqsqlTssgvqvZWZzhsTzWhScdHtfJJnfbtSJwfczdtSS</td>\n",
       "      <td>sqTvhpqQvWZQLmDpDGMDGrgL</td>\n",
       "      <td>g</td>\n",
       "      <td>7</td>\n",
       "    </tr>\n",
       "  </tbody>\n",
       "</table>\n",
       "</div>"
      ],
      "text/plain": [
       "                                                1  \\\n",
       "0  hqBqJsqHhHvhHHqlBvlfpHQQwLVzVwtVzjzttjQVSjMjwL   \n",
       "1                  HNCNJHCWJRRLqNJWlfrrrwsmlwGmmf   \n",
       "2            QDprSpLQRLQrQDmQcQFZjbbhZwdRsRFbbBss   \n",
       "3              SrBpJFfldlFNslFJBZwsmwgVGGsCCVmZZD   \n",
       "4                                mPNNGVCRngnSbgNw   \n",
       "\n",
       "                                              2  \\\n",
       "0                      gRTRnCRsFNGbTzLjwcSTMmSz   \n",
       "1                    dddvLdLjdDvjvswlmGwlZQtjrt   \n",
       "2  gWGGPgNvJlgJzDlNGHCGPNZZgFBbsjbFFBwZwfhdZbZB   \n",
       "3              jLtjvzLQMtWjbbQvDZZwGRJGgwggGZgv   \n",
       "4  WqsqlTssgvqvZWZzhsTzWhScdHtfJJnfbtSJwfczdtSS   \n",
       "\n",
       "                                              3 both  score  \n",
       "0                        dGgsRWPGdWgZJqBBqhfpPq    s     19  \n",
       "1                            dvcpbLVcvNJJHNPHSp    L     38  \n",
       "2  lHTlGMHlGCPNvClzGzJHvGcrMcVtLqMLcrrQVcVDrqrm    D     30  \n",
       "3        MzqqjznQPqnnjznnctnFlSddPfHflhfBJFNdHd    J     36  \n",
       "4                      sqTvhpqQvWZQLmDpDGMDGrgL    g      7  "
      ]
     },
     "execution_count": 23,
     "metadata": {},
     "output_type": "execute_result"
    }
   ],
   "source": [
    "g['score'] = g['both'].map(scores)\n",
    "g.head()"
   ]
  },
  {
   "cell_type": "code",
   "execution_count": 24,
   "metadata": {},
   "outputs": [
    {
     "name": "stdout",
     "output_type": "stream",
     "text": [
      "2805\n"
     ]
    }
   ],
   "source": [
    "print(sum(g['score']))"
   ]
  }
 ],
 "metadata": {
  "kernelspec": {
   "display_name": "Python 3.8.5 64-bit",
   "language": "python",
   "name": "python3"
  },
  "language_info": {
   "codemirror_mode": {
    "name": "ipython",
    "version": 3
   },
   "file_extension": ".py",
   "mimetype": "text/x-python",
   "name": "python",
   "nbconvert_exporter": "python",
   "pygments_lexer": "ipython3",
   "version": "3.8.5"
  },
  "orig_nbformat": 4,
  "vscode": {
   "interpreter": {
    "hash": "e949ccd788bb9c3a352ca3b519f08a10b81435dced42a385a6f33eb27afa8742"
   }
  }
 },
 "nbformat": 4,
 "nbformat_minor": 2
}
