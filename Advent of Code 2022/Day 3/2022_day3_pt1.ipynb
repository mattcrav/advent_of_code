{
 "cells": [
  {
   "cell_type": "code",
   "execution_count": 28,
   "metadata": {},
   "outputs": [],
   "source": [
    "import pandas as pd\n",
    "import numpy as np\n",
    "import string"
   ]
  },
  {
   "cell_type": "code",
   "execution_count": 29,
   "metadata": {},
   "outputs": [
    {
     "data": {
      "text/html": [
       "<div>\n",
       "<style scoped>\n",
       "    .dataframe tbody tr th:only-of-type {\n",
       "        vertical-align: middle;\n",
       "    }\n",
       "\n",
       "    .dataframe tbody tr th {\n",
       "        vertical-align: top;\n",
       "    }\n",
       "\n",
       "    .dataframe thead th {\n",
       "        text-align: right;\n",
       "    }\n",
       "</style>\n",
       "<table border=\"1\" class=\"dataframe\">\n",
       "  <thead>\n",
       "    <tr style=\"text-align: right;\">\n",
       "      <th></th>\n",
       "      <th>list</th>\n",
       "    </tr>\n",
       "  </thead>\n",
       "  <tbody>\n",
       "    <tr>\n",
       "      <th>0</th>\n",
       "      <td>hqBqJsqHhHvhHHqlBvlfpHQQwLVzVwtVzjzttjQVSjMjwL</td>\n",
       "    </tr>\n",
       "    <tr>\n",
       "      <th>1</th>\n",
       "      <td>gRTRnCRsFNGbTzLjwcSTMmSz</td>\n",
       "    </tr>\n",
       "    <tr>\n",
       "      <th>2</th>\n",
       "      <td>dGgsRWPGdWgZJqBBqhfpPq</td>\n",
       "    </tr>\n",
       "    <tr>\n",
       "      <th>3</th>\n",
       "      <td>HNCNJHCWJRRLqNJWlfrrrwsmlwGmmf</td>\n",
       "    </tr>\n",
       "    <tr>\n",
       "      <th>4</th>\n",
       "      <td>dddvLdLjdDvjvswlmGwlZQtjrt</td>\n",
       "    </tr>\n",
       "  </tbody>\n",
       "</table>\n",
       "</div>"
      ],
      "text/plain": [
       "                                             list\n",
       "0  hqBqJsqHhHvhHHqlBvlfpHQQwLVzVwtVzjzttjQVSjMjwL\n",
       "1                        gRTRnCRsFNGbTzLjwcSTMmSz\n",
       "2                          dGgsRWPGdWgZJqBBqhfpPq\n",
       "3                  HNCNJHCWJRRLqNJWlfrrrwsmlwGmmf\n",
       "4                      dddvLdLjdDvjvswlmGwlZQtjrt"
      ]
     },
     "execution_count": 29,
     "metadata": {},
     "output_type": "execute_result"
    }
   ],
   "source": [
    "# df = pd.read_csv('2022_day3_sample.csv', header=None, names=['list'])\n",
    "df = pd.read_csv('2022_day3.csv', header=None, names=['list'])\n",
    "df.head()"
   ]
  },
  {
   "cell_type": "code",
   "execution_count": 30,
   "metadata": {},
   "outputs": [
    {
     "data": {
      "text/html": [
       "<div>\n",
       "<style scoped>\n",
       "    .dataframe tbody tr th:only-of-type {\n",
       "        vertical-align: middle;\n",
       "    }\n",
       "\n",
       "    .dataframe tbody tr th {\n",
       "        vertical-align: top;\n",
       "    }\n",
       "\n",
       "    .dataframe thead th {\n",
       "        text-align: right;\n",
       "    }\n",
       "</style>\n",
       "<table border=\"1\" class=\"dataframe\">\n",
       "  <thead>\n",
       "    <tr style=\"text-align: right;\">\n",
       "      <th></th>\n",
       "      <th>list</th>\n",
       "      <th>len</th>\n",
       "      <th>left</th>\n",
       "      <th>right</th>\n",
       "    </tr>\n",
       "  </thead>\n",
       "  <tbody>\n",
       "    <tr>\n",
       "      <th>0</th>\n",
       "      <td>hqBqJsqHhHvhHHqlBvlfpHQQwLVzVwtVzjzttjQVSjMjwL</td>\n",
       "      <td>23</td>\n",
       "      <td>hqBqJsqHhHvhHHqlBvlfpHQ</td>\n",
       "      <td>QwLVzVwtVzjzttjQVSjMjwL</td>\n",
       "    </tr>\n",
       "    <tr>\n",
       "      <th>1</th>\n",
       "      <td>gRTRnCRsFNGbTzLjwcSTMmSz</td>\n",
       "      <td>12</td>\n",
       "      <td>gRTRnCRsFNGb</td>\n",
       "      <td>TzLjwcSTMmSz</td>\n",
       "    </tr>\n",
       "    <tr>\n",
       "      <th>2</th>\n",
       "      <td>dGgsRWPGdWgZJqBBqhfpPq</td>\n",
       "      <td>11</td>\n",
       "      <td>dGgsRWPGdWg</td>\n",
       "      <td>ZJqBBqhfpPq</td>\n",
       "    </tr>\n",
       "    <tr>\n",
       "      <th>3</th>\n",
       "      <td>HNCNJHCWJRRLqNJWlfrrrwsmlwGmmf</td>\n",
       "      <td>15</td>\n",
       "      <td>HNCNJHCWJRRLqNJ</td>\n",
       "      <td>WlfrrrwsmlwGmmf</td>\n",
       "    </tr>\n",
       "    <tr>\n",
       "      <th>4</th>\n",
       "      <td>dddvLdLjdDvjvswlmGwlZQtjrt</td>\n",
       "      <td>13</td>\n",
       "      <td>dddvLdLjdDvjv</td>\n",
       "      <td>swlmGwlZQtjrt</td>\n",
       "    </tr>\n",
       "  </tbody>\n",
       "</table>\n",
       "</div>"
      ],
      "text/plain": [
       "                                             list  len  \\\n",
       "0  hqBqJsqHhHvhHHqlBvlfpHQQwLVzVwtVzjzttjQVSjMjwL   23   \n",
       "1                        gRTRnCRsFNGbTzLjwcSTMmSz   12   \n",
       "2                          dGgsRWPGdWgZJqBBqhfpPq   11   \n",
       "3                  HNCNJHCWJRRLqNJWlfrrrwsmlwGmmf   15   \n",
       "4                      dddvLdLjdDvjvswlmGwlZQtjrt   13   \n",
       "\n",
       "                      left                    right  \n",
       "0  hqBqJsqHhHvhHHqlBvlfpHQ  QwLVzVwtVzjzttjQVSjMjwL  \n",
       "1             gRTRnCRsFNGb             TzLjwcSTMmSz  \n",
       "2              dGgsRWPGdWg              ZJqBBqhfpPq  \n",
       "3          HNCNJHCWJRRLqNJ          WlfrrrwsmlwGmmf  \n",
       "4            dddvLdLjdDvjv            swlmGwlZQtjrt  "
      ]
     },
     "execution_count": 30,
     "metadata": {},
     "output_type": "execute_result"
    }
   ],
   "source": [
    "df['len'] = df['list'].str.len() / 2\n",
    "df['len'] = df['len'].astype(int)\n",
    "df['left'] = df.apply(lambda x: x['list'][:x['len']], 1)\n",
    "df['right'] = df.apply(lambda x: x['list'][x['len']:], 1)\n",
    "df.head()"
   ]
  },
  {
   "cell_type": "code",
   "execution_count": 31,
   "metadata": {},
   "outputs": [
    {
     "data": {
      "text/html": [
       "<div>\n",
       "<style scoped>\n",
       "    .dataframe tbody tr th:only-of-type {\n",
       "        vertical-align: middle;\n",
       "    }\n",
       "\n",
       "    .dataframe tbody tr th {\n",
       "        vertical-align: top;\n",
       "    }\n",
       "\n",
       "    .dataframe thead th {\n",
       "        text-align: right;\n",
       "    }\n",
       "</style>\n",
       "<table border=\"1\" class=\"dataframe\">\n",
       "  <thead>\n",
       "    <tr style=\"text-align: right;\">\n",
       "      <th></th>\n",
       "      <th>list</th>\n",
       "      <th>len</th>\n",
       "      <th>left</th>\n",
       "      <th>right</th>\n",
       "      <th>both</th>\n",
       "    </tr>\n",
       "  </thead>\n",
       "  <tbody>\n",
       "    <tr>\n",
       "      <th>0</th>\n",
       "      <td>hqBqJsqHhHvhHHqlBvlfpHQQwLVzVwtVzjzttjQVSjMjwL</td>\n",
       "      <td>23</td>\n",
       "      <td>hqBqJsqHhHvhHHqlBvlfpHQ</td>\n",
       "      <td>QwLVzVwtVzjzttjQVSjMjwL</td>\n",
       "      <td>Q</td>\n",
       "    </tr>\n",
       "    <tr>\n",
       "      <th>1</th>\n",
       "      <td>gRTRnCRsFNGbTzLjwcSTMmSz</td>\n",
       "      <td>12</td>\n",
       "      <td>gRTRnCRsFNGb</td>\n",
       "      <td>TzLjwcSTMmSz</td>\n",
       "      <td>T</td>\n",
       "    </tr>\n",
       "    <tr>\n",
       "      <th>2</th>\n",
       "      <td>dGgsRWPGdWgZJqBBqhfpPq</td>\n",
       "      <td>11</td>\n",
       "      <td>dGgsRWPGdWg</td>\n",
       "      <td>ZJqBBqhfpPq</td>\n",
       "      <td>P</td>\n",
       "    </tr>\n",
       "    <tr>\n",
       "      <th>3</th>\n",
       "      <td>HNCNJHCWJRRLqNJWlfrrrwsmlwGmmf</td>\n",
       "      <td>15</td>\n",
       "      <td>HNCNJHCWJRRLqNJ</td>\n",
       "      <td>WlfrrrwsmlwGmmf</td>\n",
       "      <td>W</td>\n",
       "    </tr>\n",
       "    <tr>\n",
       "      <th>4</th>\n",
       "      <td>dddvLdLjdDvjvswlmGwlZQtjrt</td>\n",
       "      <td>13</td>\n",
       "      <td>dddvLdLjdDvjv</td>\n",
       "      <td>swlmGwlZQtjrt</td>\n",
       "      <td>j</td>\n",
       "    </tr>\n",
       "  </tbody>\n",
       "</table>\n",
       "</div>"
      ],
      "text/plain": [
       "                                             list  len  \\\n",
       "0  hqBqJsqHhHvhHHqlBvlfpHQQwLVzVwtVzjzttjQVSjMjwL   23   \n",
       "1                        gRTRnCRsFNGbTzLjwcSTMmSz   12   \n",
       "2                          dGgsRWPGdWgZJqBBqhfpPq   11   \n",
       "3                  HNCNJHCWJRRLqNJWlfrrrwsmlwGmmf   15   \n",
       "4                      dddvLdLjdDvjvswlmGwlZQtjrt   13   \n",
       "\n",
       "                      left                    right both  \n",
       "0  hqBqJsqHhHvhHHqlBvlfpHQ  QwLVzVwtVzjzttjQVSjMjwL    Q  \n",
       "1             gRTRnCRsFNGb             TzLjwcSTMmSz    T  \n",
       "2              dGgsRWPGdWg              ZJqBBqhfpPq    P  \n",
       "3          HNCNJHCWJRRLqNJ          WlfrrrwsmlwGmmf    W  \n",
       "4            dddvLdLjdDvjv            swlmGwlZQtjrt    j  "
      ]
     },
     "execution_count": 31,
     "metadata": {},
     "output_type": "execute_result"
    }
   ],
   "source": [
    "df['both'] = df.apply(lambda x: list(set(x['left']) & set(x['right']))[0], 1)\n",
    "df.head()"
   ]
  },
  {
   "cell_type": "code",
   "execution_count": 32,
   "metadata": {},
   "outputs": [
    {
     "name": "stdout",
     "output_type": "stream",
     "text": [
      "{'a': 1, 'b': 2, 'c': 3, 'd': 4, 'e': 5, 'f': 6, 'g': 7, 'h': 8, 'i': 9, 'j': 10, 'k': 11, 'l': 12, 'm': 13, 'n': 14, 'o': 15, 'p': 16, 'q': 17, 'r': 18, 's': 19, 't': 20, 'u': 21, 'v': 22, 'w': 23, 'x': 24, 'y': 25, 'z': 26, 'A': 27, 'B': 28, 'C': 29, 'D': 30, 'E': 31, 'F': 32, 'G': 33, 'H': 34, 'I': 35, 'J': 36, 'K': 37, 'L': 38, 'M': 39, 'N': 40, 'O': 41, 'P': 42, 'Q': 43, 'R': 44, 'S': 45, 'T': 46, 'U': 47, 'V': 48, 'W': 49, 'X': 50, 'Y': 51, 'Z': 52}\n"
     ]
    }
   ],
   "source": [
    "alpha = string.ascii_lowercase + string.ascii_uppercase\n",
    "scores = dict(zip(alpha, range(1, 53)))\n",
    "print(scores)"
   ]
  },
  {
   "cell_type": "code",
   "execution_count": 33,
   "metadata": {},
   "outputs": [
    {
     "data": {
      "text/html": [
       "<div>\n",
       "<style scoped>\n",
       "    .dataframe tbody tr th:only-of-type {\n",
       "        vertical-align: middle;\n",
       "    }\n",
       "\n",
       "    .dataframe tbody tr th {\n",
       "        vertical-align: top;\n",
       "    }\n",
       "\n",
       "    .dataframe thead th {\n",
       "        text-align: right;\n",
       "    }\n",
       "</style>\n",
       "<table border=\"1\" class=\"dataframe\">\n",
       "  <thead>\n",
       "    <tr style=\"text-align: right;\">\n",
       "      <th></th>\n",
       "      <th>list</th>\n",
       "      <th>len</th>\n",
       "      <th>left</th>\n",
       "      <th>right</th>\n",
       "      <th>both</th>\n",
       "      <th>score</th>\n",
       "    </tr>\n",
       "  </thead>\n",
       "  <tbody>\n",
       "    <tr>\n",
       "      <th>0</th>\n",
       "      <td>hqBqJsqHhHvhHHqlBvlfpHQQwLVzVwtVzjzttjQVSjMjwL</td>\n",
       "      <td>23</td>\n",
       "      <td>hqBqJsqHhHvhHHqlBvlfpHQ</td>\n",
       "      <td>QwLVzVwtVzjzttjQVSjMjwL</td>\n",
       "      <td>Q</td>\n",
       "      <td>43</td>\n",
       "    </tr>\n",
       "    <tr>\n",
       "      <th>1</th>\n",
       "      <td>gRTRnCRsFNGbTzLjwcSTMmSz</td>\n",
       "      <td>12</td>\n",
       "      <td>gRTRnCRsFNGb</td>\n",
       "      <td>TzLjwcSTMmSz</td>\n",
       "      <td>T</td>\n",
       "      <td>46</td>\n",
       "    </tr>\n",
       "    <tr>\n",
       "      <th>2</th>\n",
       "      <td>dGgsRWPGdWgZJqBBqhfpPq</td>\n",
       "      <td>11</td>\n",
       "      <td>dGgsRWPGdWg</td>\n",
       "      <td>ZJqBBqhfpPq</td>\n",
       "      <td>P</td>\n",
       "      <td>42</td>\n",
       "    </tr>\n",
       "    <tr>\n",
       "      <th>3</th>\n",
       "      <td>HNCNJHCWJRRLqNJWlfrrrwsmlwGmmf</td>\n",
       "      <td>15</td>\n",
       "      <td>HNCNJHCWJRRLqNJ</td>\n",
       "      <td>WlfrrrwsmlwGmmf</td>\n",
       "      <td>W</td>\n",
       "      <td>49</td>\n",
       "    </tr>\n",
       "    <tr>\n",
       "      <th>4</th>\n",
       "      <td>dddvLdLjdDvjvswlmGwlZQtjrt</td>\n",
       "      <td>13</td>\n",
       "      <td>dddvLdLjdDvjv</td>\n",
       "      <td>swlmGwlZQtjrt</td>\n",
       "      <td>j</td>\n",
       "      <td>10</td>\n",
       "    </tr>\n",
       "  </tbody>\n",
       "</table>\n",
       "</div>"
      ],
      "text/plain": [
       "                                             list  len  \\\n",
       "0  hqBqJsqHhHvhHHqlBvlfpHQQwLVzVwtVzjzttjQVSjMjwL   23   \n",
       "1                        gRTRnCRsFNGbTzLjwcSTMmSz   12   \n",
       "2                          dGgsRWPGdWgZJqBBqhfpPq   11   \n",
       "3                  HNCNJHCWJRRLqNJWlfrrrwsmlwGmmf   15   \n",
       "4                      dddvLdLjdDvjvswlmGwlZQtjrt   13   \n",
       "\n",
       "                      left                    right both  score  \n",
       "0  hqBqJsqHhHvhHHqlBvlfpHQ  QwLVzVwtVzjzttjQVSjMjwL    Q     43  \n",
       "1             gRTRnCRsFNGb             TzLjwcSTMmSz    T     46  \n",
       "2              dGgsRWPGdWg              ZJqBBqhfpPq    P     42  \n",
       "3          HNCNJHCWJRRLqNJ          WlfrrrwsmlwGmmf    W     49  \n",
       "4            dddvLdLjdDvjv            swlmGwlZQtjrt    j     10  "
      ]
     },
     "execution_count": 33,
     "metadata": {},
     "output_type": "execute_result"
    }
   ],
   "source": [
    "df['score'] = df['both'].map(scores)\n",
    "df.head()"
   ]
  },
  {
   "cell_type": "code",
   "execution_count": 34,
   "metadata": {},
   "outputs": [
    {
     "name": "stdout",
     "output_type": "stream",
     "text": [
      "7674\n"
     ]
    }
   ],
   "source": [
    "print(sum(df['score']))"
   ]
  }
 ],
 "metadata": {
  "kernelspec": {
   "display_name": "Python 3.8.5 64-bit",
   "language": "python",
   "name": "python3"
  },
  "language_info": {
   "codemirror_mode": {
    "name": "ipython",
    "version": 3
   },
   "file_extension": ".py",
   "mimetype": "text/x-python",
   "name": "python",
   "nbconvert_exporter": "python",
   "pygments_lexer": "ipython3",
   "version": "3.8.5"
  },
  "orig_nbformat": 4,
  "vscode": {
   "interpreter": {
    "hash": "e949ccd788bb9c3a352ca3b519f08a10b81435dced42a385a6f33eb27afa8742"
   }
  }
 },
 "nbformat": 4,
 "nbformat_minor": 2
}
