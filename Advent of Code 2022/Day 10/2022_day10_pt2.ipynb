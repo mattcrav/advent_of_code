{
 "cells": [
  {
   "cell_type": "code",
   "execution_count": 25,
   "metadata": {},
   "outputs": [],
   "source": [
    "import pandas as pd\n",
    "import numpy as np"
   ]
  },
  {
   "cell_type": "code",
   "execution_count": 26,
   "metadata": {},
   "outputs": [],
   "source": [
    "# with open('2022_day10_sample.csv') as f:\n",
    "with open('2022_day10.csv') as f:\n",
    "    act = f.readlines()\n",
    "# act = [\n",
    "#     'noop',\n",
    "#     'addx 3',\n",
    "#     'addx -5'\n",
    "# ]\n",
    "# print(act)"
   ]
  },
  {
   "cell_type": "code",
   "execution_count": 27,
   "metadata": {},
   "outputs": [],
   "source": [
    "cycle, reg = 1, 1\n",
    "res = {}\n",
    "for a in act:\n",
    "    al = a.split(' ')\n",
    "    dir = al[0].replace('\\n', '')\n",
    "    if dir == 'noop':\n",
    "        res[cycle] = reg\n",
    "        cycle += 1\n",
    "    if dir == 'addx':\n",
    "        val = int(al[1].replace('\\n', ''))\n",
    "        res[cycle] = reg\n",
    "        cycle += 1\n",
    "        res[cycle] = reg\n",
    "        cycle += 1\n",
    "        reg += val\n",
    "# print(res)\n"
   ]
  },
  {
   "cell_type": "code",
   "execution_count": 28,
   "metadata": {},
   "outputs": [
    {
     "data": {
      "text/html": [
       "<div>\n",
       "<style scoped>\n",
       "    .dataframe tbody tr th:only-of-type {\n",
       "        vertical-align: middle;\n",
       "    }\n",
       "\n",
       "    .dataframe tbody tr th {\n",
       "        vertical-align: top;\n",
       "    }\n",
       "\n",
       "    .dataframe thead th {\n",
       "        text-align: right;\n",
       "    }\n",
       "</style>\n",
       "<table border=\"1\" class=\"dataframe\">\n",
       "  <thead>\n",
       "    <tr style=\"text-align: right;\">\n",
       "      <th></th>\n",
       "      <th>cycle</th>\n",
       "      <th>register</th>\n",
       "    </tr>\n",
       "  </thead>\n",
       "  <tbody>\n",
       "    <tr>\n",
       "      <th>0</th>\n",
       "      <td>1</td>\n",
       "      <td>1</td>\n",
       "    </tr>\n",
       "    <tr>\n",
       "      <th>1</th>\n",
       "      <td>2</td>\n",
       "      <td>1</td>\n",
       "    </tr>\n",
       "    <tr>\n",
       "      <th>2</th>\n",
       "      <td>3</td>\n",
       "      <td>1</td>\n",
       "    </tr>\n",
       "    <tr>\n",
       "      <th>3</th>\n",
       "      <td>4</td>\n",
       "      <td>1</td>\n",
       "    </tr>\n",
       "    <tr>\n",
       "      <th>4</th>\n",
       "      <td>5</td>\n",
       "      <td>6</td>\n",
       "    </tr>\n",
       "  </tbody>\n",
       "</table>\n",
       "</div>"
      ],
      "text/plain": [
       "   cycle  register\n",
       "0      1         1\n",
       "1      2         1\n",
       "2      3         1\n",
       "3      4         1\n",
       "4      5         6"
      ]
     },
     "execution_count": 28,
     "metadata": {},
     "output_type": "execute_result"
    }
   ],
   "source": [
    "df = pd.DataFrame({'cycle': res.keys(), 'register': res.values()})\n",
    "df.head()\n"
   ]
  },
  {
   "cell_type": "code",
   "execution_count": 29,
   "metadata": {},
   "outputs": [],
   "source": [
    "g = df['register'].to_numpy().reshape(6, 40)\n",
    "# print(g)"
   ]
  },
  {
   "cell_type": "code",
   "execution_count": 30,
   "metadata": {},
   "outputs": [],
   "source": [
    "outp = np.empty([6, 40], dtype=str)\n",
    "outp.fill('.')\n",
    "# print(outp)"
   ]
  },
  {
   "cell_type": "code",
   "execution_count": 31,
   "metadata": {},
   "outputs": [],
   "source": [
    "for x in range(g.shape[0]):\n",
    "    for y in range(g.shape[1]):\n",
    "        v = g[x, y]\n",
    "        if y >= v-1 and y <= v+1:\n",
    "            outp[x, y] = '#' "
   ]
  },
  {
   "cell_type": "code",
   "execution_count": 32,
   "metadata": {},
   "outputs": [
    {
     "name": "stdout",
     "output_type": "stream",
     "text": [
      "###..###....##.#....####.#..#.#....###..\n",
      "#..#.#..#....#.#....#....#..#.#....#..#.\n",
      "###..#..#....#.#....###..#..#.#....#..#.\n",
      "#..#.###.....#.#....#....#..#.#....###..\n",
      "#..#.#.#..#..#.#....#....#..#.#....#....\n",
      "###..#..#..##..####.#.....##..####.#....\n"
     ]
    }
   ],
   "source": [
    "for x in outp:\n",
    "    print(''.join(x))"
   ]
  }
 ],
 "metadata": {
  "kernelspec": {
   "display_name": "Python 3",
   "language": "python",
   "name": "python3"
  },
  "language_info": {
   "codemirror_mode": {
    "name": "ipython",
    "version": 3
   },
   "file_extension": ".py",
   "mimetype": "text/x-python",
   "name": "python",
   "nbconvert_exporter": "python",
   "pygments_lexer": "ipython3",
   "version": "3.8.5"
  },
  "orig_nbformat": 4,
  "vscode": {
   "interpreter": {
    "hash": "e949ccd788bb9c3a352ca3b519f08a10b81435dced42a385a6f33eb27afa8742"
   }
  }
 },
 "nbformat": 4,
 "nbformat_minor": 2
}
